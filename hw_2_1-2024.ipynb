{
 "cells": [
  {
   "cell_type": "markdown",
   "id": "20724b08-3ac7-45e2-9465-cde655fc5319",
   "metadata": {},
   "source": [
    "## Basic Data Types vs. Data Structures\n",
    "Basic Data Types: \n",
    "Integers, floats, booleans, and characters are considered basic or primitive data types. They represent single values and are the building blocks used within data structures. Integers, floats, Booleans, strings\n",
    "\n",
    "Data Structures: These are more complex organizations of data designed for efficient storage and manipulation of data collections. Data structures can be linear (like arrays, lists, stacks, and queues) or non-linear (like trees and graphs), and they can hold multiple items, often including basic data types as their elements."
   ]
  },
  {
   "cell_type": "markdown",
   "id": "bb628f9f-016c-4d8d-b31d-62b5639b1c8a",
   "metadata": {},
   "source": [
    "### What aboout strings?\n",
    "\n",
    "Strings can be viewed both as a data type and as a data structure, depending on the context of the discussion and the level of abstraction considered.\n",
    "\n",
    "\n",
    "#### Strings as a Data Type: \n",
    "In many programming languages, including Python, a string is considered a basic data type. It represents textual data, consisting of a sequence of characters. As a basic data type, strings are used to store and manipulate text, such as names, messages, or any other kind of textual information.\n",
    "\n",
    "#### Strings as a Data Structure\n",
    "Sequential Data Structure: Strings can also be viewed as a data structure, specifically a sequential or linear data structure. This perspective comes from their ability to organize data (characters) in a sequential order, supporting operations like indexing, slicing, iterating, and searching. In this sense, strings share characteristics with other sequence data structures, such as lists and arrays, but are specialized for textual content.\n",
    "\n",
    "#### Python's Approach\n",
    "In Python, strings are objects of the class str. This object-oriented approach provides strings with methods that allow them to behave like both data types (by holding textual data) and data structures (by organizing characters in sequence and supporting various operations).\n",
    "\n",
    "Python treats strings as immutable sequences, meaning once a string is created, it cannot be modified in place—any operation that modifies a string will actually create a new string. This immutability is similar to how tuples, another sequence data structure, are treated in Python, contrasting with lists, which are mutable.\n",
    "\n",
    "\n",
    "The dual nature of strings—as both a data type for text representation and a data structure for organizing a sequence of characters—highlights the versatility of strings in programming. This versatility allows for a wide range of applications, from simple text processing to complex data manipulation and analysis, making strings a fundamental aspect of software development across various programming languages, including Python."
   ]
  },
  {
   "cell_type": "markdown",
   "id": "89492aab-a066-4f15-91df-5f06cf722dd4",
   "metadata": {},
   "source": [
    "## Built in DATA STRUCTURES in Python\n",
    "\n",
    "Python offers a variety of built-in data structures, each with its unique features and uses. Here's a comprehensive list of Python's primary data structures:\n",
    "\n",
    "Built-in Data Structures\n",
    "\n",
    "**List**: An **ordered, mutable** collection of items that can be of mixed types. Lists are defined with square brackets [].\n",
    "\n",
    "**Tuple**: An **ordered, immutable** collection of items that can be of mixed types. Tuples are defined with parentheses ().\n",
    "\n",
    "**Set**: An **unordered** collection of unique items. Sets are **mutable**, do not allow duplicates, and are defined with curly braces {} or the set() function for an empty set.\n",
    "\n",
    "**Dictionary (Dict)**: A collection of key-value pairs where keys are unique. Dictionaries are **mutable and ordered** by insertion order (as of Python 3.7+). They are defined with curly braces {} with key-value pairs separated by colons.\n"
   ]
  },
  {
   "cell_type": "markdown",
   "id": "93df0af9-bc67-4b65-b1b8-3cfd735a4aa8",
   "metadata": {},
   "source": [
    "1. What does the word \"mutable\" mean in English? Is that like Teenage Mutable Ninja Turtle? Give me a definition of mutable. "
   ]
  },
  {
   "cell_type": "code",
   "execution_count": null,
   "id": "f895bfa7-557b-42a4-b7f9-14cd5f05cb91",
   "metadata": {},
   "outputs": [],
   "source": [
    "#Your answer here\n",
    "\n",
    "# Mutable means it can be changed. \n",
    "# Mutable object is an object whose value can be modified. "
   ]
  },
  {
   "cell_type": "markdown",
   "id": "15e47d62-be18-4d93-81e9-048fd6501aec",
   "metadata": {},
   "source": [
    "2. Write a function called \"translate_word\" using the googletrans package in Python. Translate the word \"mutable\" into the language of your choice. Comment each line of code that explains what each line does. If you do not, points will be deducted."
   ]
  },
  {
   "cell_type": "code",
   "execution_count": 1,
   "id": "d14c6e05-fa1e-4477-bb08-d396b6773387",
   "metadata": {},
   "outputs": [
    {
     "name": "stdout",
     "output_type": "stream",
     "text": [
      "Requirement already satisfied: googletrans==4.0.0rc1 in /Users/jiyonglee/anaconda3/lib/python3.11/site-packages (4.0.0rc1)\n",
      "Requirement already satisfied: httpx==0.13.3 in /Users/jiyonglee/anaconda3/lib/python3.11/site-packages (from googletrans==4.0.0rc1) (0.13.3)\n",
      "Requirement already satisfied: certifi in /Users/jiyonglee/anaconda3/lib/python3.11/site-packages (from httpx==0.13.3->googletrans==4.0.0rc1) (2023.11.17)\n",
      "Requirement already satisfied: hstspreload in /Users/jiyonglee/anaconda3/lib/python3.11/site-packages (from httpx==0.13.3->googletrans==4.0.0rc1) (2024.1.5)\n",
      "Requirement already satisfied: sniffio in /Users/jiyonglee/anaconda3/lib/python3.11/site-packages (from httpx==0.13.3->googletrans==4.0.0rc1) (1.2.0)\n",
      "Requirement already satisfied: chardet==3.* in /Users/jiyonglee/anaconda3/lib/python3.11/site-packages (from httpx==0.13.3->googletrans==4.0.0rc1) (3.0.4)\n",
      "Requirement already satisfied: idna==2.* in /Users/jiyonglee/anaconda3/lib/python3.11/site-packages (from httpx==0.13.3->googletrans==4.0.0rc1) (2.10)\n",
      "Requirement already satisfied: rfc3986<2,>=1.3 in /Users/jiyonglee/anaconda3/lib/python3.11/site-packages (from httpx==0.13.3->googletrans==4.0.0rc1) (1.5.0)\n",
      "Requirement already satisfied: httpcore==0.9.* in /Users/jiyonglee/anaconda3/lib/python3.11/site-packages (from httpx==0.13.3->googletrans==4.0.0rc1) (0.9.1)\n",
      "Requirement already satisfied: h11<0.10,>=0.8 in /Users/jiyonglee/anaconda3/lib/python3.11/site-packages (from httpcore==0.9.*->httpx==0.13.3->googletrans==4.0.0rc1) (0.9.0)\n",
      "Requirement already satisfied: h2==3.* in /Users/jiyonglee/anaconda3/lib/python3.11/site-packages (from httpcore==0.9.*->httpx==0.13.3->googletrans==4.0.0rc1) (3.2.0)\n",
      "Requirement already satisfied: hyperframe<6,>=5.2.0 in /Users/jiyonglee/anaconda3/lib/python3.11/site-packages (from h2==3.*->httpcore==0.9.*->httpx==0.13.3->googletrans==4.0.0rc1) (5.2.0)\n",
      "Requirement already satisfied: hpack<4,>=3.0 in /Users/jiyonglee/anaconda3/lib/python3.11/site-packages (from h2==3.*->httpcore==0.9.*->httpx==0.13.3->googletrans==4.0.0rc1) (3.0.0)\n"
     ]
    }
   ],
   "source": [
    "#Your code here: # I had done this problem before you told us to use deep_translator and hopefully what I have is fine. \n",
    "#!pip install googletrans==4.0.0-rc1\n",
    "!pip install googletrans==4.0.0rc1 # Quit kernel and installed a specific version, googletrans==4.0.0rc1 "
   ]
  },
  {
   "cell_type": "code",
   "execution_count": 109,
   "id": "b2aea10d",
   "metadata": {},
   "outputs": [],
   "source": [
    "import googletrans # import library\n",
    "from googletrans import Translator # import library\n",
    "translator = Translator() # instantiate the Translator class\n",
    "def translate_word(word, lang): # takes in parameters for a word to be translated and a language to be translated to \n",
    "    translation = translator.translate(word, dest=lang) # translates the word, which gets assigned to 'translation' \n",
    "    print(translation.text) # prints the translated text"
   ]
  },
  {
   "cell_type": "code",
   "execution_count": 110,
   "id": "1d067250",
   "metadata": {},
   "outputs": [
    {
     "name": "stdout",
     "output_type": "stream",
     "text": [
      "可変\n"
     ]
    }
   ],
   "source": [
    "translate_word('mutable', 'ja')"
   ]
  },
  {
   "cell_type": "markdown",
   "id": "5dbc120f-481d-4f99-871b-02200ac49345",
   "metadata": {},
   "source": [
    "3. Of the built-in data structures, which are mutable?"
   ]
  },
  {
   "cell_type": "code",
   "execution_count": null,
   "id": "a85885ae-3878-4bbb-a464-0711b08f8163",
   "metadata": {},
   "outputs": [],
   "source": [
    "#Your answer here:\n",
    "# list, dictionary, set"
   ]
  },
  {
   "cell_type": "markdown",
   "id": "4c805ee3",
   "metadata": {},
   "source": [
    "4. Of the built-in data structures, which are immutable?"
   ]
  },
  {
   "cell_type": "code",
   "execution_count": null,
   "id": "e17f100d-1b4d-421a-98f9-52d149d28cc0",
   "metadata": {},
   "outputs": [],
   "source": [
    "#Your answer here:\n",
    "# str, tuple"
   ]
  },
  {
   "cell_type": "markdown",
   "id": "b120f933",
   "metadata": {},
   "source": [
    "5. Of the built in data structures, which are ordered? What does that mean? Give me an example.\n",
    "list is ordered??"
   ]
  },
  {
   "cell_type": "markdown",
   "id": "2ad0ae4b-a9b2-490b-834a-b899cb2c6611",
   "metadata": {},
   "source": [
    "a.What does that mean?\n",
    "Explain here:\n"
   ]
  },
  {
   "cell_type": "code",
   "execution_count": 104,
   "id": "5bab478a-f85b-46ed-b571-678844c1cfdf",
   "metadata": {},
   "outputs": [
    {
     "name": "stdout",
     "output_type": "stream",
     "text": [
      "6\n",
      "9\n",
      "8\n"
     ]
    }
   ],
   "source": [
    "# Which are ordered?\n",
    "# list, tuple, dictionary (not set)\n",
    "\n",
    "# Wht does that mean?\n",
    "# Elements in data structures have orderings and can be accessed by its index.\n",
    "\n",
    "#b Give an example\n",
    "#Your code here:\n",
    "list0=[6,9,8] \n",
    "print(list0[0])\n",
    "print(list0[1])\n",
    "print(list0[2])"
   ]
  },
  {
   "cell_type": "markdown",
   "id": "7ed5f693-0bdd-4358-a2c4-6949aa195a0b",
   "metadata": {},
   "source": [
    "6. So, wait...you mean a set is unordered? True of False I set a set equal to a variable it might print differently each time"
   ]
  },
  {
   "cell_type": "raw",
   "id": "6ff29422-0955-4f77-a4d6-11bc13792961",
   "metadata": {},
   "source": [
    "Your answer here: \n",
    "As long as a set contains same set of elements, the sets are the same.\n",
    "False: It is printed in the same order every time as long as the elments are the same. "
   ]
  },
  {
   "cell_type": "markdown",
   "id": "862cea8e-739d-4b1d-b5f0-36ca90bda018",
   "metadata": {},
   "source": [
    "7. Prove your answer above with examples that provide compelling if not conslusive evidence:"
   ]
  },
  {
   "cell_type": "code",
   "execution_count": 108,
   "id": "b1277d43-65ab-4feb-8f33-b1543bdf59ae",
   "metadata": {},
   "outputs": [
    {
     "name": "stdout",
     "output_type": "stream",
     "text": [
      "{9, 5, 6}\n",
      "{9, 5, 6}\n",
      "{9, 10, 5, 6}\n",
      "{9, 10, 5, 6}\n"
     ]
    }
   ],
   "source": [
    "#Your code here:\n",
    "a = {6, 9, 5}\n",
    "print(a) \n",
    "print(a) # Prints out in the same order as the first time (but different from when it was assined to 'a')\n",
    "a.add(10)\n",
    "print(a) \n",
    "print(a) \n",
    "# Ordering is different from when 'a' had three elements, \n",
    "# but once an element is added, the ordering does not change\n",
    "\n",
    "# a[1] - there is no index in a set "
   ]
  },
  {
   "cell_type": "markdown",
   "id": "0a57ad25-f7b7-4b11-8812-b5dda6af2f3f",
   "metadata": {},
   "source": [
    "## Extended Data Structures:\n",
    "\n",
    "Python's versatility and richness mean there are indeed more types and structures, especially when considering broader usage contexts, including those provided by standard libraries beyond the built-in and collections modules.\n",
    "\n",
    "(You won't have to worry about these, but I wanted you to see them)\n",
    "\n",
    "Bytes and Byte Arrays: Used for binary data manipulation. bytes are immutable, and bytearray are mutable.\n",
    "\n",
    "MemoryView: A memoryview object allows Python code to access the internal data of an object that supports the buffer protocol without copying. This is a more advanced feature used for direct memory access and manipulation.\n",
    "\n",
    "Arrays (from the array module): Provides a space-efficient way to store C-type data structures. Good for large arrays of basic C-type data where lists would be memory-inefficient.\n",
    "\n",
    "Structs (from the struct module): Allows for packing and unpacking data to and from C-like structs, useful for binary data processing and interfacing with C code.\n",
    "\n",
    "Queues (from the queue module): Provides thread-safe classes for multi-threading programming, including FIFO (queue.Queue), LIFO (queue.LifoQueue), and priority queues (queue.PriorityQueue).\n",
    "\n",
    "Linked Lists, Trees, Graphs: Not provided as built-in data structures in Python but can be implemented using classes or using collections like lists and dictionaries for their representation.\n",
    "\n",
    "These are the ones you'll see:\n",
    "\n",
    "**Strings**: As we discussed, strings are sequential collections of characters, fundamental for text processing.\n",
    "\n",
    "**DataFrames (from pandas library)**: While not part of Python's standard library, pandas DataFrames are crucial in data science and analytics for structured data manipulation and analysis.\n",
    "\n",
    "**Arrays (from numpy library)**(: Similar to pandas, numpy arrays are not built-in but are essential in scientific computing for efficient array and matrix operations.\n",
    "\n"
   ]
  },
  {
   "cell_type": "markdown",
   "id": "ad055f0a-6de3-48df-b1f2-db098e7c35aa",
   "metadata": {},
   "source": [
    "## LISTS\n"
   ]
  },
  {
   "cell_type": "markdown",
   "id": "84fd5405-12a2-446a-b904-d0888f13d2bf",
   "metadata": {},
   "source": [
    "\n",
    "International development economics often involves analyzing data to understand and address global economic disparities, poverty, and development challenges.\n",
    "\n",
    "Lists can be used to store, manipulate, and analyze this data in complex ways. Here are three examples of complex uses of lists involving international development economics data:\n",
    "\n",
    "#### Multidimensional Lists for Storing Country Profiles\n",
    "A multidimensional list can store comprehensive economic profiles of countries, including metrics like GDP, poverty rate, literacy rate, and unemployment rate. Each sublist represents a country, with elements corresponding to different economic indicators.\n"
   ]
  },
  {
   "cell_type": "code",
   "execution_count": null,
   "id": "04bd5ef7-933b-4f63-a9ac-b4d4bfb174e8",
   "metadata": {},
   "outputs": [],
   "source": [
    "countries = [\n",
    "    [\"Country A\", 300000000, 15.2, 98.5, 4.2],  # [Country Name, GDP (USD), Poverty Rate (%), Literacy Rate (%), Unemployment Rate (%)]\n",
    "    [\"Country B\", 1200000000, 29.1, 88.0, 9.8],\n",
    "    [\"Country C\", 450000000, 5.4, 99.2, 3.5]\n",
    "]\n"
   ]
  },
  {
   "cell_type": "markdown",
   "id": "355e0ac0-2a54-42bc-8030-cce5b74974ef",
   "metadata": {},
   "source": [
    "8. Select FIVE countries using OECD data: https://stats.oecd.org/ Create a multidimensional list with the name of the country first, then GDP, and then 3 other metrics of your choosing. Assign them to the variable \"countries_list1\"."
   ]
  },
  {
   "cell_type": "code",
   "execution_count": 606,
   "id": "9313fd19-6136-477a-8238-e77207aaa375",
   "metadata": {},
   "outputs": [],
   "source": [
    "#Your code here\n",
    "# manually ??\n",
    "# in 2019\n",
    "# GDP, USD PPP converted, current prices, in millions\n",
    "# R&D in USD in millions \n",
    "# educational expenditure as percentage of GDP, government \n",
    "# average annual wages in 2019, USD, PPP converted, 2022\n",
    "\n",
    "# exchange rate\n",
    "countries_list1 = [\n",
    "    [\"Korea\", 2270666.1, 834.9, 4.0, 47207],  #83494247265\n",
    "    [\"Japan\", 5404462.3, 1363.6, 2.8, 41699], #136358260760\n",
    "    [\"United States\", 21521395.0, 5032.0, 4.1, 73194], #503201000000\n",
    "    [\"Switzerland\", 632274.5, 134.3, 4.4, 71189], #13433548811\n",
    "    [\"Greece\", 338922.2, 19.6, 3.7, 27615] #1963784502\n",
    "] # [Country Name, GDP (USD), Poverty Rate (%), Literacy Rate (%), Unemployment Rate (%)]"
   ]
  },
  {
   "cell_type": "markdown",
   "id": "2b9ca31c-5aaa-4a08-bf64-3fd456f14dd2",
   "metadata": {},
   "source": [
    "9. Write code that sorts the list alphabetically by country."
   ]
  },
  {
   "cell_type": "code",
   "execution_count": 607,
   "id": "1a968e25-a511-4bfa-938e-1392355ac2b7",
   "metadata": {},
   "outputs": [
    {
     "data": {
      "text/plain": [
       "[['Greece', 338922.2, 19.6, 3.7, 27615],\n",
       " ['Japan', 5404462.3, 1363.6, 2.8, 41699],\n",
       " ['Korea', 2270666.1, 834.9, 4.0, 47207],\n",
       " ['Switzerland', 632274.5, 134.3, 4.4, 71189],\n",
       " ['United States', 21521395.0, 5032.0, 4.1, 73194]]"
      ]
     },
     "execution_count": 607,
     "metadata": {},
     "output_type": "execute_result"
    }
   ],
   "source": [
    "#Your code here:\n",
    "sorted(countries_list1)"
   ]
  },
  {
   "cell_type": "markdown",
   "id": "8172ac3d",
   "metadata": {},
   "source": [
    "10. Write code that sorts the list in some other way (example, GDP, or Poverty Rate."
   ]
  },
  {
   "cell_type": "code",
   "execution_count": 608,
   "id": "1741b183-98b1-47fc-9ac9-a246998f24d0",
   "metadata": {},
   "outputs": [
    {
     "data": {
      "text/plain": [
       "[['Greece', 338922.2, 19.6, 3.7, 27615],\n",
       " ['Switzerland', 632274.5, 134.3, 4.4, 71189],\n",
       " ['Korea', 2270666.1, 834.9, 4.0, 47207],\n",
       " ['Japan', 5404462.3, 1363.6, 2.8, 41699],\n",
       " ['United States', 21521395.0, 5032.0, 4.1, 73194]]"
      ]
     },
     "execution_count": 608,
     "metadata": {},
     "output_type": "execute_result"
    }
   ],
   "source": [
    "#Your code here:\n",
    "# sorts by \n",
    "sorted(countries_list1, key=lambda x : x[1]) # what are key and lambda doing?"
   ]
  },
  {
   "cell_type": "markdown",
   "id": "526e5e6f",
   "metadata": {},
   "source": [
    "11. Write code that calculates the average GDP and assign to a new variable"
   ]
  },
  {
   "cell_type": "code",
   "execution_count": 609,
   "id": "0eaec3d2-edd3-4108-af11-dc0d7c34a03c",
   "metadata": {},
   "outputs": [
    {
     "name": "stdout",
     "output_type": "stream",
     "text": [
      "6033544.02\n"
     ]
    }
   ],
   "source": [
    "#Your code here: \n",
    "j=0\n",
    "sum0=0\n",
    "for i in countries_list1:\n",
    "    while j < len(countries_list1):\n",
    "        sum0+=countries_list1[j][1]\n",
    "        j+=1\n",
    "avg_gdp = sum0/5\n",
    "print(avg_gdp)"
   ]
  },
  {
   "cell_type": "markdown",
   "id": "0cc726f3-1370-477e-8f48-b2438a0d8c28",
   "metadata": {},
   "source": [
    "12. Write code that iterates through the GDP element (for loop), filters out the country with the highest and lowest GDP and appends them to two empty lists, one called \"highest_GDP\" the other called \"lowest_GDP\"\n",
    " "
   ]
  },
  {
   "cell_type": "code",
   "execution_count": 610,
   "id": "16594f8e-ec2a-4af0-970a-840356a14fb6",
   "metadata": {},
   "outputs": [
    {
     "name": "stdout",
     "output_type": "stream",
     "text": [
      "[2270666.1, 5404462.3, 21521395.0, 632274.5, 338922.2]\n"
     ]
    }
   ],
   "source": [
    "#Your code here:\n",
    "j=0\n",
    "sum0=[]\n",
    "for i in countries_list1:\n",
    "    while j < len(countries_list1):\n",
    "        sum0.append(countries_list1[j][1])\n",
    "        j+=1\n",
    "print(sum0)"
   ]
  },
  {
   "cell_type": "code",
   "execution_count": 611,
   "id": "5e625fde",
   "metadata": {},
   "outputs": [
    {
     "name": "stdout",
     "output_type": "stream",
     "text": [
      "[21521395.0]\n",
      "[338922.2]\n"
     ]
    }
   ],
   "source": [
    "sum1 = sorted(sum0)\n",
    "highest_GDP=[]\n",
    "lowest_GDP=[]\n",
    "highest_GDP.append(sum1[-1])\n",
    "lowest_GDP.append(sum1[0])\n",
    "print(highest_GDP)\n",
    "print(lowest_GDP)"
   ]
  },
  {
   "cell_type": "markdown",
   "id": "2610e9bf-4de1-4626-9458-475ed1db8528",
   "metadata": {},
   "source": [
    "#### Time Series Analysis with Nested Lists\n",
    "For analyzing economic trends over time, a nested list structure can be used where each sublist contains time series data for a specific economic indicator across different years."
   ]
  },
  {
   "cell_type": "code",
   "execution_count": null,
   "id": "0d2b6098-cdbc-4fc8-89c7-504dd3a51ced",
   "metadata": {},
   "outputs": [],
   "source": [
    "# For example:\n",
    "gdp_growth = [[\"Country A\", [2.5, 3.0, 2.8, 3.2, 3.5]],  # [Country Name, [Growth Rate (%) over 5 years]]\n",
    "    [\"Country B\", [6.5, 7.0, 7.2, 7.5, 7.8]],\n",
    "    [\"Country C\", [1.2, 1.5, 1.7, 1.9, 2.1]]"
   ]
  },
  {
   "cell_type": "markdown",
   "id": "19f8411a-a00a-4c15-aa39-3f5e10355fd2",
   "metadata": {},
   "source": [
    "13. Using the OECD data, provide actual countries and use the nested list structure to capture time series data to demonstrate a trend over time of some key metric of your choosing."
   ]
  },
  {
   "cell_type": "code",
   "execution_count": 612,
   "id": "14b5a70b-5a5b-4202-ac3d-5e1335cd1945",
   "metadata": {},
   "outputs": [],
   "source": [
    "#Your code here:\n",
    "# R&D in current prices; national currency; 2015-2020\n",
    "\n",
    "RD = [[\"Japan\", [13685745000000, 13318291000000, 13798898000000, 14231616000000, 14212065000000, 13860823000000]],  \n",
    "    [\"Korea\", [51136420500000, 53952471260000, 62563446960000, 68834432330000, 71506662118000, 73599778040000]],\n",
    "    [\"United States\", [367312000000, 385492000000, 410910000000, 453334000000, 503201000000, 549141000000]]]"
   ]
  },
  {
   "cell_type": "code",
   "execution_count": 613,
   "id": "fb068101",
   "metadata": {},
   "outputs": [
    {
     "data": {
      "text/plain": [
       "[['Japan', [-0.03, 0.04, 0.03, -0.0, -0.02]],\n",
       " ['Korea', [0.06, 0.16, 0.1, 0.04]],\n",
       " ['United States', [0.05, 0.07, 0.1, 0.11]]]"
      ]
     },
     "execution_count": 613,
     "metadata": {},
     "output_type": "execute_result"
    }
   ],
   "source": [
    "## demonstrate a trend over time\n",
    "# [Country Name, [Growth Rate (%) over 5 years]]\n",
    "j=0\n",
    "RD1=RD \n",
    "list_rates = []\n",
    "while j<len(RD): # up to j=2\n",
    "    i=1\n",
    "    list0=[] \n",
    "    while i<len(RD[0][1]): # i<6\n",
    "        growth_rate = (RD[j][1][i] - RD[j][1][i-1]) / RD[j][1][i-1]\n",
    "        growth_rate = round(growth_rate, 2)\n",
    "        list0.append(growth_rate)\n",
    "        i+=1\n",
    "    RD1[j][1]=list0\n",
    "    j+=1\n",
    "RD1  "
   ]
  },
  {
   "cell_type": "markdown",
   "id": "d0ff644f-acac-4c3a-aef6-ced4150d688b",
   "metadata": {},
   "source": [
    "14. Nested Loops for Data Aggregation Across Multiple Dimensions\n",
    "    \n",
    "For more comprehensive data analysis, you might encounter situations where you need to aggregate data across multiple dimensions within nested lists, such as summing values by category across different groups."
   ]
  },
  {
   "cell_type": "markdown",
   "id": "f75ee971-70ad-41fb-922e-70744059d4f0",
   "metadata": {},
   "source": [
    "**Example: Aggregating Poverty Rate Changes by Region**\n",
    "\n",
    "Suppose we have a dataset that records annual poverty rates for various countries, categorized by region. The goal is to calculate the average change in poverty rates for each region over a given period.\n",
    "\n",
    "**Dataset Structure:**\n",
    "\n",
    "Each entry in the dataset is a list with the following structure: [Region, Country, Year, Poverty Rate].\n",
    "The dataset is a nested list, with each sublist representing a year's data for a country in a specific region.\n",
    "\n",
    "**Task:**\n",
    "Calculate the average change in poverty rates for each region over the dataset's span.\n",
    "Assume poverty rates are provided for a span of 5 years."
   ]
  },
  {
   "cell_type": "code",
   "execution_count": 569,
   "id": "ac23e1bf-40ca-434d-9987-55929008fb63",
   "metadata": {},
   "outputs": [
    {
     "name": "stdout",
     "output_type": "stream",
     "text": [
      "{'Sub-Saharan Africa': {'total_change': -3.0, 'count': 2, 'previous_rate': 42.0}, 'South Asia': {'total_change': -3.0, 'count': 2, 'previous_rate': 47.0}}\n",
      "{'Sub-Saharan Africa': -1.5, 'South Asia': -1.5}\n"
     ]
    }
   ],
   "source": [
    "#Example code solution: \n",
    "data = [\n",
    "    [\"Sub-Saharan Africa\", \"Country A\", 2000, 45.0],\n",
    "    [\"Sub-Saharan Africa\", \"Country A\", 2001, 43.5],\n",
    "    [\"Sub-Saharan Africa\", \"Country A\", 2002, 42.0],\n",
    "    [\"South Asia\", \"Country B\", 2000, 50.0],\n",
    "    [\"South Asia\", \"Country B\", 2001, 48.5],\n",
    "    [\"South Asia\", \"Country B\", 2002, 47.0],\n",
    "    # More data follows...\n",
    "]\n",
    "\n",
    "# Initialize a dictionary to keep track of total change and counts for each region\n",
    "region_changes = {}\n",
    "\n",
    "for entry in data:\n",
    "    region, country, year, rate = entry #####\n",
    "    if region not in region_changes:\n",
    "        region_changes[region] = {\"total_change\": 0, \"count\": 0, \"previous_rate\": rate}\n",
    "    else:\n",
    "        change = rate - region_changes[region][\"previous_rate\"]\n",
    "        region_changes[region][\"total_change\"] += change\n",
    "        region_changes[region][\"count\"] += 1\n",
    "        region_changes[region][\"previous_rate\"] = rate\n",
    "#print(region_changes)\n",
    "\n",
    "# Calculate average change for each region\n",
    "average_changes = {region: changes[\"total_change\"] / changes[\"count\"] for region, changes in region_changes.items() if changes[\"count\"] > 0}\n",
    "\n",
    "print(average_changes)\n"
   ]
  },
  {
   "cell_type": "markdown",
   "id": "c0c983df-7977-4bd7-b81b-02d230abda01",
   "metadata": {},
   "source": [
    "15. Pick 9 countries, 3 each from three different regions of the world. Calculate the average change in unemployment rates (or any rate of your choosing) over a 5 year period. Comment each line of code and describe what you are doing in each."
   ]
  },
  {
   "cell_type": "code",
   "execution_count": 20,
   "id": "e173849a",
   "metadata": {},
   "outputs": [],
   "source": [
    "data = [\n",
    "    [\"Northern Europe\", \"France\", 2018, 9.0],\n",
    "    [\"Northern Europe\", \"France\", 2019, 8.4],\n",
    "    [\"Northern Europe\", \"France\", 2020, 8.0],\n",
    "    [\"Northern Europe\", \"France\", 2021, 7.9],\n",
    "    [\"Northern Europe\", \"France\", 2022, 7.3], \n",
    "    \n",
    "    [\"Northern Europe\", \"Germany\", 2018, 3.2],\n",
    "    [\"Northern Europe\", \"Germany\", 2019, 3.0],\n",
    "    [\"Northern Europe\", \"Germany\", 2020, 3.6],\n",
    "    [\"Northern Europe\", \"Germany\", 2021, 3.6],\n",
    "    [\"Northern Europe\", \"Germany\", 2022, 3.1],\n",
    "    \n",
    "    [\"Northern Europe\", \"Netherlands\", 2018, 4.9],\n",
    "    [\"Northern Europe\", \"Netherlands\", 2019, 4.4],\n",
    "    [\"Northern Europe\", \"Netherlands\", 2020, 4.9],\n",
    "    [\"Northern Europe\", \"Netherlands\", 2021, 4.2],\n",
    "    [\"Northern Europe\", \"Netherlands\", 2022, 3.5],\n",
    "    \n",
    "    [\"Latin America\", \"Costa Rica\", 2018, 10.3],\n",
    "    [\"Latin America\", \"Costa Rica\", 2019, 11.8],\n",
    "    [\"Latin America\", \"Costa Rica\", 2020, 19.6],\n",
    "    [\"Latin America\", \"Costa Rica\", 2021, 16.4],\n",
    "    [\"Latin America\", \"Costa Rica\", 2022, 12.2], \n",
    "    \n",
    "    [\"Latin America\", \"Mexico\", 2018, 3.3],\n",
    "    [\"Latin America\", \"Mexico\", 2019, 3.5],\n",
    "    [\"Latin America\", \"Mexico\", 2020, 4.4],\n",
    "    [\"Latin America\", \"Mexico\", 2021, 4.1],\n",
    "    [\"Latin America\", \"Mexico\", 2022, 3.3],\n",
    "    \n",
    "    [\"Latin America\", \"Chile\", 2018, 7.4],\n",
    "    [\"Latin America\", \"Chile\", 2019, 7.2],\n",
    "    [\"Latin America\", \"Chile\", 2020, 10.8],\n",
    "    [\"Latin America\", \"Chile\", 2021, 8.9],\n",
    "    [\"Latin America\", \"Chile\", 2022, 7.9],\n",
    "    \n",
    "    [\"Southern Europe\", \"Spain\", 2018, 15.3],\n",
    "    [\"Southern Europe\", \"Spain\", 2019, 14.1],\n",
    "    [\"Southern Europe\", \"Spain\", 2020, 15.5],\n",
    "    [\"Southern Europe\", \"Spain\", 2021, 14.8],\n",
    "    [\"Southern Europe\", \"Spain\", 2022, 12.9],\n",
    "    \n",
    "    [\"Southern Europe\", \"Greece\", 2018, 19.7],\n",
    "    [\"Southern Europe\", \"Greece\", 2019, 17.9],\n",
    "    [\"Southern Europe\", \"Greece\", 2020, 17.6],\n",
    "    [\"Southern Europe\", \"Greece\", 2021, 14.8],\n",
    "    [\"Southern Europe\", \"Greece\", 2022, 12.5],\n",
    "    \n",
    "    [\"Southern Europe\", \"Portugal\", 2018, 7.2],\n",
    "    [\"Southern Europe\", \"Portugal\", 2019, 6.7],\n",
    "    [\"Southern Europe\", \"Portugal\", 2020, 7.1],\n",
    "    [\"Southern Europe\", \"Portugal\", 2021, 6.7],\n",
    "    [\"Southern Europe\", \"Portugal\", 2022, 6.2]\n",
    "]"
   ]
  },
  {
   "cell_type": "code",
   "execution_count": 26,
   "id": "3366f3ea",
   "metadata": {},
   "outputs": [
    {
     "name": "stdout",
     "output_type": "stream",
     "text": [
      "Northern Europe\n",
      "0.9266666666666667\n",
      "Latin America\n",
      "1.5599999999999998\n",
      "Southern Europe\n",
      "2.106666666666667\n"
     ]
    }
   ],
   "source": [
    "#Your code here:\n",
    "unem_change = {}\n",
    "\n",
    "# Nested dictionary \n",
    "for entry in data: # Iterate through each list in a list \n",
    "    region, country, year, value = entry # Specify what each element in a list is\n",
    "\n",
    "    if region not in unem_change: # If a region does not already exist in dictionary (in region key)\n",
    "        unem_change[region] = {} # Initialize a corresponding value, 'Southern Europe': {}\n",
    "        \n",
    "    \n",
    "    if country not in unem_change[region]: # If a country does not already exist in dictionary (in country key)\n",
    "        # Create a dictionary (with keys and values) for each new country \n",
    "        # 'Spain': {'total_change': 12.9, 'count': 5, 'previous_rate': 12.9\n",
    "        unem_change[region][country] = {'total_change': 0, 'count': 0, 'previous_rate': 0}\n",
    "        \n",
    "    change = value - unem_change[region][country]['previous_rate'] # Calculate the change from the prev year\n",
    "    unem_change[region][country]['total_change'] += change # Keep adding the changes to get total change \n",
    "    unem_change[region][country]['count'] += 1 # Keep track of how many years of data \n",
    "    unem_change[region][country]['previous_rate'] = value # Hold previous rate to calculate the change \n",
    "        \n",
    "avg_change = {} # Create an empty dictionary \n",
    "\n",
    "for region, country in unem_change.items(): # Iterate over region and country \n",
    "    print(region)\n",
    "    i=0\n",
    "    j=0\n",
    "    for country, changes in country.items(): # Iterate over country and its total changes (over 5 years)\n",
    "        each_country_avg = changes['total_change']/changes['count'] # Average changes for each country \n",
    "        \n",
    "        i+=each_country_avg # Keep adding to get total average changes for each region \n",
    "        j+=1 # Count the number of countries in each region \n",
    "\n",
    "    region_average = i/j # Dividing total average changes for each country by the number of countries \n",
    "    print(region_average)"
   ]
  },
  {
   "cell_type": "markdown",
   "id": "bdea7c22-c5f4-480d-a26e-aa25849affa3",
   "metadata": {},
   "source": [
    "#### Dictionaries\n",
    "If you are thinking, \"wait...these previous excercises using nested lists could also be represented using key:value pairs using Python's dictionary data type.\" Well...you would be right! \n",
    "\n",
    "What is a dictionary? \n",
    "\n",
    "A Python dictionary is a built-in data type that allows for storing a collection of key-value pairs. Dictionaries in Python are mutable, meaning they can be changed after they are created. They are written with curly braces {}, with each key-value pair separated by a colon : and each item separated by commas.\n",
    "\n",
    "Key Characteristics of Python Dictionaries:\n",
    "\n",
    "Unordered: Before Python 3.7, dictionaries were considered unordered, meaning that the order in which key-value pairs were added could not be relied upon when accessing them. From Python 3.7 onwards, dictionaries preserve the insertion order, although this should not be a primary feature relied upon for most programming needs.\n",
    "\n",
    "Mutable: You can add, remove, and change values after the dictionary has been created.\n",
    "Indexed by keys: Values in a dictionary are accessed using keys. These keys must be unique within a single dictionary and immutable (which means you can use strings, numbers, or tuples as dictionary keys, as long as the tuples contain only immutable elements).\n",
    "\n",
    "Dynamic: Dictionaries can grow and shrink as needed, and they can be nested, meaning a dictionary can contain another dictionary as a value, allowing for complex data structures.\n"
   ]
  },
  {
   "cell_type": "code",
   "execution_count": 27,
   "id": "9a88cc92-f960-4558-ace4-b1f8b90bdb68",
   "metadata": {},
   "outputs": [
    {
     "name": "stdout",
     "output_type": "stream",
     "text": [
      "value1\n",
      "key1 new value\n",
      "key2 value2\n",
      "key1 exists in the dictionary.\n"
     ]
    }
   ],
   "source": [
    "#Basic Operations:\n",
    "#Creating a Dictionary:\n",
    "\n",
    "my_dict = {\"key1\": \"value1\", \"key2\": \"value2\"}\n",
    "\n",
    "#Accessing Values:\n",
    "\n",
    "print(my_dict[\"key1\"])  # Outputs: value1\n",
    "\n",
    "#Adding or Updating Values:\n",
    "\n",
    "my_dict[\"key3\"] = \"value3\"  # Adds a new key-value pair\n",
    "my_dict[\"key1\"] = \"new value\"  # Updates the value for key1\n",
    "\n",
    "#Removing Key-Value Pairs:\n",
    "\n",
    "del my_dict[\"key3\"]  # Removes the key \"key3\" and its associated value\n",
    "\n",
    "#Iterating Through a Dictionary:\n",
    "\n",
    "for key, value in my_dict.items():\n",
    "    print(key, value)\n",
    "    \n",
    "#Checking if a Key Exists:\n",
    "\n",
    "if \"key1\" in my_dict:\n",
    "    print(\"key1 exists in the dictionary.\")"
   ]
  },
  {
   "cell_type": "markdown",
   "id": "598d329d-891e-47e2-b827-9ef30423b867",
   "metadata": {},
   "source": [
    "16. Write code that takes the nested list in problem #8 and rewrites them as a list of dictionary key value pairs. Save them as \"countries_dict\" Hint: To transfer the nested list countries into a list of dictionaries where each dictionary represents a country and its economic indicators as key-value pairs, you can use a for loop to iterate through each sublist and construct a dictionary for each."
   ]
  },
  {
   "cell_type": "code",
   "execution_count": 30,
   "id": "adcbb431-2d4e-475a-8394-8b294fe3af4e",
   "metadata": {},
   "outputs": [
    {
     "data": {
      "text/plain": [
       "{'Korea': [2270666.1, 834.9, 4.0, 47207],\n",
       " 'Japan': [5404462.3, 1363.6, 2.8, 41699],\n",
       " 'United States': [21521395.0, 5032.0, 4.1, 73194],\n",
       " 'Switzerland': [632274.5, 134.3, 4.4, 71189],\n",
       " 'Greece': [338922.2, 19.6, 3.7, 27615]}"
      ]
     },
     "execution_count": 30,
     "metadata": {},
     "output_type": "execute_result"
    }
   ],
   "source": [
    "#Your code here:\n",
    "countries_list1 = [\n",
    "    [\"Korea\", 2270666.1, 834.9, 4.0, 47207],  #83494247265\n",
    "    [\"Japan\", 5404462.3, 1363.6, 2.8, 41699], #136358260760\n",
    "    [\"United States\", 21521395.0, 5032.0, 4.1, 73194], #503201000000\n",
    "    [\"Switzerland\", 632274.5, 134.3, 4.4, 71189], #13433548811\n",
    "    [\"Greece\", 338922.2, 19.6, 3.7, 27615] #1963784502\n",
    "]\n",
    "\n",
    "# Want sth like this:\n",
    "'''countries_list1 = {\n",
    "    {\"Country A\" : [300000000, 15.2, 98.5, 4.2],  \n",
    "    {\"Country B\", [1200000000, 29.1, 88.0, 9.8]\n",
    "}'''\n",
    "\n",
    "countries_dict = {}\n",
    "for sublist in countries_list1:\n",
    "     #if country not in dict0:\n",
    "    country = sublist[0]\n",
    "    del sublist[0]\n",
    "    # key: value is country : sublist\n",
    "    \n",
    "    countries_dict[country] = sublist\n",
    "    \n",
    "countries_dict"
   ]
  },
  {
   "cell_type": "markdown",
   "id": "a51e4e15-451c-4db3-bcd2-0318756541d7",
   "metadata": {},
   "source": [
    "17. Add a new value of your choosing to the countries_dict list of key value pairs from the OECD data."
   ]
  },
  {
   "cell_type": "code",
   "execution_count": 31,
   "id": "78e98bf1-3e94-4a48-b194-5f728a52cff0",
   "metadata": {},
   "outputs": [
    {
     "data": {
      "text/plain": [
       "{'Korea': [2270666.1, 834.9, 4.0, 47207, 100400.0],\n",
       " 'Japan': [5404462.3, 1363.6, 2.8, 41699, 377974.0],\n",
       " 'United States': [21521395.0, 5032.0, 4.1, 73194, 831510.0],\n",
       " 'Switzerland': [632274.5, 134.3, 4.4, 71189, 41290.7],\n",
       " 'Greece': [338922.2, 19.6, 3.7, 27615, 131960]}"
      ]
     },
     "execution_count": 31,
     "metadata": {},
     "output_type": "execute_result"
    }
   ],
   "source": [
    "#Your code here:\n",
    "countries_dict1 = countries_dict\n",
    "\n",
    "rand_list = [100400.0, 377974.0, 831510.0, 41290.7, 131960] # Agricultural outlook, land use, sq kilometers\n",
    "# estimated values for Greece and US\n",
    "i=0\n",
    "\n",
    "for keys in countries_dict1:\n",
    "    # add a value to list of values\n",
    "    countries_dict1[keys].append(rand_list[i])\n",
    "    i+=1\n",
    "countries_dict1"
   ]
  },
  {
   "cell_type": "markdown",
   "id": "266de328-cf77-4af4-9c4c-6617689577a5",
   "metadata": {},
   "source": [
    "18. Oh no!  You just got the call from the chief economist, and the reported data was incorrect. They forgot to count an entire region when they calculated the second country in your list. Change the GDP value of your second country adding 10% to the GDP total for that country."
   ]
  },
  {
   "cell_type": "code",
   "execution_count": 32,
   "id": "43d6cfaf-c32e-4424-8202-cba5dc4d3b80",
   "metadata": {},
   "outputs": [
    {
     "data": {
      "text/plain": [
       "[5944908.53, 1363.6, 2.8, 41699, 377974.0]"
      ]
     },
     "execution_count": 32,
     "metadata": {},
     "output_type": "execute_result"
    }
   ],
   "source": [
    "#Your code here:\n",
    "countries_dict2 = countries_dict1\n",
    "\n",
    "#for countries in countries_dict2:\n",
    "    #print(countries_dict2[countries])\n",
    "countries_dict2['Japan'][0] = countries_dict2['Japan'][0] * 1.1 ## READ QUESTION AGAIN\n",
    "countries_dict2['Japan']"
   ]
  },
  {
   "cell_type": "markdown",
   "id": "5d3dac27-1eba-45da-a943-7c8d15058877",
   "metadata": {},
   "source": [
    "#### Functions\n",
    "Creating functions in Python is a fundamental aspect of the language, allowing for code reuse, organization, and readability. Functions enable you to encapsulate a block of code that performs a specific task and can be executed whenever the function is called. Here's a basic overview of how to define and use functions in Python:\n",
    "\n",
    "**Defining a Function**\n",
    "A function is defined using the def keyword, followed by the function name, parentheses (), and a colon :. Inside the parentheses, you can optionally include parameters (also known as arguments) that the function can accept. The function's code block starts on the next line and must be indented.\n"
   ]
  },
  {
   "cell_type": "code",
   "execution_count": 33,
   "id": "8570c5ac-f508-4cc1-8647-720d01cf1cbe",
   "metadata": {},
   "outputs": [],
   "source": [
    "def my_function():\n",
    "\n",
    "    print(\"Hello from a function!\")"
   ]
  },
  {
   "cell_type": "markdown",
   "id": "6238d503",
   "metadata": {},
   "source": [
    "**Calling a Function**\n",
    "\n",
    "To call (execute) the function, use the function name followed by parentheses. If the function accepts parameters, you'll provide the arguments inside these parentheses.\n"
   ]
  },
  {
   "cell_type": "code",
   "execution_count": 34,
   "id": "a79d16df-74a6-4690-98d6-5fd33b75a800",
   "metadata": {},
   "outputs": [
    {
     "name": "stdout",
     "output_type": "stream",
     "text": [
      "Hello from a function!\n"
     ]
    }
   ],
   "source": [
    "my_function()  # This will print \"Hello from a function!\""
   ]
  },
  {
   "cell_type": "markdown",
   "id": "d5c77041",
   "metadata": {},
   "source": [
    "**Function with Parameters**\n",
    "Functions can accept parameters, which are variables passed into the function. Parameters allow you to pass data to a function, making functions more flexible and reusable.\n"
   ]
  },
  {
   "cell_type": "code",
   "execution_count": 35,
   "id": "d190f444-0659-4e76-9e00-5cd52b11d9dd",
   "metadata": {},
   "outputs": [
    {
     "name": "stdout",
     "output_type": "stream",
     "text": [
      "Hello, Alice!\n"
     ]
    }
   ],
   "source": [
    "def greet(name):\n",
    "    print(f\"Hello, {name}!\")\n",
    "\n",
    "#You can call this function with a parameter:\n",
    "\n",
    "greet(\"Alice\")  # This will print \"Hello, Alice!\"\n"
   ]
  },
  {
   "cell_type": "markdown",
   "id": "40e7cb1e-6e19-4b68-bf59-f60fc1e0ff91",
   "metadata": {},
   "source": [
    "**Returning Values**\n",
    "Functions can return values using the return statement. A function stops executing when it reaches a return statement, and it returns the specified value to the caller.\n"
   ]
  },
  {
   "cell_type": "code",
   "execution_count": 37,
   "id": "e5f081c4-798c-4427-80dd-d1e762552418",
   "metadata": {},
   "outputs": [],
   "source": [
    "def add(a, b):\n",
    "    return a + b\n",
    "\n",
    "#You can capture the returned value in a variable: ###### これの意味\n",
    "\n",
    "result = add(5, 7)  # result will be 12"
   ]
  },
  {
   "cell_type": "markdown",
   "id": "8bbf56bb-4c74-477d-a8ed-472f42de2848",
   "metadata": {},
   "source": [
    "**Default Parameter Values**\n",
    "You can provide default values for parameters. If the caller does not supply an argument for such a parameter, the default value is used.\n"
   ]
  },
  {
   "cell_type": "code",
   "execution_count": 38,
   "id": "e4e75db3-c5fb-425a-a5ae-106e2bd69b99",
   "metadata": {},
   "outputs": [
    {
     "name": "stdout",
     "output_type": "stream",
     "text": [
      "Hello, World!\n"
     ]
    }
   ],
   "source": [
    "def greet(name=\"World\"):\n",
    "    print(f\"Hello, {name}!\")\n",
    "#Calling the function without providing an argument uses the default value:\n",
    "greet()  # Prints \"Hello, World!\""
   ]
  },
  {
   "cell_type": "markdown",
   "id": "735231df-9992-408d-8cf7-4dbce87b643a",
   "metadata": {},
   "source": [
    "**Keyword Arguments**\n",
    "When calling functions, you can specify arguments by name. This is useful when a function takes several parameters.\n"
   ]
  },
  {
   "cell_type": "code",
   "execution_count": 40,
   "id": "5d124524-bba1-4274-bd25-8f6b4ea25cf6",
   "metadata": {},
   "outputs": [
    {
     "name": "stdout",
     "output_type": "stream",
     "text": [
      "I have a cat named Whiskers.\n"
     ]
    }
   ],
   "source": [
    "def describe_pet(animal_type, pet_name):\n",
    "    print(f\"I have a {animal_type} named {pet_name}.\")\n",
    "\n",
    "describe_pet(pet_name=\"Whiskers\", animal_type=\"cat\")"
   ]
  },
  {
   "cell_type": "markdown",
   "id": "ef5c0d6e-6578-4453-9af6-965ea0226739",
   "metadata": {},
   "source": [
    "**Arbitrary Number of Arguments**\n",
    "Sometimes, you might not know how many arguments will be passed into your function. \n",
    "The *args parameter in Python functions allows you to pass a variable number of arguments to a function. It is used when you want to make a function that can handle more arguments than you specified while defining the function. The arguments are accessed as a tuple within the function. Here are three examples demonstrating how to use *args in different contexts:\n",
    "\n",
    "1. Sum Function\n",
    "This function calculates the sum of all the numbers passed to it as arguments, demonstrating the use of *args to accept an arbitrary number of numeric arguments.\n"
   ]
  },
  {
   "cell_type": "code",
   "execution_count": 41,
   "id": "5251d477-616c-45de-a3ae-5060e0c194dd",
   "metadata": {},
   "outputs": [
    {
     "name": "stdout",
     "output_type": "stream",
     "text": [
      "45\n",
      "15\n"
     ]
    }
   ],
   "source": [
    "def sum_numbers(*args):\n",
    "    return sum(args)\n",
    "\n",
    "# Example usage:\n",
    "print(sum_numbers(10, 15, 20))  # Output: 45\n",
    "print(sum_numbers(5, 10))       # Output: 15"
   ]
  },
  {
   "cell_type": "markdown",
   "id": "02200511",
   "metadata": {},
   "source": [
    "2. Concatenate Strings\n",
    "This function concatenates all string arguments passed to it, showcasing how *args can be used to work with an unknown number of string arguments.\n"
   ]
  },
  {
   "cell_type": "code",
   "execution_count": 42,
   "id": "32c578dd-e796-445f-922b-0fa7e6844a8b",
   "metadata": {},
   "outputs": [],
   "source": [
    "def concatenate_strings(*args):\n",
    "    result = \"\"\n",
    "    for arg in args: ##??\n",
    "        result += arg + \" \"  # Adding a space for readability\n",
    "    return result.strip()"
   ]
  },
  {
   "cell_type": "code",
   "execution_count": 43,
   "id": "fa4b595c-b8b2-45c0-a7d6-e27d6a0aab0a",
   "metadata": {},
   "outputs": [
    {
     "name": "stdout",
     "output_type": "stream",
     "text": [
      "Python is awesome\n",
      "Hello World\n"
     ]
    }
   ],
   "source": [
    "# Example usage:\n",
    "print(concatenate_strings(\"Python\", \"is\", \"awesome\"))  # Output: 'Python is awesome'\n",
    "print(concatenate_strings(\"Hello\", \"World\"))           # Output: 'Hello World'"
   ]
  },
  {
   "cell_type": "markdown",
   "id": "4447700d",
   "metadata": {},
   "source": [
    "3. Logging Function\n",
    "This example demonstrates a logging function that accepts a message and an arbitrary number of additional details, illustrating the flexibility of *args for functions that might need optional additional information.\n"
   ]
  },
  {
   "cell_type": "code",
   "execution_count": 44,
   "id": "f4a83c80-6f09-4ff2-a9c8-3376c3739232",
   "metadata": {},
   "outputs": [
    {
     "name": "stdout",
     "output_type": "stream",
     "text": [
      "User logged in - User: admin - Time: 12:34 PM\n",
      "Server started\n"
     ]
    }
   ],
   "source": [
    "def log_message(message, *args):\n",
    "    full_message = message\n",
    "    for detail in args:\n",
    "        full_message += f\" - {detail}\" # ??\n",
    "    print(full_message)\n",
    "\n",
    "# Example usage:\n",
    "log_message(\"User logged in\", \"User: admin\", \"Time: 12:34 PM\")  \n",
    "# Output: User logged in - User: admin - Time: 12:34 PM\n",
    "\n",
    "log_message(\"Server started\")  \n",
    "# Output: Server started"
   ]
  },
  {
   "cell_type": "markdown",
   "id": "73cb57a5-ed4f-42d9-8362-29529213bde3",
   "metadata": {},
   "source": [
    "20. Write a function called calc_avg_values designed to uppose you want to create a function that calculates the average value of an economic indicator (like GDP growth rate, inflation rate, etc.) for a given set of years. Since the number of years may vary depending on the analysis you're conducting, hint: *args can be very useful here (see above)\n",
    "\n"
   ]
  },
  {
   "cell_type": "code",
   "execution_count": 45,
   "id": "e837c415-fcdf-40f0-b068-cc31b9184c1b",
   "metadata": {},
   "outputs": [],
   "source": [
    "#Your code here:\n",
    "def calc_avg_values(*args):\n",
    "    # no values??\n",
    "    avg = sum(args)/len(args)\n",
    "    return avg "
   ]
  },
  {
   "cell_type": "code",
   "execution_count": 46,
   "id": "6f1c2d70",
   "metadata": {},
   "outputs": [
    {
     "data": {
      "text/plain": [
       "6033544.02"
      ]
     },
     "execution_count": 46,
     "metadata": {},
     "output_type": "execute_result"
    }
   ],
   "source": [
    "# Use calc_avg_values for GDP data\n",
    "gdp_data = {\"Korea\": 2270666.1, \"Japan\": 5404462.3,\n",
    "    \"United States\": 21521395.0, \"Switzerland\": 632274.5, \"Greece\": 338922.2\n",
    "}\n",
    "list0=[]\n",
    "for item in gdp_data:\n",
    "    list0.append(gdp_data[item])\n",
    "\n",
    "calc_avg_values(*list0)"
   ]
  },
  {
   "cell_type": "code",
   "execution_count": 47,
   "id": "866b8f92",
   "metadata": {},
   "outputs": [
    {
     "data": {
      "text/plain": [
       "41068.840000000004"
      ]
     },
     "execution_count": 47,
     "metadata": {},
     "output_type": "execute_result"
    }
   ],
   "source": [
    "# Use calc_avg_values for GDP per capita data, Korea, 2015-2019, USD PPP, current prices \n",
    "\n",
    "gdp_data = {\n",
    "    'Year': [2015, 2016, 2017, 2018, 2019],\n",
    "    'GDP per Capita': [37902.4, 39575.3, 40957.3, 43044.3, 43864.9] \n",
    "}\n",
    "\n",
    "#a = gdp_data['GDP per Capita']\n",
    "calc_avg_values(*gdp_data['GDP per Capita'])"
   ]
  },
  {
   "cell_type": "markdown",
   "id": "ac88c95a-20be-44a7-8af4-6f7214ca2a22",
   "metadata": {},
   "source": [
    "#### Some viz basics\n",
    "You may want to visualize some of your findings!\n",
    "\n",
    "To visualize data with Python, both Seaborn and Matplotlib are excellent choices. Seaborn is built on top of Matplotlib and provides a high-level interface for drawing attractive and informative statistical graphics. For simplicity and aesthetics, we'll use Seaborn to visualize the example data related to international economic development.\n",
    "\n",
    "Let's assume you have data on the GDP per capita for a specific region over a series of years, and you want to visualize this data to analyze trends over time.\n",
    "\n",
    "First, we need to install Seaborn if it's not already installed. You can install Seaborn using pip.\n"
   ]
  },
  {
   "cell_type": "code",
   "execution_count": 48,
   "id": "8b73642b-6840-4832-bf2c-147d34d74e6c",
   "metadata": {},
   "outputs": [
    {
     "data": {
      "image/png": "[encoded data removed]",
      "text/plain": [
       "<Figure size 640x480 with 1 Axes>"
      ]
     },
     "metadata": {},
     "output_type": "display_data"
    }
   ],
   "source": [
    "import seaborn as sns\n",
    "import pandas as pd\n",
    "import matplotlib.pyplot as plt\n",
    "\n",
    "# Example data: GDP per capita over a range of years for \"Region X\"\n",
    "data = {\n",
    "    'Year': [2015, 2016, 2017, 2018, 2019],\n",
    "    'GDP per Capita': [9000, 9200, 9400, 9600, 9800]\n",
    "}\n",
    "\n",
    "# Convert the data into a DataFrame\n",
    "df = pd.DataFrame(data)\n",
    "\n",
    "# Create a line plot to visualize GDP per capita over the years\n",
    "sns.lineplot(x='Year', y='GDP per Capita', data=df, marker='o')\n",
    "\n",
    "# Enhancing the plot\n",
    "plt.title('GDP per Capita Over Time for Region X')\n",
    "plt.xlabel('Year')\n",
    "plt.ylabel('GDP per Capita (USD)')\n",
    "plt.grid(True)\n",
    "plt.tight_layout()\n",
    "\n",
    "# Show the plot\n",
    "plt.show()"
   ]
  },
  {
   "cell_type": "markdown",
   "id": "b352750a-ab8d-4416-9f8e-4558ad700dd1",
   "metadata": {},
   "source": [
    "### 21. Adapt the code above to visualize the change in GDP from your previous solution."
   ]
  },
  {
   "cell_type": "code",
   "execution_count": 49,
   "id": "4af8fab8",
   "metadata": {},
   "outputs": [
    {
     "data": {
      "image/png": "[encoded data removed]",
      "text/plain": [
       "<Figure size 640x480 with 1 Axes>"
      ]
     },
     "metadata": {},
     "output_type": "display_data"
    }
   ],
   "source": [
    "#Your code here\n",
    "import seaborn as sns\n",
    "import pandas as pd\n",
    "import matplotlib.pyplot as plt\n",
    "\n",
    "gdp_data = {\n",
    "    'Year': [2015, 2016, 2017, 2018, 2019],\n",
    "    'GDP per Capita in Korea': [37902.4, 39575.3, 40957.3, 43044.3, 43864.9] \n",
    "}\n",
    "\n",
    "# Used the code from the above \n",
    "df = pd.DataFrame(gdp_data) \n",
    "\n",
    "# Create a line plot to visualize GDP per capita over the years\n",
    "sns.lineplot(x='Year', y='GDP per Capita in Korea', data=df, marker='o')\n",
    "\n",
    "# Enhancing the plot\n",
    "plt.title('GDP per Capita Over Time for Korea')\n",
    "plt.xlabel('Year')\n",
    "plt.ylabel('GDP per Capita (USD)')\n",
    "plt.grid(True)\n",
    "plt.tight_layout()\n",
    "\n",
    "# Show the plot\n",
    "plt.show()"
   ]
  },
  {
   "cell_type": "markdown",
   "id": "732eaf65-70c9-4e54-b5d4-7887d12f94bb",
   "metadata": {},
   "source": [
    "### Try-Except \n",
    "Sometimes when we pull data from a spreadsheet,there are values that are misentered. This is where we Try-Except can work.\n",
    "Check out this example\n"
   ]
  },
  {
   "cell_type": "code",
   "execution_count": 50,
   "id": "02cf38ca-7a6d-4caf-bbaa-3e79b15b9e85",
   "metadata": {},
   "outputs": [
    {
     "name": "stdout",
     "output_type": "stream",
     "text": [
      "Valid GDP value: 4500\n",
      "Invalid data encountered, skipping...\n",
      "Valid GDP value: 5200\n"
     ]
    }
   ],
   "source": [
    "gdp_values = [\"4500\", \"undefined\", \"5200\"]\n",
    "for value in gdp_values:\n",
    "    try:\n",
    "        gdp = int(value)\n",
    "        print(f\"Valid GDP value: {gdp}\")\n",
    "    except ValueError:\n",
    "        print(\"Invalid data encountered, skipping...\")"
   ]
  },
  {
   "cell_type": "markdown",
   "id": "4f1e4958",
   "metadata": {},
   "source": [
    "22. Explain, in words, the code above."
   ]
  },
  {
   "cell_type": "markdown",
   "id": "1703a93b-004e-46fb-a520-f3872bc80dbb",
   "metadata": {},
   "source": [
    "Your answer here: By trying to convert the input to an integer, it is testing if the input is numeric.\n",
    "For the second input, it is not numeric, and when the code tries to convert it to an integer, it throws an error but overwrites it (\"ValueError\") and prints out an error message. "
   ]
  },
  {
   "cell_type": "markdown",
   "id": "f9de24f2-b226-47a0-981c-1b6da23288ba",
   "metadata": {},
   "source": [
    "23. Give another example of try, except, but do not use int(value) but some other way of determining a True value."
   ]
  },
  {
   "cell_type": "code",
   "execution_count": 51,
   "id": "86664b1f-b6fe-44ce-acb6-f3fbbc22f09c",
   "metadata": {},
   "outputs": [
    {
     "name": "stdout",
     "output_type": "stream",
     "text": [
      "Valid GDP value: 4500.0\n",
      "Invalid data encountered, skipping...\n",
      "Valid GDP value: 5200.0\n"
     ]
    }
   ],
   "source": [
    "#Your code here\n",
    "gdp_values = [\"4500\", \"undefined\", \"5200\"]\n",
    "for value in gdp_values:\n",
    "    try:\n",
    "        gdp = float(value) #isinstance(value, float) == True ##?? ## FLOAT??\n",
    "        print(f\"Valid GDP value: {gdp}\")\n",
    "    except ValueError:\n",
    "        print(\"Invalid data encountered, skipping...\")"
   ]
  },
  {
   "cell_type": "markdown",
   "id": "456eba22-ac06-4adf-aaa1-96857ded0bd4",
   "metadata": {},
   "source": [
    "#### Comprehensions\n"
   ]
  },
  {
   "cell_type": "code",
   "execution_count": 98,
   "id": "2f1a09bd-ea7d-4ce4-97f9-ccd0e35d748b",
   "metadata": {},
   "outputs": [],
   "source": [
    "country_growth_data = {\"CountryA\": 3.2, \"CountryB\": 6.5, \"CountryC\": 2.8, \"CountryD\": 5.4}"
   ]
  },
  {
   "cell_type": "markdown",
   "id": "691a11cb-b9eb-4e9a-a8a7-2c5f5da7baa9",
   "metadata": {},
   "source": [
    "24. Write a for loop that iterates over each item in the gdp_growth_data dictionary, checks the GDP growth rate, and assigns a category (\"High\" or \"Moderate\") based on the condition (rate > 5). Store the results in a growth_category dictionary."
   ]
  },
  {
   "cell_type": "code",
   "execution_count": 99,
   "id": "6e39f74e-abc8-4500-a7f1-35c1d0d3f7d8",
   "metadata": {},
   "outputs": [
    {
     "data": {
      "text/plain": [
       "{'CountryA': 'Moderate',\n",
       " 'CountryB': 'High',\n",
       " 'CountryC': 'Moderate',\n",
       " 'CountryD': 'High'}"
      ]
     },
     "execution_count": 99,
     "metadata": {},
     "output_type": "execute_result"
    }
   ],
   "source": [
    "#Your code here\n",
    "growth_category = {}\n",
    "for country in country_growth_data: ## for each key \n",
    "    if country_growth_data[country] > 5:\n",
    "        growth_category[country]= \"High\"\n",
    "    else:\n",
    "        growth_category[country] = \"Moderate\"\n",
    "growth_category"
   ]
  },
  {
   "cell_type": "markdown",
   "id": "badaea3c-ccfa-47d8-a2de-73af0f686bb9",
   "metadata": {},
   "source": [
    "25. Now re-write the code as a list comprehension\n",
    "    "
   ]
  },
  {
   "cell_type": "code",
   "execution_count": 101,
   "id": "002632c6-92a8-4938-b0fd-8068f29dc68c",
   "metadata": {},
   "outputs": [
    {
     "data": {
      "text/plain": [
       "[['Country A', 'Moderate'],\n",
       " ['Country B', 'High'],\n",
       " ['Country C', 'Moderate'],\n",
       " ['Country D', 'High']]"
      ]
     },
     "execution_count": 101,
     "metadata": {},
     "output_type": "execute_result"
    }
   ],
   "source": [
    "#Your code here\n",
    "gdp_growth_data = [\n",
    "    [\"Country A\", 3.2],\n",
    "    [\"Country B\", 6.5],\n",
    "    [\"Country C\", 2.8],\n",
    "    [\"Country D\", 5.4]\n",
    "] \n",
    "growth_category1 = [[country, \"High\" if rate > 5 else \"Moderate\"] \n",
    "                  for country, rate in gdp_growth_data] \n",
    "growth_category1"
   ]
  },
  {
   "cell_type": "markdown",
   "id": "cf23a6d0",
   "metadata": {},
   "source": [
    "This is how you would write it as a dictionary comprehension:"
   ]
  },
  {
   "cell_type": "code",
   "execution_count": 102,
   "id": "9446c3b3-b4b7-4582-9b6d-a93a5d020618",
   "metadata": {},
   "outputs": [
    {
     "name": "stdout",
     "output_type": "stream",
     "text": [
      "{'CountryA': 'Moderate', 'CountryB': 'High', 'CountryC': 'Moderate'}\n"
     ]
    }
   ],
   "source": [
    "gdp_growth_data = {\"CountryA\": 2.5, \"CountryB\": 7.1, \"CountryC\": 4.9}\n",
    "growth_category = {country: \"High\" if rate > 5 else \"Moderate\" for country, rate in gdp_growth_data.items()}\n",
    "print(growth_category)"
   ]
  },
  {
   "cell_type": "markdown",
   "id": "8a0d06a0",
   "metadata": {},
   "source": [
    "26. What type of data structure is growth_category?"
   ]
  },
  {
   "cell_type": "code",
   "execution_count": 103,
   "id": "af11c67d-06e5-4d4c-a3c8-873792493e85",
   "metadata": {},
   "outputs": [],
   "source": [
    "#Your answer here\n",
    "# list for list comprehension\n",
    "# dictionary for dictionary comprehension "
   ]
  }
 ],
 "metadata": {
  "kernelspec": {
   "display_name": "Python 3 (ipykernel)",
   "language": "python",
   "name": "python3"
  },
  "language_info": {
   "codemirror_mode": {
    "name": "ipython",
    "version": 3
   },
   "file_extension": ".py",
   "mimetype": "text/x-python",
   "name": "python",
   "nbconvert_exporter": "python",
   "pygments_lexer": "ipython3",
   "version": "3.11.4"
  }
 },
 "nbformat": 4,
 "nbformat_minor": 5
}
