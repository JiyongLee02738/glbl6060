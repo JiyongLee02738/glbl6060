{
 "cells": [
  {
   "cell_type": "markdown",
   "metadata": {
    "id": "PJ6eW22LJM_n"
   },
   "source": [
    "# HW 7:\n",
    "This homework we are going to start with a dataset ingest, some cleaning and some visualizations. Then move to Streamlit"
   ]
  },
  {
   "cell_type": "markdown",
   "metadata": {
    "id": "qPXtYV6tLA7v"
   },
   "source": [
    "## US Census Data"
   ]
  },
  {
   "cell_type": "markdown",
   "metadata": {
    "id": "xHx4uFrkJQTE"
   },
   "source": [
    "Load the data posted on the github repo \"us-population-2010-2019.csv\""
   ]
  },
  {
   "cell_type": "code",
   "execution_count": 1,
   "metadata": {},
   "outputs": [],
   "source": [
    "# Your code here:\n",
    "import pandas as pd "
   ]
  },
  {
   "cell_type": "code",
   "execution_count": 2,
   "metadata": {},
   "outputs": [],
   "source": [
    "data = pd.read_csv(\"us-population-2010-2019-states-code.csv\")"
   ]
  },
  {
   "cell_type": "markdown",
   "metadata": {},
   "source": [
    "Using a lambda function, add a column to the dataframe that provides standard two letter abbreviations to all of the US States. For example, Connecticut would be CT.\n",
    "https://www.50states.com/abbreviations.htm\n",
    "*hint* there is a python package called \"us\""
   ]
  },
  {
   "cell_type": "code",
   "execution_count": 3,
   "metadata": {},
   "outputs": [
    {
     "name": "stdout",
     "output_type": "stream",
     "text": [
      "Requirement already satisfied: us in /Users/jiyonglee/anaconda3/lib/python3.11/site-packages (3.1.1)\r\n",
      "Requirement already satisfied: jellyfish==0.11.2 in /Users/jiyonglee/anaconda3/lib/python3.11/site-packages (from us) (0.11.2)\r\n"
     ]
    }
   ],
   "source": [
    "#Your code here\n",
    "!pip install us"
   ]
  },
  {
   "cell_type": "code",
   "execution_count": 4,
   "metadata": {},
   "outputs": [],
   "source": [
    "import us"
   ]
  },
  {
   "cell_type": "code",
   "execution_count": 5,
   "metadata": {},
   "outputs": [],
   "source": [
    "state_col=data.states # took \"states\" column and named state_col\n",
    "#pd.wide_to_long(data, [\"state\", \"state_abbr\"], i='id', j='year')\n",
    "#df_reshaped['year']=pd.to_numeric(df_reshaped['year'])"
   ]
  },
  {
   "cell_type": "code",
   "execution_count": 6,
   "metadata": {},
   "outputs": [],
   "source": [
    "state_abbr = [] # list of state abbreviations \n",
    "for each in us.STATES: # \"each\" is each state\n",
    "    state_abbr.append(each.abbr) # converted state to state abbreviation and appended to list "
   ]
  },
  {
   "cell_type": "code",
   "execution_count": 7,
   "metadata": {},
   "outputs": [],
   "source": [
    "state_abbr.append('PR')\n",
    "state_abbr.insert(8, 'DC') # added two more that exist in the census dataset "
   ]
  },
  {
   "cell_type": "code",
   "execution_count": 8,
   "metadata": {},
   "outputs": [],
   "source": [
    "data['state_abbr']=state_abbr # added to the original dataset \n",
    "#data"
   ]
  },
  {
   "cell_type": "code",
   "execution_count": 9,
   "metadata": {},
   "outputs": [],
   "source": [
    "a=data.iloc[:,3:13] # extracted year columns "
   ]
  },
  {
   "cell_type": "code",
   "execution_count": 10,
   "metadata": {},
   "outputs": [],
   "source": [
    "df_reshaped=data.melt(id_vars=['id', 'states', 'state_abbr'], # reshaped so that year is one column \n",
    "                      value_vars=a, var_name='year', value_name='population')\n",
    "#df_reshaped"
   ]
  },
  {
   "cell_type": "markdown",
   "metadata": {},
   "source": [
    "Reshape your data, and create a new df called df_reshaped so that:\n",
    "\n",
    "1. Convert 'year' column values to integers\n",
    "2. Convert 'states' to strings\n",
    "3. Get rid of the commas in the population numbers, and convert them to integers\n",
    "4. Check your df_reshaped "
   ]
  },
  {
   "cell_type": "code",
   "execution_count": 11,
   "metadata": {},
   "outputs": [
    {
     "data": {
      "text/plain": [
       "id             int64\n",
       "states        object\n",
       "state_abbr    object\n",
       "year          object\n",
       "population    object\n",
       "dtype: object"
      ]
     },
     "execution_count": 11,
     "metadata": {},
     "output_type": "execute_result"
    }
   ],
   "source": [
    "# Your code here:\n",
    "df_reshaped.dtypes # checked data types "
   ]
  },
  {
   "cell_type": "code",
   "execution_count": 12,
   "metadata": {},
   "outputs": [],
   "source": [
    "df_reshaped['year']=df_reshaped['year'].astype(int) # convert \"year\" to integer \n",
    "df_reshaped['states']=df_reshaped['states'].astype(str) # convert \"states\" to string "
   ]
  },
  {
   "cell_type": "code",
   "execution_count": 13,
   "metadata": {},
   "outputs": [],
   "source": [
    "def remove_comma(col): # remove commas from population \n",
    "    return col.str.replace(',', '') "
   ]
  },
  {
   "cell_type": "code",
   "execution_count": 14,
   "metadata": {},
   "outputs": [],
   "source": [
    "df_reshaped['population']=remove_comma(df_reshaped['population']) # remove comma using the function\n",
    "df_reshaped['population']=df_reshaped['population'].astype(int) # convert to int type "
   ]
  },
  {
   "cell_type": "markdown",
   "metadata": {},
   "source": [
    "Save your df_reshaped to a csv file"
   ]
  },
  {
   "cell_type": "code",
   "execution_count": 15,
   "metadata": {},
   "outputs": [],
   "source": [
    "#Your code here:\n",
    "df_reshaped.to_csv(\"reshaped_data.csv\")"
   ]
  },
  {
   "cell_type": "markdown",
   "metadata": {},
   "source": [
    "Subset your dataframe by selected_year = 2019 year create a new dataframe called df_selected_year\n"
   ]
  },
  {
   "cell_type": "code",
   "execution_count": 16,
   "metadata": {},
   "outputs": [],
   "source": [
    "#Your code here:\n",
    "df_selected_year = df_reshaped[df_reshaped['year']==2019] # filter for 2019 "
   ]
  },
  {
   "cell_type": "markdown",
   "metadata": {},
   "source": [
    "Sort df_selected_year by population, from highest to lowest, and create a new df called \"df_selected_year_sorted\""
   ]
  },
  {
   "cell_type": "code",
   "execution_count": 17,
   "metadata": {},
   "outputs": [],
   "source": [
    "#Your code here:\n",
    "df_selected_year_sorted = df_selected_year.sort_values(by = ['population'], ascending= False)"
   ]
  },
  {
   "cell_type": "code",
   "execution_count": 18,
   "metadata": {},
   "outputs": [],
   "source": [
    "# Here is a function to calculate population difference between selected and previous year\n",
    "def calculate_population_difference(input_df, input_year):\n",
    "  selected_year_data = input_df[input_df['year'] == input_year].reset_index()\n",
    "  previous_year_data = input_df[input_df['year'] == input_year - 1].reset_index()\n",
    "  selected_year_data['population_difference'] = selected_year_data.population.sub(previous_year_data.population, fill_value=0)\n",
    "  selected_year_data['population_difference_absolute'] = abs(selected_year_data['population_difference'])\n",
    "  return pd.concat([selected_year_data.states, selected_year_data.id, selected_year_data.population, selected_year_data.population_difference, selected_year_data.population_difference_absolute], axis=1).sort_values(by=\"population_difference\", ascending=False)\n",
    "\n",
    "df_population_difference_sorted = calculate_population_difference(df_reshaped, 2019)\n",
    "#df_population_difference_sorted"
   ]
  },
  {
   "cell_type": "code",
   "execution_count": 19,
   "metadata": {
    "colab": {
     "base_uri": "https://localhost:8080/",
     "height": 488
    },
    "id": "kjtiLBxV6cNq",
    "outputId": "3989fa48-8d64-4114-d3cd-63c07daf4127"
   },
   "outputs": [],
   "source": [
    "# Filter states with population difference > 50000\n",
    "df_greater_50000 = df_population_difference_sorted[\n",
    "    df_population_difference_sorted['population_difference_absolute']>50000]"
   ]
  },
  {
   "cell_type": "code",
   "execution_count": 20,
   "metadata": {},
   "outputs": [],
   "source": [
    "#df_greater_50000"
   ]
  },
  {
   "cell_type": "code",
   "execution_count": 21,
   "metadata": {
    "colab": {
     "base_uri": "https://localhost:8080/"
    },
    "id": "085JORge7E2N",
    "outputId": "ec84f197-5224-42f4-97f2-e880fab8219e"
   },
   "outputs": [
    {
     "name": "stdout",
     "output_type": "stream",
     "text": [
      "26.92% of states have population difference > 50000 in 2019.\n"
     ]
    }
   ],
   "source": [
    "# Calculate the % of States with population difference > 50000\n",
    "#Your code here:\n",
    "perct = round(len(df_greater_50000)/len(data)*100, 2)\n",
    "print(f\"{perct}% of states have population difference > 50000 in 2019.\")"
   ]
  },
  {
   "cell_type": "markdown",
   "metadata": {
    "id": "GnY0jA7irX1Z"
   },
   "source": [
    "## Plots"
   ]
  },
  {
   "cell_type": "markdown",
   "metadata": {
    "id": "hRrwBt3skrp1"
   },
   "source": [
    "### Heatmap: run the following code to see a heatmap"
   ]
  },
  {
   "cell_type": "code",
   "execution_count": 22,
   "metadata": {
    "colab": {
     "base_uri": "https://localhost:8080/",
     "height": 375
    },
    "id": "Vf8v9OjMku8M",
    "outputId": "901a9b29-439c-4fe3-9a53-0a52ad366a94"
   },
   "outputs": [
    {
     "name": "stdout",
     "output_type": "stream",
     "text": [
      "Requirement already satisfied: altair in /Users/jiyonglee/anaconda3/lib/python3.11/site-packages (5.3.0)\n",
      "Requirement already satisfied: jinja2 in /Users/jiyonglee/anaconda3/lib/python3.11/site-packages (from altair) (3.1.3)\n",
      "Requirement already satisfied: jsonschema>=3.0 in /Users/jiyonglee/anaconda3/lib/python3.11/site-packages (from altair) (4.19.2)\n",
      "Requirement already satisfied: numpy in /Users/jiyonglee/anaconda3/lib/python3.11/site-packages (from altair) (1.23.5)\n",
      "Requirement already satisfied: packaging in /Users/jiyonglee/anaconda3/lib/python3.11/site-packages (from altair) (23.2)\n",
      "Requirement already satisfied: pandas>=0.25 in /Users/jiyonglee/anaconda3/lib/python3.11/site-packages (from altair) (2.1.4)\n",
      "Requirement already satisfied: toolz in /Users/jiyonglee/anaconda3/lib/python3.11/site-packages (from altair) (0.12.0)\n",
      "Requirement already satisfied: attrs>=22.2.0 in /Users/jiyonglee/anaconda3/lib/python3.11/site-packages (from jsonschema>=3.0->altair) (23.1.0)\n",
      "Requirement already satisfied: jsonschema-specifications>=2023.03.6 in /Users/jiyonglee/anaconda3/lib/python3.11/site-packages (from jsonschema>=3.0->altair) (2023.7.1)\n",
      "Requirement already satisfied: referencing>=0.28.4 in /Users/jiyonglee/anaconda3/lib/python3.11/site-packages (from jsonschema>=3.0->altair) (0.30.2)\n",
      "Requirement already satisfied: rpds-py>=0.7.1 in /Users/jiyonglee/anaconda3/lib/python3.11/site-packages (from jsonschema>=3.0->altair) (0.10.6)\n",
      "Requirement already satisfied: python-dateutil>=2.8.2 in /Users/jiyonglee/anaconda3/lib/python3.11/site-packages (from pandas>=0.25->altair) (2.8.2)\n",
      "Requirement already satisfied: pytz>=2020.1 in /Users/jiyonglee/anaconda3/lib/python3.11/site-packages (from pandas>=0.25->altair) (2023.3.post1)\n",
      "Requirement already satisfied: tzdata>=2022.1 in /Users/jiyonglee/anaconda3/lib/python3.11/site-packages (from pandas>=0.25->altair) (2023.3)\n",
      "Requirement already satisfied: MarkupSafe>=2.0 in /Users/jiyonglee/anaconda3/lib/python3.11/site-packages (from jinja2->altair) (2.1.3)\n",
      "Requirement already satisfied: six>=1.5 in /Users/jiyonglee/anaconda3/lib/python3.11/site-packages (from python-dateutil>=2.8.2->pandas>=0.25->altair) (1.16.0)\n"
     ]
    },
    {
     "data": {
      "text/html": [
       "\n",
       "<style>\n",
       "  #altair-viz-57b4312c28144739aa3a37bd5959db87.vega-embed {\n",
       "    width: 100%;\n",
       "    display: flex;\n",
       "  }\n",
       "\n",
       "  #altair-viz-57b4312c28144739aa3a37bd5959db87.vega-embed details,\n",
       "  #altair-viz-57b4312c28144739aa3a37bd5959db87.vega-embed details summary {\n",
       "    position: relative;\n",
       "  }\n",
       "</style>\n",
       "<div id=\"altair-viz-57b4312c28144739aa3a37bd5959db87\"></div>\n",
       "<script type=\"text/javascript\">\n",
       "  var VEGA_DEBUG = (typeof VEGA_DEBUG == \"undefined\") ? {} : VEGA_DEBUG;\n",
       "  (function(spec, embedOpt){\n",
       "    let outputDiv = document.currentScript.previousElementSibling;\n",
       "    if (outputDiv.id !== \"altair-viz-57b4312c28144739aa3a37bd5959db87\") {\n",
       "      outputDiv = document.getElementById(\"altair-viz-57b4312c28144739aa3a37bd5959db87\");\n",
       "    }\n",
       "    const paths = {\n",
       "      \"vega\": \"https://cdn.jsdelivr.net/npm/vega@5?noext\",\n",
       "      \"vega-lib\": \"https://cdn.jsdelivr.net/npm/vega-lib?noext\",\n",
       "      \"vega-lite\": \"https://cdn.jsdelivr.net/npm/vega-lite@5.17.0?noext\",\n",
       "      \"vega-embed\": \"https://cdn.jsdelivr.net/npm/vega-embed@6?noext\",\n",
       "    };\n",
       "\n",
       "    function maybeLoadScript(lib, version) {\n",
       "      var key = `${lib.replace(\"-\", \"\")}_version`;\n",
       "      return (VEGA_DEBUG[key] == version) ?\n",
       "        Promise.resolve(paths[lib]) :\n",
       "        new Promise(function(resolve, reject) {\n",
       "          var s = document.createElement('script');\n",
       "          document.getElementsByTagName(\"head\")[0].appendChild(s);\n",
       "          s.async = true;\n",
       "          s.onload = () => {\n",
       "            VEGA_DEBUG[key] = version;\n",
       "            return resolve(paths[lib]);\n",
       "          };\n",
       "          s.onerror = () => reject(`Error loading script: ${paths[lib]}`);\n",
       "          s.src = paths[lib];\n",
       "        });\n",
       "    }\n",
       "\n",
       "    function showError(err) {\n",
       "      outputDiv.innerHTML = `<div class=\"error\" style=\"color:red;\">${err}</div>`;\n",
       "      throw err;\n",
       "    }\n",
       "\n",
       "    function displayChart(vegaEmbed) {\n",
       "      vegaEmbed(outputDiv, spec, embedOpt)\n",
       "        .catch(err => showError(`Javascript Error: ${err.message}<br>This usually means there's a typo in your chart specification. See the javascript console for the full traceback.`));\n",
       "    }\n",
       "\n",
       "    if(typeof define === \"function\" && define.amd) {\n",
       "      requirejs.config({paths});\n",
       "      require([\"vega-embed\"], displayChart, err => showError(`Error loading script: ${err.message}`));\n",
       "    } else {\n",
       "      maybeLoadScript(\"vega\", \"5\")\n",
       "        .then(() => maybeLoadScript(\"vega-lite\", \"5.17.0\"))\n",
       "        .then(() => maybeLoadScript(\"vega-embed\", \"6\"))\n",
       "        .catch(showError)\n",
       "        .then(() => displayChart(vegaEmbed));\n",
       "    }\n",
       "  })({\"usermeta\": {\"embedOptions\": {\"theme\": \"dark\"}}, \"config\": {\"view\": {\"continuousWidth\": 300, \"continuousHeight\": 300}, \"axis\": {\"labelFontSize\": 12, \"titleFontSize\": 12}}, \"data\": {\"name\": \"data-267bda1f37a34c614a96ba0606b9d717\"}, \"mark\": {\"type\": \"rect\"}, \"encoding\": {\"color\": {\"aggregate\": \"max\", \"field\": \"population\", \"legend\": {\"title\": \" \"}, \"scale\": {\"scheme\": \"blueorange\"}, \"type\": \"quantitative\"}, \"stroke\": {\"value\": \"black\"}, \"strokeWidth\": {\"value\": 0.25}, \"x\": {\"axis\": {\"title\": \"States\", \"titleFontSize\": 16, \"titleFontWeight\": 900, \"titlePadding\": 15}, \"field\": \"states\", \"type\": \"ordinal\"}, \"y\": {\"axis\": {\"labelAngle\": 0, \"title\": \"Year\", \"titleFontSize\": 16, \"titleFontWeight\": 900, \"titlePadding\": 15}, \"field\": \"year\", \"type\": \"ordinal\"}}, \"width\": 900, \"$schema\": \"https://vega.github.io/schema/vega-lite/v5.17.0.json\", \"datasets\": {\"data-267bda1f37a34c614a96ba0606b9d717\": [{\"id\": 1, \"states\": \"Alabama\", \"state_abbr\": \"AL\", \"year\": 2010, \"population\": 4785437}, {\"id\": 2, \"states\": \"Alaska\", \"state_abbr\": \"AK\", \"year\": 2010, \"population\": 713910}, {\"id\": 4, \"states\": \"Arizona\", \"state_abbr\": \"AZ\", \"year\": 2010, \"population\": 6407172}, {\"id\": 5, \"states\": \"Arkansas\", \"state_abbr\": \"AR\", \"year\": 2010, \"population\": 2921964}, {\"id\": 6, \"states\": \"California\", \"state_abbr\": \"CA\", \"year\": 2010, \"population\": 37319502}, {\"id\": 8, \"states\": \"Colorado\", \"state_abbr\": \"CO\", \"year\": 2010, \"population\": 5047349}, {\"id\": 9, \"states\": \"Connecticut\", \"state_abbr\": \"CT\", \"year\": 2010, \"population\": 3579114}, {\"id\": 10, \"states\": \"Delaware\", \"state_abbr\": \"DE\", \"year\": 2010, \"population\": 899593}, {\"id\": 11, \"states\": \"District of Columbia\", \"state_abbr\": \"DC\", \"year\": 2010, \"population\": 605226}, {\"id\": 12, \"states\": \"Florida\", \"state_abbr\": \"FL\", \"year\": 2010, \"population\": 18845537}, {\"id\": 13, \"states\": \"Georgia\", \"state_abbr\": \"GA\", \"year\": 2010, \"population\": 9711881}, {\"id\": 15, \"states\": \"Hawaii\", \"state_abbr\": \"HI\", \"year\": 2010, \"population\": 1363963}, {\"id\": 16, \"states\": \"Idaho\", \"state_abbr\": \"ID\", \"year\": 2010, \"population\": 1570746}, {\"id\": 17, \"states\": \"Illinois\", \"state_abbr\": \"IL\", \"year\": 2010, \"population\": 12840503}, {\"id\": 18, \"states\": \"Indiana\", \"state_abbr\": \"IN\", \"year\": 2010, \"population\": 6490432}, {\"id\": 19, \"states\": \"Iowa\", \"state_abbr\": \"IA\", \"year\": 2010, \"population\": 3050745}, {\"id\": 20, \"states\": \"Kansas\", \"state_abbr\": \"KS\", \"year\": 2010, \"population\": 2858190}, {\"id\": 21, \"states\": \"Kentucky\", \"state_abbr\": \"KY\", \"year\": 2010, \"population\": 4348181}, {\"id\": 22, \"states\": \"Louisiana\", \"state_abbr\": \"LA\", \"year\": 2010, \"population\": 4544532}, {\"id\": 23, \"states\": \"Maine\", \"state_abbr\": \"ME\", \"year\": 2010, \"population\": 1327629}, {\"id\": 24, \"states\": \"Maryland\", \"state_abbr\": \"MD\", \"year\": 2010, \"population\": 5788645}, {\"id\": 25, \"states\": \"Massachusetts\", \"state_abbr\": \"MA\", \"year\": 2010, \"population\": 6566307}, {\"id\": 26, \"states\": \"Michigan\", \"state_abbr\": \"MI\", \"year\": 2010, \"population\": 9877510}, {\"id\": 27, \"states\": \"Minnesota\", \"state_abbr\": \"MN\", \"year\": 2010, \"population\": 5310828}, {\"id\": 28, \"states\": \"Mississippi\", \"state_abbr\": \"MS\", \"year\": 2010, \"population\": 2970548}, {\"id\": 29, \"states\": \"Missouri\", \"state_abbr\": \"MO\", \"year\": 2010, \"population\": 5995974}, {\"id\": 30, \"states\": \"Montana\", \"state_abbr\": \"MT\", \"year\": 2010, \"population\": 990697}, {\"id\": 31, \"states\": \"Nebraska\", \"state_abbr\": \"NE\", \"year\": 2010, \"population\": 1829542}, {\"id\": 32, \"states\": \"Nevada\", \"state_abbr\": \"NV\", \"year\": 2010, \"population\": 2702405}, {\"id\": 33, \"states\": \"New Hampshire\", \"state_abbr\": \"NH\", \"year\": 2010, \"population\": 1316762}, {\"id\": 34, \"states\": \"New Jersey\", \"state_abbr\": \"NJ\", \"year\": 2010, \"population\": 8799446}, {\"id\": 35, \"states\": \"New Mexico\", \"state_abbr\": \"NM\", \"year\": 2010, \"population\": 2064552}, {\"id\": 36, \"states\": \"New York\", \"state_abbr\": \"NY\", \"year\": 2010, \"population\": 19399878}, {\"id\": 37, \"states\": \"North Carolina\", \"state_abbr\": \"NC\", \"year\": 2010, \"population\": 9574323}, {\"id\": 38, \"states\": \"North Dakota\", \"state_abbr\": \"ND\", \"year\": 2010, \"population\": 674715}, {\"id\": 39, \"states\": \"Ohio\", \"state_abbr\": \"OH\", \"year\": 2010, \"population\": 11539336}, {\"id\": 40, \"states\": \"Oklahoma\", \"state_abbr\": \"OK\", \"year\": 2010, \"population\": 3759944}, {\"id\": 41, \"states\": \"Oregon\", \"state_abbr\": \"OR\", \"year\": 2010, \"population\": 3837491}, {\"id\": 42, \"states\": \"Pennsylvania\", \"state_abbr\": \"PA\", \"year\": 2010, \"population\": 12711160}, {\"id\": 44, \"states\": \"Rhode Island\", \"state_abbr\": \"RI\", \"year\": 2010, \"population\": 1053959}, {\"id\": 45, \"states\": \"South Carolina\", \"state_abbr\": \"SC\", \"year\": 2010, \"population\": 4635649}, {\"id\": 46, \"states\": \"South Dakota\", \"state_abbr\": \"SD\", \"year\": 2010, \"population\": 816166}, {\"id\": 47, \"states\": \"Tennessee\", \"state_abbr\": \"TN\", \"year\": 2010, \"population\": 6355311}, {\"id\": 48, \"states\": \"Texas\", \"state_abbr\": \"TX\", \"year\": 2010, \"population\": 25241971}, {\"id\": 49, \"states\": \"Utah\", \"state_abbr\": \"UT\", \"year\": 2010, \"population\": 2775332}, {\"id\": 50, \"states\": \"Vermont\", \"state_abbr\": \"VT\", \"year\": 2010, \"population\": 625879}, {\"id\": 51, \"states\": \"Virginia\", \"state_abbr\": \"VA\", \"year\": 2010, \"population\": 8023699}, {\"id\": 53, \"states\": \"Washington\", \"state_abbr\": \"WA\", \"year\": 2010, \"population\": 6742830}, {\"id\": 54, \"states\": \"West Virginia\", \"state_abbr\": \"WV\", \"year\": 2010, \"population\": 1854239}, {\"id\": 55, \"states\": \"Wisconsin\", \"state_abbr\": \"WI\", \"year\": 2010, \"population\": 5690475}, {\"id\": 56, \"states\": \"Wyoming\", \"state_abbr\": \"WY\", \"year\": 2010, \"population\": 564487}, {\"id\": 72, \"states\": \"Puerto Rico\", \"state_abbr\": \"PR\", \"year\": 2010, \"population\": 3721525}, {\"id\": 1, \"states\": \"Alabama\", \"state_abbr\": \"AL\", \"year\": 2011, \"population\": 4799069}, {\"id\": 2, \"states\": \"Alaska\", \"state_abbr\": \"AK\", \"year\": 2011, \"population\": 722128}, {\"id\": 4, \"states\": \"Arizona\", \"state_abbr\": \"AZ\", \"year\": 2011, \"population\": 6472643}, {\"id\": 5, \"states\": \"Arkansas\", \"state_abbr\": \"AR\", \"year\": 2011, \"population\": 2940667}, {\"id\": 6, \"states\": \"California\", \"state_abbr\": \"CA\", \"year\": 2011, \"population\": 37638369}, {\"id\": 8, \"states\": \"Colorado\", \"state_abbr\": \"CO\", \"year\": 2011, \"population\": 5121108}, {\"id\": 9, \"states\": \"Connecticut\", \"state_abbr\": \"CT\", \"year\": 2011, \"population\": 3588283}, {\"id\": 10, \"states\": \"Delaware\", \"state_abbr\": \"DE\", \"year\": 2011, \"population\": 907381}, {\"id\": 11, \"states\": \"District of Columbia\", \"state_abbr\": \"DC\", \"year\": 2011, \"population\": 619800}, {\"id\": 12, \"states\": \"Florida\", \"state_abbr\": \"FL\", \"year\": 2011, \"population\": 19053237}, {\"id\": 13, \"states\": \"Georgia\", \"state_abbr\": \"GA\", \"year\": 2011, \"population\": 9802431}, {\"id\": 15, \"states\": \"Hawaii\", \"state_abbr\": \"HI\", \"year\": 2011, \"population\": 1379329}, {\"id\": 16, \"states\": \"Idaho\", \"state_abbr\": \"ID\", \"year\": 2011, \"population\": 1583910}, {\"id\": 17, \"states\": \"Illinois\", \"state_abbr\": \"IL\", \"year\": 2011, \"population\": 12867454}, {\"id\": 18, \"states\": \"Indiana\", \"state_abbr\": \"IN\", \"year\": 2011, \"population\": 6516528}, {\"id\": 19, \"states\": \"Iowa\", \"state_abbr\": \"IA\", \"year\": 2011, \"population\": 3066336}, {\"id\": 20, \"states\": \"Kansas\", \"state_abbr\": \"KS\", \"year\": 2011, \"population\": 2869225}, {\"id\": 21, \"states\": \"Kentucky\", \"state_abbr\": \"KY\", \"year\": 2011, \"population\": 4369821}, {\"id\": 22, \"states\": \"Louisiana\", \"state_abbr\": \"LA\", \"year\": 2011, \"population\": 4575625}, {\"id\": 23, \"states\": \"Maine\", \"state_abbr\": \"ME\", \"year\": 2011, \"population\": 1328284}, {\"id\": 24, \"states\": \"Maryland\", \"state_abbr\": \"MD\", \"year\": 2011, \"population\": 5839419}, {\"id\": 25, \"states\": \"Massachusetts\", \"state_abbr\": \"MA\", \"year\": 2011, \"population\": 6613583}, {\"id\": 26, \"states\": \"Michigan\", \"state_abbr\": \"MI\", \"year\": 2011, \"population\": 9882412}, {\"id\": 27, \"states\": \"Minnesota\", \"state_abbr\": \"MN\", \"year\": 2011, \"population\": 5346143}, {\"id\": 28, \"states\": \"Mississippi\", \"state_abbr\": \"MS\", \"year\": 2011, \"population\": 2978731}, {\"id\": 29, \"states\": \"Missouri\", \"state_abbr\": \"MO\", \"year\": 2011, \"population\": 6010275}, {\"id\": 30, \"states\": \"Montana\", \"state_abbr\": \"MT\", \"year\": 2011, \"population\": 997316}, {\"id\": 31, \"states\": \"Nebraska\", \"state_abbr\": \"NE\", \"year\": 2011, \"population\": 1840672}, {\"id\": 32, \"states\": \"Nevada\", \"state_abbr\": \"NV\", \"year\": 2011, \"population\": 2712730}, {\"id\": 33, \"states\": \"New Hampshire\", \"state_abbr\": \"NH\", \"year\": 2011, \"population\": 1320202}, {\"id\": 34, \"states\": \"New Jersey\", \"state_abbr\": \"NJ\", \"year\": 2011, \"population\": 8828117}, {\"id\": 35, \"states\": \"New Mexico\", \"state_abbr\": \"NM\", \"year\": 2011, \"population\": 2080450}, {\"id\": 36, \"states\": \"New York\", \"state_abbr\": \"NY\", \"year\": 2011, \"population\": 19499241}, {\"id\": 37, \"states\": \"North Carolina\", \"state_abbr\": \"NC\", \"year\": 2011, \"population\": 9657592}, {\"id\": 38, \"states\": \"North Dakota\", \"state_abbr\": \"ND\", \"year\": 2011, \"population\": 685225}, {\"id\": 39, \"states\": \"Ohio\", \"state_abbr\": \"OH\", \"year\": 2011, \"population\": 11544663}, {\"id\": 40, \"states\": \"Oklahoma\", \"state_abbr\": \"OK\", \"year\": 2011, \"population\": 3788379}, {\"id\": 41, \"states\": \"Oregon\", \"state_abbr\": \"OR\", \"year\": 2011, \"population\": 3872036}, {\"id\": 42, \"states\": \"Pennsylvania\", \"state_abbr\": \"PA\", \"year\": 2011, \"population\": 12745815}, {\"id\": 44, \"states\": \"Rhode Island\", \"state_abbr\": \"RI\", \"year\": 2011, \"population\": 1053649}, {\"id\": 45, \"states\": \"South Carolina\", \"state_abbr\": \"SC\", \"year\": 2011, \"population\": 4671994}, {\"id\": 46, \"states\": \"South Dakota\", \"state_abbr\": \"SD\", \"year\": 2011, \"population\": 823579}, {\"id\": 47, \"states\": \"Tennessee\", \"state_abbr\": \"TN\", \"year\": 2011, \"population\": 6399291}, {\"id\": 48, \"states\": \"Texas\", \"state_abbr\": \"TX\", \"year\": 2011, \"population\": 25645629}, {\"id\": 49, \"states\": \"Utah\", \"state_abbr\": \"UT\", \"year\": 2011, \"population\": 2814384}, {\"id\": 50, \"states\": \"Vermont\", \"state_abbr\": \"VT\", \"year\": 2011, \"population\": 627049}, {\"id\": 51, \"states\": \"Virginia\", \"state_abbr\": \"VA\", \"year\": 2011, \"population\": 8101155}, {\"id\": 53, \"states\": \"Washington\", \"state_abbr\": \"WA\", \"year\": 2011, \"population\": 6826627}, {\"id\": 54, \"states\": \"West Virginia\", \"state_abbr\": \"WV\", \"year\": 2011, \"population\": 1856301}, {\"id\": 55, \"states\": \"Wisconsin\", \"state_abbr\": \"WI\", \"year\": 2011, \"population\": 5705288}, {\"id\": 56, \"states\": \"Wyoming\", \"state_abbr\": \"WY\", \"year\": 2011, \"population\": 567299}, {\"id\": 72, \"states\": \"Puerto Rico\", \"state_abbr\": \"PR\", \"year\": 2011, \"population\": 3678732}, {\"id\": 1, \"states\": \"Alabama\", \"state_abbr\": \"AL\", \"year\": 2012, \"population\": 4815588}, {\"id\": 2, \"states\": \"Alaska\", \"state_abbr\": \"AK\", \"year\": 2012, \"population\": 730443}, {\"id\": 4, \"states\": \"Arizona\", \"state_abbr\": \"AZ\", \"year\": 2012, \"population\": 6554978}, {\"id\": 5, \"states\": \"Arkansas\", \"state_abbr\": \"AR\", \"year\": 2012, \"population\": 2952164}, {\"id\": 6, \"states\": \"California\", \"state_abbr\": \"CA\", \"year\": 2012, \"population\": 37948800}, {\"id\": 8, \"states\": \"Colorado\", \"state_abbr\": \"CO\", \"year\": 2012, \"population\": 5192647}, {\"id\": 9, \"states\": \"Connecticut\", \"state_abbr\": \"CT\", \"year\": 2012, \"population\": 3594547}, {\"id\": 10, \"states\": \"Delaware\", \"state_abbr\": \"DE\", \"year\": 2012, \"population\": 915179}, {\"id\": 11, \"states\": \"District of Columbia\", \"state_abbr\": \"DC\", \"year\": 2012, \"population\": 634924}, {\"id\": 12, \"states\": \"Florida\", \"state_abbr\": \"FL\", \"year\": 2012, \"population\": 19297822}, {\"id\": 13, \"states\": \"Georgia\", \"state_abbr\": \"GA\", \"year\": 2012, \"population\": 9901430}, {\"id\": 15, \"states\": \"Hawaii\", \"state_abbr\": \"HI\", \"year\": 2012, \"population\": 1394804}, {\"id\": 16, \"states\": \"Idaho\", \"state_abbr\": \"ID\", \"year\": 2012, \"population\": 1595324}, {\"id\": 17, \"states\": \"Illinois\", \"state_abbr\": \"IL\", \"year\": 2012, \"population\": 12882510}, {\"id\": 18, \"states\": \"Indiana\", \"state_abbr\": \"IN\", \"year\": 2012, \"population\": 6537703}, {\"id\": 19, \"states\": \"Iowa\", \"state_abbr\": \"IA\", \"year\": 2012, \"population\": 3076190}, {\"id\": 20, \"states\": \"Kansas\", \"state_abbr\": \"KS\", \"year\": 2012, \"population\": 2885257}, {\"id\": 21, \"states\": \"Kentucky\", \"state_abbr\": \"KY\", \"year\": 2012, \"population\": 4386346}, {\"id\": 22, \"states\": \"Louisiana\", \"state_abbr\": \"LA\", \"year\": 2012, \"population\": 4600972}, {\"id\": 23, \"states\": \"Maine\", \"state_abbr\": \"ME\", \"year\": 2012, \"population\": 1327729}, {\"id\": 24, \"states\": \"Maryland\", \"state_abbr\": \"MD\", \"year\": 2012, \"population\": 5886992}, {\"id\": 25, \"states\": \"Massachusetts\", \"state_abbr\": \"MA\", \"year\": 2012, \"population\": 6663005}, {\"id\": 26, \"states\": \"Michigan\", \"state_abbr\": \"MI\", \"year\": 2012, \"population\": 9897145}, {\"id\": 27, \"states\": \"Minnesota\", \"state_abbr\": \"MN\", \"year\": 2012, \"population\": 5376643}, {\"id\": 28, \"states\": \"Mississippi\", \"state_abbr\": \"MS\", \"year\": 2012, \"population\": 2983816}, {\"id\": 29, \"states\": \"Missouri\", \"state_abbr\": \"MO\", \"year\": 2012, \"population\": 6024367}, {\"id\": 30, \"states\": \"Montana\", \"state_abbr\": \"MT\", \"year\": 2012, \"population\": 1003783}, {\"id\": 31, \"states\": \"Nebraska\", \"state_abbr\": \"NE\", \"year\": 2012, \"population\": 1853303}, {\"id\": 32, \"states\": \"Nevada\", \"state_abbr\": \"NV\", \"year\": 2012, \"population\": 2743996}, {\"id\": 33, \"states\": \"New Hampshire\", \"state_abbr\": \"NH\", \"year\": 2012, \"population\": 1324232}, {\"id\": 34, \"states\": \"New Jersey\", \"state_abbr\": \"NJ\", \"year\": 2012, \"population\": 8844942}, {\"id\": 35, \"states\": \"New Mexico\", \"state_abbr\": \"NM\", \"year\": 2012, \"population\": 2087309}, {\"id\": 36, \"states\": \"New York\", \"state_abbr\": \"NY\", \"year\": 2012, \"population\": 19572932}, {\"id\": 37, \"states\": \"North Carolina\", \"state_abbr\": \"NC\", \"year\": 2012, \"population\": 9749476}, {\"id\": 38, \"states\": \"North Dakota\", \"state_abbr\": \"ND\", \"year\": 2012, \"population\": 701176}, {\"id\": 39, \"states\": \"Ohio\", \"state_abbr\": \"OH\", \"year\": 2012, \"population\": 11548923}, {\"id\": 40, \"states\": \"Oklahoma\", \"state_abbr\": \"OK\", \"year\": 2012, \"population\": 3818814}, {\"id\": 41, \"states\": \"Oregon\", \"state_abbr\": \"OR\", \"year\": 2012, \"population\": 3899001}, {\"id\": 42, \"states\": \"Pennsylvania\", \"state_abbr\": \"PA\", \"year\": 2012, \"population\": 12767118}, {\"id\": 44, \"states\": \"Rhode Island\", \"state_abbr\": \"RI\", \"year\": 2012, \"population\": 1054621}, {\"id\": 45, \"states\": \"South Carolina\", \"state_abbr\": \"SC\", \"year\": 2012, \"population\": 4717354}, {\"id\": 46, \"states\": \"South Dakota\", \"state_abbr\": \"SD\", \"year\": 2012, \"population\": 833566}, {\"id\": 47, \"states\": \"Tennessee\", \"state_abbr\": \"TN\", \"year\": 2012, \"population\": 6453898}, {\"id\": 48, \"states\": \"Texas\", \"state_abbr\": \"TX\", \"year\": 2012, \"population\": 26084481}, {\"id\": 49, \"states\": \"Utah\", \"state_abbr\": \"UT\", \"year\": 2012, \"population\": 2853375}, {\"id\": 50, \"states\": \"Vermont\", \"state_abbr\": \"VT\", \"year\": 2012, \"population\": 626090}, {\"id\": 51, \"states\": \"Virginia\", \"state_abbr\": \"VA\", \"year\": 2012, \"population\": 8185080}, {\"id\": 53, \"states\": \"Washington\", \"state_abbr\": \"WA\", \"year\": 2012, \"population\": 6897058}, {\"id\": 54, \"states\": \"West Virginia\", \"state_abbr\": \"WV\", \"year\": 2012, \"population\": 1856872}, {\"id\": 55, \"states\": \"Wisconsin\", \"state_abbr\": \"WI\", \"year\": 2012, \"population\": 5719960}, {\"id\": 56, \"states\": \"Wyoming\", \"state_abbr\": \"WY\", \"year\": 2012, \"population\": 576305}, {\"id\": 72, \"states\": \"Puerto Rico\", \"state_abbr\": \"PR\", \"year\": 2012, \"population\": 3634488}, {\"id\": 1, \"states\": \"Alabama\", \"state_abbr\": \"AL\", \"year\": 2013, \"population\": 4830081}, {\"id\": 2, \"states\": \"Alaska\", \"state_abbr\": \"AK\", \"year\": 2013, \"population\": 737068}, {\"id\": 4, \"states\": \"Arizona\", \"state_abbr\": \"AZ\", \"year\": 2013, \"population\": 6632764}, {\"id\": 5, \"states\": \"Arkansas\", \"state_abbr\": \"AR\", \"year\": 2013, \"population\": 2959400}, {\"id\": 6, \"states\": \"California\", \"state_abbr\": \"CA\", \"year\": 2013, \"population\": 38260787}, {\"id\": 8, \"states\": \"Colorado\", \"state_abbr\": \"CO\", \"year\": 2013, \"population\": 5269035}, {\"id\": 9, \"states\": \"Connecticut\", \"state_abbr\": \"CT\", \"year\": 2013, \"population\": 3594841}, {\"id\": 10, \"states\": \"Delaware\", \"state_abbr\": \"DE\", \"year\": 2013, \"population\": 923576}, {\"id\": 11, \"states\": \"District of Columbia\", \"state_abbr\": \"DC\", \"year\": 2013, \"population\": 650581}, {\"id\": 12, \"states\": \"Florida\", \"state_abbr\": \"FL\", \"year\": 2013, \"population\": 19545621}, {\"id\": 13, \"states\": \"Georgia\", \"state_abbr\": \"GA\", \"year\": 2013, \"population\": 9972479}, {\"id\": 15, \"states\": \"Hawaii\", \"state_abbr\": \"HI\", \"year\": 2013, \"population\": 1408243}, {\"id\": 16, \"states\": \"Idaho\", \"state_abbr\": \"ID\", \"year\": 2013, \"population\": 1611206}, {\"id\": 17, \"states\": \"Illinois\", \"state_abbr\": \"IL\", \"year\": 2013, \"population\": 12895129}, {\"id\": 18, \"states\": \"Indiana\", \"state_abbr\": \"IN\", \"year\": 2013, \"population\": 6568713}, {\"id\": 19, \"states\": \"Iowa\", \"state_abbr\": \"IA\", \"year\": 2013, \"population\": 3092997}, {\"id\": 20, \"states\": \"Kansas\", \"state_abbr\": \"KS\", \"year\": 2013, \"population\": 2893212}, {\"id\": 21, \"states\": \"Kentucky\", \"state_abbr\": \"KY\", \"year\": 2013, \"population\": 4404659}, {\"id\": 22, \"states\": \"Louisiana\", \"state_abbr\": \"LA\", \"year\": 2013, \"population\": 4624527}, {\"id\": 23, \"states\": \"Maine\", \"state_abbr\": \"ME\", \"year\": 2013, \"population\": 1328009}, {\"id\": 24, \"states\": \"Maryland\", \"state_abbr\": \"MD\", \"year\": 2013, \"population\": 5923188}, {\"id\": 25, \"states\": \"Massachusetts\", \"state_abbr\": \"MA\", \"year\": 2013, \"population\": 6713315}, {\"id\": 26, \"states\": \"Michigan\", \"state_abbr\": \"MI\", \"year\": 2013, \"population\": 9913065}, {\"id\": 27, \"states\": \"Minnesota\", \"state_abbr\": \"MN\", \"year\": 2013, \"population\": 5413479}, {\"id\": 28, \"states\": \"Mississippi\", \"state_abbr\": \"MS\", \"year\": 2013, \"population\": 2988711}, {\"id\": 29, \"states\": \"Missouri\", \"state_abbr\": \"MO\", \"year\": 2013, \"population\": 6040715}, {\"id\": 30, \"states\": \"Montana\", \"state_abbr\": \"MT\", \"year\": 2013, \"population\": 1013569}, {\"id\": 31, \"states\": \"Nebraska\", \"state_abbr\": \"NE\", \"year\": 2013, \"population\": 1865279}, {\"id\": 32, \"states\": \"Nevada\", \"state_abbr\": \"NV\", \"year\": 2013, \"population\": 2775970}, {\"id\": 33, \"states\": \"New Hampshire\", \"state_abbr\": \"NH\", \"year\": 2013, \"population\": 1326622}, {\"id\": 34, \"states\": \"New Jersey\", \"state_abbr\": \"NJ\", \"year\": 2013, \"population\": 8856972}, {\"id\": 35, \"states\": \"New Mexico\", \"state_abbr\": \"NM\", \"year\": 2013, \"population\": 2092273}, {\"id\": 36, \"states\": \"New York\", \"state_abbr\": \"NY\", \"year\": 2013, \"population\": 19624447}, {\"id\": 37, \"states\": \"North Carolina\", \"state_abbr\": \"NC\", \"year\": 2013, \"population\": 9843336}, {\"id\": 38, \"states\": \"North Dakota\", \"state_abbr\": \"ND\", \"year\": 2013, \"population\": 722036}, {\"id\": 39, \"states\": \"Ohio\", \"state_abbr\": \"OH\", \"year\": 2013, \"population\": 11576684}, {\"id\": 40, \"states\": \"Oklahoma\", \"state_abbr\": \"OK\", \"year\": 2013, \"population\": 3853214}, {\"id\": 41, \"states\": \"Oregon\", \"state_abbr\": \"OR\", \"year\": 2013, \"population\": 3922468}, {\"id\": 42, \"states\": \"Pennsylvania\", \"state_abbr\": \"PA\", \"year\": 2013, \"population\": 12776309}, {\"id\": 44, \"states\": \"Rhode Island\", \"state_abbr\": \"RI\", \"year\": 2013, \"population\": 1055081}, {\"id\": 45, \"states\": \"South Carolina\", \"state_abbr\": \"SC\", \"year\": 2013, \"population\": 4764080}, {\"id\": 46, \"states\": \"South Dakota\", \"state_abbr\": \"SD\", \"year\": 2013, \"population\": 842316}, {\"id\": 47, \"states\": \"Tennessee\", \"state_abbr\": \"TN\", \"year\": 2013, \"population\": 6494340}, {\"id\": 48, \"states\": \"Texas\", \"state_abbr\": \"TX\", \"year\": 2013, \"population\": 26480266}, {\"id\": 49, \"states\": \"Utah\", \"state_abbr\": \"UT\", \"year\": 2013, \"population\": 2897640}, {\"id\": 50, \"states\": \"Vermont\", \"state_abbr\": \"VT\", \"year\": 2013, \"population\": 626210}, {\"id\": 51, \"states\": \"Virginia\", \"state_abbr\": \"VA\", \"year\": 2013, \"population\": 8252427}, {\"id\": 53, \"states\": \"Washington\", \"state_abbr\": \"WA\", \"year\": 2013, \"population\": 6963985}, {\"id\": 54, \"states\": \"West Virginia\", \"state_abbr\": \"WV\", \"year\": 2013, \"population\": 1853914}, {\"id\": 55, \"states\": \"Wisconsin\", \"state_abbr\": \"WI\", \"year\": 2013, \"population\": 5736754}, {\"id\": 56, \"states\": \"Wyoming\", \"state_abbr\": \"WY\", \"year\": 2013, \"population\": 582122}, {\"id\": 72, \"states\": \"Puerto Rico\", \"state_abbr\": \"PR\", \"year\": 2013, \"population\": 3593077}, {\"id\": 1, \"states\": \"Alabama\", \"state_abbr\": \"AL\", \"year\": 2014, \"population\": 4841799}, {\"id\": 2, \"states\": \"Alaska\", \"state_abbr\": \"AK\", \"year\": 2014, \"population\": 736283}, {\"id\": 4, \"states\": \"Arizona\", \"state_abbr\": \"AZ\", \"year\": 2014, \"population\": 6730413}, {\"id\": 5, \"states\": \"Arkansas\", \"state_abbr\": \"AR\", \"year\": 2014, \"population\": 2967392}, {\"id\": 6, \"states\": \"California\", \"state_abbr\": \"CA\", \"year\": 2014, \"population\": 38596972}, {\"id\": 8, \"states\": \"Colorado\", \"state_abbr\": \"CO\", \"year\": 2014, \"population\": 5350101}, {\"id\": 9, \"states\": \"Connecticut\", \"state_abbr\": \"CT\", \"year\": 2014, \"population\": 3594524}, {\"id\": 10, \"states\": \"Delaware\", \"state_abbr\": \"DE\", \"year\": 2014, \"population\": 932487}, {\"id\": 11, \"states\": \"District of Columbia\", \"state_abbr\": \"DC\", \"year\": 2014, \"population\": 662328}, {\"id\": 12, \"states\": \"Florida\", \"state_abbr\": \"FL\", \"year\": 2014, \"population\": 19845911}, {\"id\": 13, \"states\": \"Georgia\", \"state_abbr\": \"GA\", \"year\": 2014, \"population\": 10067278}, {\"id\": 15, \"states\": \"Hawaii\", \"state_abbr\": \"HI\", \"year\": 2014, \"population\": 1414538}, {\"id\": 16, \"states\": \"Idaho\", \"state_abbr\": \"ID\", \"year\": 2014, \"population\": 1631112}, {\"id\": 17, \"states\": \"Illinois\", \"state_abbr\": \"IL\", \"year\": 2014, \"population\": 12884493}, {\"id\": 18, \"states\": \"Indiana\", \"state_abbr\": \"IN\", \"year\": 2014, \"population\": 6593644}, {\"id\": 19, \"states\": \"Iowa\", \"state_abbr\": \"IA\", \"year\": 2014, \"population\": 3109350}, {\"id\": 20, \"states\": \"Kansas\", \"state_abbr\": \"KS\", \"year\": 2014, \"population\": 2900475}, {\"id\": 21, \"states\": \"Kentucky\", \"state_abbr\": \"KY\", \"year\": 2014, \"population\": 4414349}, {\"id\": 22, \"states\": \"Louisiana\", \"state_abbr\": \"LA\", \"year\": 2014, \"population\": 4644013}, {\"id\": 23, \"states\": \"Maine\", \"state_abbr\": \"ME\", \"year\": 2014, \"population\": 1330513}, {\"id\": 24, \"states\": \"Maryland\", \"state_abbr\": \"MD\", \"year\": 2014, \"population\": 5957283}, {\"id\": 25, \"states\": \"Massachusetts\", \"state_abbr\": \"MA\", \"year\": 2014, \"population\": 6762596}, {\"id\": 26, \"states\": \"Michigan\", \"state_abbr\": \"MI\", \"year\": 2014, \"population\": 9929848}, {\"id\": 27, \"states\": \"Minnesota\", \"state_abbr\": \"MN\", \"year\": 2014, \"population\": 5451079}, {\"id\": 28, \"states\": \"Mississippi\", \"state_abbr\": \"MS\", \"year\": 2014, \"population\": 2990468}, {\"id\": 29, \"states\": \"Missouri\", \"state_abbr\": \"MO\", \"year\": 2014, \"population\": 6056202}, {\"id\": 30, \"states\": \"Montana\", \"state_abbr\": \"MT\", \"year\": 2014, \"population\": 1021869}, {\"id\": 31, \"states\": \"Nebraska\", \"state_abbr\": \"NE\", \"year\": 2014, \"population\": 1879321}, {\"id\": 32, \"states\": \"Nevada\", \"state_abbr\": \"NV\", \"year\": 2014, \"population\": 2817628}, {\"id\": 33, \"states\": \"New Hampshire\", \"state_abbr\": \"NH\", \"year\": 2014, \"population\": 1333341}, {\"id\": 34, \"states\": \"New Jersey\", \"state_abbr\": \"NJ\", \"year\": 2014, \"population\": 8864525}, {\"id\": 35, \"states\": \"New Mexico\", \"state_abbr\": \"NM\", \"year\": 2014, \"population\": 2089568}, {\"id\": 36, \"states\": \"New York\", \"state_abbr\": \"NY\", \"year\": 2014, \"population\": 19651049}, {\"id\": 37, \"states\": \"North Carolina\", \"state_abbr\": \"NC\", \"year\": 2014, \"population\": 9932887}, {\"id\": 38, \"states\": \"North Dakota\", \"state_abbr\": \"ND\", \"year\": 2014, \"population\": 737401}, {\"id\": 39, \"states\": \"Ohio\", \"state_abbr\": \"OH\", \"year\": 2014, \"population\": 11602700}, {\"id\": 40, \"states\": \"Oklahoma\", \"state_abbr\": \"OK\", \"year\": 2014, \"population\": 3878187}, {\"id\": 41, \"states\": \"Oregon\", \"state_abbr\": \"OR\", \"year\": 2014, \"population\": 3963244}, {\"id\": 42, \"states\": \"Pennsylvania\", \"state_abbr\": \"PA\", \"year\": 2014, \"population\": 12788313}, {\"id\": 44, \"states\": \"Rhode Island\", \"state_abbr\": \"RI\", \"year\": 2014, \"population\": 1055936}, {\"id\": 45, \"states\": \"South Carolina\", \"state_abbr\": \"SC\", \"year\": 2014, \"population\": 4823617}, {\"id\": 46, \"states\": \"South Dakota\", \"state_abbr\": \"SD\", \"year\": 2014, \"population\": 849129}, {\"id\": 47, \"states\": \"Tennessee\", \"state_abbr\": \"TN\", \"year\": 2014, \"population\": 6541223}, {\"id\": 48, \"states\": \"Texas\", \"state_abbr\": \"TX\", \"year\": 2014, \"population\": 26964333}, {\"id\": 49, \"states\": \"Utah\", \"state_abbr\": \"UT\", \"year\": 2014, \"population\": 2936879}, {\"id\": 50, \"states\": \"Vermont\", \"state_abbr\": \"VT\", \"year\": 2014, \"population\": 625214}, {\"id\": 51, \"states\": \"Virginia\", \"state_abbr\": \"VA\", \"year\": 2014, \"population\": 8310993}, {\"id\": 53, \"states\": \"Washington\", \"state_abbr\": \"WA\", \"year\": 2014, \"population\": 7054655}, {\"id\": 54, \"states\": \"West Virginia\", \"state_abbr\": \"WV\", \"year\": 2014, \"population\": 1849489}, {\"id\": 55, \"states\": \"Wisconsin\", \"state_abbr\": \"WI\", \"year\": 2014, \"population\": 5751525}, {\"id\": 56, \"states\": \"Wyoming\", \"state_abbr\": \"WY\", \"year\": 2014, \"population\": 582531}, {\"id\": 72, \"states\": \"Puerto Rico\", \"state_abbr\": \"PR\", \"year\": 2014, \"population\": 3534874}, {\"id\": 1, \"states\": \"Alabama\", \"state_abbr\": \"AL\", \"year\": 2015, \"population\": 4852347}, {\"id\": 2, \"states\": \"Alaska\", \"state_abbr\": \"AK\", \"year\": 2015, \"population\": 737498}, {\"id\": 4, \"states\": \"Arizona\", \"state_abbr\": \"AZ\", \"year\": 2015, \"population\": 6829676}, {\"id\": 5, \"states\": \"Arkansas\", \"state_abbr\": \"AR\", \"year\": 2015, \"population\": 2978048}, {\"id\": 6, \"states\": \"California\", \"state_abbr\": \"CA\", \"year\": 2015, \"population\": 38918045}, {\"id\": 8, \"states\": \"Colorado\", \"state_abbr\": \"CO\", \"year\": 2015, \"population\": 5450623}, {\"id\": 9, \"states\": \"Connecticut\", \"state_abbr\": \"CT\", \"year\": 2015, \"population\": 3587122}, {\"id\": 10, \"states\": \"Delaware\", \"state_abbr\": \"DE\", \"year\": 2015, \"population\": 941252}, {\"id\": 11, \"states\": \"District of Columbia\", \"state_abbr\": \"DC\", \"year\": 2015, \"population\": 675400}, {\"id\": 12, \"states\": \"Florida\", \"state_abbr\": \"FL\", \"year\": 2015, \"population\": 20209042}, {\"id\": 13, \"states\": \"Georgia\", \"state_abbr\": \"GA\", \"year\": 2015, \"population\": 10178447}, {\"id\": 15, \"states\": \"Hawaii\", \"state_abbr\": \"HI\", \"year\": 2015, \"population\": 1422052}, {\"id\": 16, \"states\": \"Idaho\", \"state_abbr\": \"ID\", \"year\": 2015, \"population\": 1651059}, {\"id\": 17, \"states\": \"Illinois\", \"state_abbr\": \"IL\", \"year\": 2015, \"population\": 12858913}, {\"id\": 18, \"states\": \"Indiana\", \"state_abbr\": \"IN\", \"year\": 2015, \"population\": 6608422}, {\"id\": 19, \"states\": \"Iowa\", \"state_abbr\": \"IA\", \"year\": 2015, \"population\": 3120960}, {\"id\": 20, \"states\": \"Kansas\", \"state_abbr\": \"KS\", \"year\": 2015, \"population\": 2909011}, {\"id\": 21, \"states\": \"Kentucky\", \"state_abbr\": \"KY\", \"year\": 2015, \"population\": 4425976}, {\"id\": 22, \"states\": \"Louisiana\", \"state_abbr\": \"LA\", \"year\": 2015, \"population\": 4664628}, {\"id\": 23, \"states\": \"Maine\", \"state_abbr\": \"ME\", \"year\": 2015, \"population\": 1328262}, {\"id\": 24, \"states\": \"Maryland\", \"state_abbr\": \"MD\", \"year\": 2015, \"population\": 5985562}, {\"id\": 25, \"states\": \"Massachusetts\", \"state_abbr\": \"MA\", \"year\": 2015, \"population\": 6794228}, {\"id\": 26, \"states\": \"Michigan\", \"state_abbr\": \"MI\", \"year\": 2015, \"population\": 9931715}, {\"id\": 27, \"states\": \"Minnesota\", \"state_abbr\": \"MN\", \"year\": 2015, \"population\": 5482032}, {\"id\": 28, \"states\": \"Mississippi\", \"state_abbr\": \"MS\", \"year\": 2015, \"population\": 2988471}, {\"id\": 29, \"states\": \"Missouri\", \"state_abbr\": \"MO\", \"year\": 2015, \"population\": 6071732}, {\"id\": 30, \"states\": \"Montana\", \"state_abbr\": \"MT\", \"year\": 2015, \"population\": 1030475}, {\"id\": 31, \"states\": \"Nebraska\", \"state_abbr\": \"NE\", \"year\": 2015, \"population\": 1891277}, {\"id\": 32, \"states\": \"Nevada\", \"state_abbr\": \"NV\", \"year\": 2015, \"population\": 2866939}, {\"id\": 33, \"states\": \"New Hampshire\", \"state_abbr\": \"NH\", \"year\": 2015, \"population\": 1336350}, {\"id\": 34, \"states\": \"New Jersey\", \"state_abbr\": \"NJ\", \"year\": 2015, \"population\": 8867949}, {\"id\": 35, \"states\": \"New Mexico\", \"state_abbr\": \"NM\", \"year\": 2015, \"population\": 2089291}, {\"id\": 36, \"states\": \"New York\", \"state_abbr\": \"NY\", \"year\": 2015, \"population\": 19654666}, {\"id\": 37, \"states\": \"North Carolina\", \"state_abbr\": \"NC\", \"year\": 2015, \"population\": 10031646}, {\"id\": 38, \"states\": \"North Dakota\", \"state_abbr\": \"ND\", \"year\": 2015, \"population\": 754066}, {\"id\": 39, \"states\": \"Ohio\", \"state_abbr\": \"OH\", \"year\": 2015, \"population\": 11617527}, {\"id\": 40, \"states\": \"Oklahoma\", \"state_abbr\": \"OK\", \"year\": 2015, \"population\": 3909500}, {\"id\": 41, \"states\": \"Oregon\", \"state_abbr\": \"OR\", \"year\": 2015, \"population\": 4015792}, {\"id\": 42, \"states\": \"Pennsylvania\", \"state_abbr\": \"PA\", \"year\": 2015, \"population\": 12784826}, {\"id\": 44, \"states\": \"Rhode Island\", \"state_abbr\": \"RI\", \"year\": 2015, \"population\": 1056065}, {\"id\": 45, \"states\": \"South Carolina\", \"state_abbr\": \"SC\", \"year\": 2015, \"population\": 4891938}, {\"id\": 46, \"states\": \"South Dakota\", \"state_abbr\": \"SD\", \"year\": 2015, \"population\": 853988}, {\"id\": 47, \"states\": \"Tennessee\", \"state_abbr\": \"TN\", \"year\": 2015, \"population\": 6591170}, {\"id\": 48, \"states\": \"Texas\", \"state_abbr\": \"TX\", \"year\": 2015, \"population\": 27470056}, {\"id\": 49, \"states\": \"Utah\", \"state_abbr\": \"UT\", \"year\": 2015, \"population\": 2981835}, {\"id\": 50, \"states\": \"Vermont\", \"state_abbr\": \"VT\", \"year\": 2015, \"population\": 625216}, {\"id\": 51, \"states\": \"Virginia\", \"state_abbr\": \"VA\", \"year\": 2015, \"population\": 8361808}, {\"id\": 53, \"states\": \"Washington\", \"state_abbr\": \"WA\", \"year\": 2015, \"population\": 7163657}, {\"id\": 54, \"states\": \"West Virginia\", \"state_abbr\": \"WV\", \"year\": 2015, \"population\": 1842050}, {\"id\": 55, \"states\": \"Wisconsin\", \"state_abbr\": \"WI\", \"year\": 2015, \"population\": 5760940}, {\"id\": 56, \"states\": \"Wyoming\", \"state_abbr\": \"WY\", \"year\": 2015, \"population\": 585613}, {\"id\": 72, \"states\": \"Puerto Rico\", \"state_abbr\": \"PR\", \"year\": 2015, \"population\": 3473232}, {\"id\": 1, \"states\": \"Alabama\", \"state_abbr\": \"AL\", \"year\": 2016, \"population\": 4863525}, {\"id\": 2, \"states\": \"Alaska\", \"state_abbr\": \"AK\", \"year\": 2016, \"population\": 741456}, {\"id\": 4, \"states\": \"Arizona\", \"state_abbr\": \"AZ\", \"year\": 2016, \"population\": 6941072}, {\"id\": 5, \"states\": \"Arkansas\", \"state_abbr\": \"AR\", \"year\": 2016, \"population\": 2989918}, {\"id\": 6, \"states\": \"California\", \"state_abbr\": \"CA\", \"year\": 2016, \"population\": 39167117}, {\"id\": 8, \"states\": \"Colorado\", \"state_abbr\": \"CO\", \"year\": 2016, \"population\": 5539215}, {\"id\": 9, \"states\": \"Connecticut\", \"state_abbr\": \"CT\", \"year\": 2016, \"population\": 3578141}, {\"id\": 10, \"states\": \"Delaware\", \"state_abbr\": \"DE\", \"year\": 2016, \"population\": 948921}, {\"id\": 11, \"states\": \"District of Columbia\", \"state_abbr\": \"DC\", \"year\": 2016, \"population\": 685815}, {\"id\": 12, \"states\": \"Florida\", \"state_abbr\": \"FL\", \"year\": 2016, \"population\": 20613477}, {\"id\": 13, \"states\": \"Georgia\", \"state_abbr\": \"GA\", \"year\": 2016, \"population\": 10301890}, {\"id\": 15, \"states\": \"Hawaii\", \"state_abbr\": \"HI\", \"year\": 2016, \"population\": 1427559}, {\"id\": 16, \"states\": \"Idaho\", \"state_abbr\": \"ID\", \"year\": 2016, \"population\": 1682380}, {\"id\": 17, \"states\": \"Illinois\", \"state_abbr\": \"IL\", \"year\": 2016, \"population\": 12820527}, {\"id\": 18, \"states\": \"Indiana\", \"state_abbr\": \"IN\", \"year\": 2016, \"population\": 6634304}, {\"id\": 19, \"states\": \"Iowa\", \"state_abbr\": \"IA\", \"year\": 2016, \"population\": 3131371}, {\"id\": 20, \"states\": \"Kansas\", \"state_abbr\": \"KS\", \"year\": 2016, \"population\": 2910844}, {\"id\": 21, \"states\": \"Kentucky\", \"state_abbr\": \"KY\", \"year\": 2016, \"population\": 4438182}, {\"id\": 22, \"states\": \"Louisiana\", \"state_abbr\": \"LA\", \"year\": 2016, \"population\": 4678135}, {\"id\": 23, \"states\": \"Maine\", \"state_abbr\": \"ME\", \"year\": 2016, \"population\": 1331317}, {\"id\": 24, \"states\": \"Maryland\", \"state_abbr\": \"MD\", \"year\": 2016, \"population\": 6003323}, {\"id\": 25, \"states\": \"Massachusetts\", \"state_abbr\": \"MA\", \"year\": 2016, \"population\": 6823608}, {\"id\": 26, \"states\": \"Michigan\", \"state_abbr\": \"MI\", \"year\": 2016, \"population\": 9950571}, {\"id\": 27, \"states\": \"Minnesota\", \"state_abbr\": \"MN\", \"year\": 2016, \"population\": 5522744}, {\"id\": 28, \"states\": \"Mississippi\", \"state_abbr\": \"MS\", \"year\": 2016, \"population\": 2987938}, {\"id\": 29, \"states\": \"Missouri\", \"state_abbr\": \"MO\", \"year\": 2016, \"population\": 6087135}, {\"id\": 30, \"states\": \"Montana\", \"state_abbr\": \"MT\", \"year\": 2016, \"population\": 1040859}, {\"id\": 31, \"states\": \"Nebraska\", \"state_abbr\": \"NE\", \"year\": 2016, \"population\": 1905616}, {\"id\": 32, \"states\": \"Nevada\", \"state_abbr\": \"NV\", \"year\": 2016, \"population\": 2917563}, {\"id\": 33, \"states\": \"New Hampshire\", \"state_abbr\": \"NH\", \"year\": 2016, \"population\": 1342307}, {\"id\": 34, \"states\": \"New Jersey\", \"state_abbr\": \"NJ\", \"year\": 2016, \"population\": 8870827}, {\"id\": 35, \"states\": \"New Mexico\", \"state_abbr\": \"NM\", \"year\": 2016, \"population\": 2091630}, {\"id\": 36, \"states\": \"New York\", \"state_abbr\": \"NY\", \"year\": 2016, \"population\": 19633428}, {\"id\": 37, \"states\": \"North Carolina\", \"state_abbr\": \"NC\", \"year\": 2016, \"population\": 10154788}, {\"id\": 38, \"states\": \"North Dakota\", \"state_abbr\": \"ND\", \"year\": 2016, \"population\": 754434}, {\"id\": 39, \"states\": \"Ohio\", \"state_abbr\": \"OH\", \"year\": 2016, \"population\": 11634370}, {\"id\": 40, \"states\": \"Oklahoma\", \"state_abbr\": \"OK\", \"year\": 2016, \"population\": 3926331}, {\"id\": 41, \"states\": \"Oregon\", \"state_abbr\": \"OR\", \"year\": 2016, \"population\": 4089976}, {\"id\": 42, \"states\": \"Pennsylvania\", \"state_abbr\": \"PA\", \"year\": 2016, \"population\": 12782275}, {\"id\": 44, \"states\": \"Rhode Island\", \"state_abbr\": \"RI\", \"year\": 2016, \"population\": 1056770}, {\"id\": 45, \"states\": \"South Carolina\", \"state_abbr\": \"SC\", \"year\": 2016, \"population\": 4957968}, {\"id\": 46, \"states\": \"South Dakota\", \"state_abbr\": \"SD\", \"year\": 2016, \"population\": 862996}, {\"id\": 47, \"states\": \"Tennessee\", \"state_abbr\": \"TN\", \"year\": 2016, \"population\": 6646010}, {\"id\": 48, \"states\": \"Texas\", \"state_abbr\": \"TX\", \"year\": 2016, \"population\": 27914410}, {\"id\": 49, \"states\": \"Utah\", \"state_abbr\": \"UT\", \"year\": 2016, \"population\": 3041868}, {\"id\": 50, \"states\": \"Vermont\", \"state_abbr\": \"VT\", \"year\": 2016, \"population\": 623657}, {\"id\": 51, \"states\": \"Virginia\", \"state_abbr\": \"VA\", \"year\": 2016, \"population\": 8410106}, {\"id\": 53, \"states\": \"Washington\", \"state_abbr\": \"WA\", \"year\": 2016, \"population\": 7294771}, {\"id\": 54, \"states\": \"West Virginia\", \"state_abbr\": \"WV\", \"year\": 2016, \"population\": 1831023}, {\"id\": 55, \"states\": \"Wisconsin\", \"state_abbr\": \"WI\", \"year\": 2016, \"population\": 5772628}, {\"id\": 56, \"states\": \"Wyoming\", \"state_abbr\": \"WY\", \"year\": 2016, \"population\": 584215}, {\"id\": 72, \"states\": \"Puerto Rico\", \"state_abbr\": \"PR\", \"year\": 2016, \"population\": 3406672}, {\"id\": 1, \"states\": \"Alabama\", \"state_abbr\": \"AL\", \"year\": 2017, \"population\": 4874486}, {\"id\": 2, \"states\": \"Alaska\", \"state_abbr\": \"AK\", \"year\": 2017, \"population\": 739700}, {\"id\": 4, \"states\": \"Arizona\", \"state_abbr\": \"AZ\", \"year\": 2017, \"population\": 7044008}, {\"id\": 5, \"states\": \"Arkansas\", \"state_abbr\": \"AR\", \"year\": 2017, \"population\": 3001345}, {\"id\": 6, \"states\": \"California\", \"state_abbr\": \"CA\", \"year\": 2017, \"population\": 39358497}, {\"id\": 8, \"states\": \"Colorado\", \"state_abbr\": \"CO\", \"year\": 2017, \"population\": 5611885}, {\"id\": 9, \"states\": \"Connecticut\", \"state_abbr\": \"CT\", \"year\": 2017, \"population\": 3573297}, {\"id\": 10, \"states\": \"Delaware\", \"state_abbr\": \"DE\", \"year\": 2017, \"population\": 956823}, {\"id\": 11, \"states\": \"District of Columbia\", \"state_abbr\": \"DC\", \"year\": 2017, \"population\": 694906}, {\"id\": 12, \"states\": \"Florida\", \"state_abbr\": \"FL\", \"year\": 2017, \"population\": 20963613}, {\"id\": 13, \"states\": \"Georgia\", \"state_abbr\": \"GA\", \"year\": 2017, \"population\": 10410330}, {\"id\": 15, \"states\": \"Hawaii\", \"state_abbr\": \"HI\", \"year\": 2017, \"population\": 1424393}, {\"id\": 16, \"states\": \"Idaho\", \"state_abbr\": \"ID\", \"year\": 2017, \"population\": 1717715}, {\"id\": 17, \"states\": \"Illinois\", \"state_abbr\": \"IL\", \"year\": 2017, \"population\": 12778828}, {\"id\": 18, \"states\": \"Indiana\", \"state_abbr\": \"IN\", \"year\": 2017, \"population\": 6658078}, {\"id\": 19, \"states\": \"Iowa\", \"state_abbr\": \"IA\", \"year\": 2017, \"population\": 3141550}, {\"id\": 20, \"states\": \"Kansas\", \"state_abbr\": \"KS\", \"year\": 2017, \"population\": 2908718}, {\"id\": 21, \"states\": \"Kentucky\", \"state_abbr\": \"KY\", \"year\": 2017, \"population\": 4452268}, {\"id\": 22, \"states\": \"Louisiana\", \"state_abbr\": \"LA\", \"year\": 2017, \"population\": 4670560}, {\"id\": 23, \"states\": \"Maine\", \"state_abbr\": \"ME\", \"year\": 2017, \"population\": 1334612}, {\"id\": 24, \"states\": \"Maryland\", \"state_abbr\": \"MD\", \"year\": 2017, \"population\": 6023868}, {\"id\": 25, \"states\": \"Massachusetts\", \"state_abbr\": \"MA\", \"year\": 2017, \"population\": 6859789}, {\"id\": 26, \"states\": \"Michigan\", \"state_abbr\": \"MI\", \"year\": 2017, \"population\": 9973114}, {\"id\": 27, \"states\": \"Minnesota\", \"state_abbr\": \"MN\", \"year\": 2017, \"population\": 5566230}, {\"id\": 28, \"states\": \"Mississippi\", \"state_abbr\": \"MS\", \"year\": 2017, \"population\": 2988510}, {\"id\": 29, \"states\": \"Missouri\", \"state_abbr\": \"MO\", \"year\": 2017, \"population\": 6106670}, {\"id\": 30, \"states\": \"Montana\", \"state_abbr\": \"MT\", \"year\": 2017, \"population\": 1052482}, {\"id\": 31, \"states\": \"Nebraska\", \"state_abbr\": \"NE\", \"year\": 2017, \"population\": 1915947}, {\"id\": 32, \"states\": \"Nevada\", \"state_abbr\": \"NV\", \"year\": 2017, \"population\": 2969905}, {\"id\": 33, \"states\": \"New Hampshire\", \"state_abbr\": \"NH\", \"year\": 2017, \"population\": 1348787}, {\"id\": 34, \"states\": \"New Jersey\", \"state_abbr\": \"NJ\", \"year\": 2017, \"population\": 8885525}, {\"id\": 35, \"states\": \"New Mexico\", \"state_abbr\": \"NM\", \"year\": 2017, \"population\": 2091784}, {\"id\": 36, \"states\": \"New York\", \"state_abbr\": \"NY\", \"year\": 2017, \"population\": 19589572}, {\"id\": 37, \"states\": \"North Carolina\", \"state_abbr\": \"NC\", \"year\": 2017, \"population\": 10268233}, {\"id\": 38, \"states\": \"North Dakota\", \"state_abbr\": \"ND\", \"year\": 2017, \"population\": 754942}, {\"id\": 39, \"states\": \"Ohio\", \"state_abbr\": \"OH\", \"year\": 2017, \"population\": 11659650}, {\"id\": 40, \"states\": \"Oklahoma\", \"state_abbr\": \"OK\", \"year\": 2017, \"population\": 3931316}, {\"id\": 41, \"states\": \"Oregon\", \"state_abbr\": \"OR\", \"year\": 2017, \"population\": 4143625}, {\"id\": 42, \"states\": \"Pennsylvania\", \"state_abbr\": \"PA\", \"year\": 2017, \"population\": 12787641}, {\"id\": 44, \"states\": \"Rhode Island\", \"state_abbr\": \"RI\", \"year\": 2017, \"population\": 1055673}, {\"id\": 45, \"states\": \"South Carolina\", \"state_abbr\": \"SC\", \"year\": 2017, \"population\": 5021268}, {\"id\": 46, \"states\": \"South Dakota\", \"state_abbr\": \"SD\", \"year\": 2017, \"population\": 872868}, {\"id\": 47, \"states\": \"Tennessee\", \"state_abbr\": \"TN\", \"year\": 2017, \"population\": 6708799}, {\"id\": 48, \"states\": \"Texas\", \"state_abbr\": \"TX\", \"year\": 2017, \"population\": 28295273}, {\"id\": 49, \"states\": \"Utah\", \"state_abbr\": \"UT\", \"year\": 2017, \"population\": 3101042}, {\"id\": 50, \"states\": \"Vermont\", \"state_abbr\": \"VT\", \"year\": 2017, \"population\": 624344}, {\"id\": 51, \"states\": \"Virginia\", \"state_abbr\": \"VA\", \"year\": 2017, \"population\": 8463587}, {\"id\": 53, \"states\": \"Washington\", \"state_abbr\": \"WA\", \"year\": 2017, \"population\": 7423362}, {\"id\": 54, \"states\": \"West Virginia\", \"state_abbr\": \"WV\", \"year\": 2017, \"population\": 1817004}, {\"id\": 55, \"states\": \"Wisconsin\", \"state_abbr\": \"WI\", \"year\": 2017, \"population\": 5790186}, {\"id\": 56, \"states\": \"Wyoming\", \"state_abbr\": \"WY\", \"year\": 2017, \"population\": 578931}, {\"id\": 72, \"states\": \"Puerto Rico\", \"state_abbr\": \"PR\", \"year\": 2017, \"population\": 3325286}, {\"id\": 1, \"states\": \"Alabama\", \"state_abbr\": \"AL\", \"year\": 2018, \"population\": 4887681}, {\"id\": 2, \"states\": \"Alaska\", \"state_abbr\": \"AK\", \"year\": 2018, \"population\": 735139}, {\"id\": 4, \"states\": \"Arizona\", \"state_abbr\": \"AZ\", \"year\": 2018, \"population\": 7158024}, {\"id\": 5, \"states\": \"Arkansas\", \"state_abbr\": \"AR\", \"year\": 2018, \"population\": 3009733}, {\"id\": 6, \"states\": \"California\", \"state_abbr\": \"CA\", \"year\": 2018, \"population\": 39461588}, {\"id\": 8, \"states\": \"Colorado\", \"state_abbr\": \"CO\", \"year\": 2018, \"population\": 5691287}, {\"id\": 9, \"states\": \"Connecticut\", \"state_abbr\": \"CT\", \"year\": 2018, \"population\": 3571520}, {\"id\": 10, \"states\": \"Delaware\", \"state_abbr\": \"DE\", \"year\": 2018, \"population\": 965479}, {\"id\": 11, \"states\": \"District of Columbia\", \"state_abbr\": \"DC\", \"year\": 2018, \"population\": 701547}, {\"id\": 12, \"states\": \"Florida\", \"state_abbr\": \"FL\", \"year\": 2018, \"population\": 21244317}, {\"id\": 13, \"states\": \"Georgia\", \"state_abbr\": \"GA\", \"year\": 2018, \"population\": 10511131}, {\"id\": 15, \"states\": \"Hawaii\", \"state_abbr\": \"HI\", \"year\": 2018, \"population\": 1420593}, {\"id\": 16, \"states\": \"Idaho\", \"state_abbr\": \"ID\", \"year\": 2018, \"population\": 1750536}, {\"id\": 17, \"states\": \"Illinois\", \"state_abbr\": \"IL\", \"year\": 2018, \"population\": 12723071}, {\"id\": 18, \"states\": \"Indiana\", \"state_abbr\": \"IN\", \"year\": 2018, \"population\": 6695497}, {\"id\": 19, \"states\": \"Iowa\", \"state_abbr\": \"IA\", \"year\": 2018, \"population\": 3148618}, {\"id\": 20, \"states\": \"Kansas\", \"state_abbr\": \"KS\", \"year\": 2018, \"population\": 2911359}, {\"id\": 21, \"states\": \"Kentucky\", \"state_abbr\": \"KY\", \"year\": 2018, \"population\": 4461153}, {\"id\": 22, \"states\": \"Louisiana\", \"state_abbr\": \"LA\", \"year\": 2018, \"population\": 4659690}, {\"id\": 23, \"states\": \"Maine\", \"state_abbr\": \"ME\", \"year\": 2018, \"population\": 1339057}, {\"id\": 24, \"states\": \"Maryland\", \"state_abbr\": \"MD\", \"year\": 2018, \"population\": 6035802}, {\"id\": 25, \"states\": \"Massachusetts\", \"state_abbr\": \"MA\", \"year\": 2018, \"population\": 6882635}, {\"id\": 26, \"states\": \"Michigan\", \"state_abbr\": \"MI\", \"year\": 2018, \"population\": 9984072}, {\"id\": 27, \"states\": \"Minnesota\", \"state_abbr\": \"MN\", \"year\": 2018, \"population\": 5606249}, {\"id\": 28, \"states\": \"Mississippi\", \"state_abbr\": \"MS\", \"year\": 2018, \"population\": 2981020}, {\"id\": 29, \"states\": \"Missouri\", \"state_abbr\": \"MO\", \"year\": 2018, \"population\": 6121623}, {\"id\": 30, \"states\": \"Montana\", \"state_abbr\": \"MT\", \"year\": 2018, \"population\": 1060665}, {\"id\": 31, \"states\": \"Nebraska\", \"state_abbr\": \"NE\", \"year\": 2018, \"population\": 1925614}, {\"id\": 32, \"states\": \"Nevada\", \"state_abbr\": \"NV\", \"year\": 2018, \"population\": 3027341}, {\"id\": 33, \"states\": \"New Hampshire\", \"state_abbr\": \"NH\", \"year\": 2018, \"population\": 1353465}, {\"id\": 34, \"states\": \"New Jersey\", \"state_abbr\": \"NJ\", \"year\": 2018, \"population\": 8886025}, {\"id\": 35, \"states\": \"New Mexico\", \"state_abbr\": \"NM\", \"year\": 2018, \"population\": 2092741}, {\"id\": 36, \"states\": \"New York\", \"state_abbr\": \"NY\", \"year\": 2018, \"population\": 19530351}, {\"id\": 37, \"states\": \"North Carolina\", \"state_abbr\": \"NC\", \"year\": 2018, \"population\": 10381615}, {\"id\": 38, \"states\": \"North Dakota\", \"state_abbr\": \"ND\", \"year\": 2018, \"population\": 758080}, {\"id\": 39, \"states\": \"Ohio\", \"state_abbr\": \"OH\", \"year\": 2018, \"population\": 11676341}, {\"id\": 40, \"states\": \"Oklahoma\", \"state_abbr\": \"OK\", \"year\": 2018, \"population\": 3940235}, {\"id\": 41, \"states\": \"Oregon\", \"state_abbr\": \"OR\", \"year\": 2018, \"population\": 4181886}, {\"id\": 42, \"states\": \"Pennsylvania\", \"state_abbr\": \"PA\", \"year\": 2018, \"population\": 12800922}, {\"id\": 44, \"states\": \"Rhode Island\", \"state_abbr\": \"RI\", \"year\": 2018, \"population\": 1058287}, {\"id\": 45, \"states\": \"South Carolina\", \"state_abbr\": \"SC\", \"year\": 2018, \"population\": 5084156}, {\"id\": 46, \"states\": \"South Dakota\", \"state_abbr\": \"SD\", \"year\": 2018, \"population\": 878698}, {\"id\": 47, \"states\": \"Tennessee\", \"state_abbr\": \"TN\", \"year\": 2018, \"population\": 6771631}, {\"id\": 48, \"states\": \"Texas\", \"state_abbr\": \"TX\", \"year\": 2018, \"population\": 28628666}, {\"id\": 49, \"states\": \"Utah\", \"state_abbr\": \"UT\", \"year\": 2018, \"population\": 3153550}, {\"id\": 50, \"states\": \"Vermont\", \"state_abbr\": \"VT\", \"year\": 2018, \"population\": 624358}, {\"id\": 51, \"states\": \"Virginia\", \"state_abbr\": \"VA\", \"year\": 2018, \"population\": 8501286}, {\"id\": 53, \"states\": \"Washington\", \"state_abbr\": \"WA\", \"year\": 2018, \"population\": 7523869}, {\"id\": 54, \"states\": \"West Virginia\", \"state_abbr\": \"WV\", \"year\": 2018, \"population\": 1804291}, {\"id\": 55, \"states\": \"Wisconsin\", \"state_abbr\": \"WI\", \"year\": 2018, \"population\": 5807406}, {\"id\": 56, \"states\": \"Wyoming\", \"state_abbr\": \"WY\", \"year\": 2018, \"population\": 577601}, {\"id\": 72, \"states\": \"Puerto Rico\", \"state_abbr\": \"PR\", \"year\": 2018, \"population\": 3193354}, {\"id\": 1, \"states\": \"Alabama\", \"state_abbr\": \"AL\", \"year\": 2019, \"population\": 4903185}, {\"id\": 2, \"states\": \"Alaska\", \"state_abbr\": \"AK\", \"year\": 2019, \"population\": 731545}, {\"id\": 4, \"states\": \"Arizona\", \"state_abbr\": \"AZ\", \"year\": 2019, \"population\": 7278717}, {\"id\": 5, \"states\": \"Arkansas\", \"state_abbr\": \"AR\", \"year\": 2019, \"population\": 3017804}, {\"id\": 6, \"states\": \"California\", \"state_abbr\": \"CA\", \"year\": 2019, \"population\": 39512223}, {\"id\": 8, \"states\": \"Colorado\", \"state_abbr\": \"CO\", \"year\": 2019, \"population\": 5758736}, {\"id\": 9, \"states\": \"Connecticut\", \"state_abbr\": \"CT\", \"year\": 2019, \"population\": 3565287}, {\"id\": 10, \"states\": \"Delaware\", \"state_abbr\": \"DE\", \"year\": 2019, \"population\": 973764}, {\"id\": 11, \"states\": \"District of Columbia\", \"state_abbr\": \"DC\", \"year\": 2019, \"population\": 705749}, {\"id\": 12, \"states\": \"Florida\", \"state_abbr\": \"FL\", \"year\": 2019, \"population\": 21477737}, {\"id\": 13, \"states\": \"Georgia\", \"state_abbr\": \"GA\", \"year\": 2019, \"population\": 10617423}, {\"id\": 15, \"states\": \"Hawaii\", \"state_abbr\": \"HI\", \"year\": 2019, \"population\": 1415872}, {\"id\": 16, \"states\": \"Idaho\", \"state_abbr\": \"ID\", \"year\": 2019, \"population\": 1787065}, {\"id\": 17, \"states\": \"Illinois\", \"state_abbr\": \"IL\", \"year\": 2019, \"population\": 12671821}, {\"id\": 18, \"states\": \"Indiana\", \"state_abbr\": \"IN\", \"year\": 2019, \"population\": 6732219}, {\"id\": 19, \"states\": \"Iowa\", \"state_abbr\": \"IA\", \"year\": 2019, \"population\": 3155070}, {\"id\": 20, \"states\": \"Kansas\", \"state_abbr\": \"KS\", \"year\": 2019, \"population\": 2913314}, {\"id\": 21, \"states\": \"Kentucky\", \"state_abbr\": \"KY\", \"year\": 2019, \"population\": 4467673}, {\"id\": 22, \"states\": \"Louisiana\", \"state_abbr\": \"LA\", \"year\": 2019, \"population\": 4648794}, {\"id\": 23, \"states\": \"Maine\", \"state_abbr\": \"ME\", \"year\": 2019, \"population\": 1344212}, {\"id\": 24, \"states\": \"Maryland\", \"state_abbr\": \"MD\", \"year\": 2019, \"population\": 6045680}, {\"id\": 25, \"states\": \"Massachusetts\", \"state_abbr\": \"MA\", \"year\": 2019, \"population\": 6892503}, {\"id\": 26, \"states\": \"Michigan\", \"state_abbr\": \"MI\", \"year\": 2019, \"population\": 9986857}, {\"id\": 27, \"states\": \"Minnesota\", \"state_abbr\": \"MN\", \"year\": 2019, \"population\": 5639632}, {\"id\": 28, \"states\": \"Mississippi\", \"state_abbr\": \"MS\", \"year\": 2019, \"population\": 2976149}, {\"id\": 29, \"states\": \"Missouri\", \"state_abbr\": \"MO\", \"year\": 2019, \"population\": 6137428}, {\"id\": 30, \"states\": \"Montana\", \"state_abbr\": \"MT\", \"year\": 2019, \"population\": 1068778}, {\"id\": 31, \"states\": \"Nebraska\", \"state_abbr\": \"NE\", \"year\": 2019, \"population\": 1934408}, {\"id\": 32, \"states\": \"Nevada\", \"state_abbr\": \"NV\", \"year\": 2019, \"population\": 3080156}, {\"id\": 33, \"states\": \"New Hampshire\", \"state_abbr\": \"NH\", \"year\": 2019, \"population\": 1359711}, {\"id\": 34, \"states\": \"New Jersey\", \"state_abbr\": \"NJ\", \"year\": 2019, \"population\": 8882190}, {\"id\": 35, \"states\": \"New Mexico\", \"state_abbr\": \"NM\", \"year\": 2019, \"population\": 2096829}, {\"id\": 36, \"states\": \"New York\", \"state_abbr\": \"NY\", \"year\": 2019, \"population\": 19453561}, {\"id\": 37, \"states\": \"North Carolina\", \"state_abbr\": \"NC\", \"year\": 2019, \"population\": 10488084}, {\"id\": 38, \"states\": \"North Dakota\", \"state_abbr\": \"ND\", \"year\": 2019, \"population\": 762062}, {\"id\": 39, \"states\": \"Ohio\", \"state_abbr\": \"OH\", \"year\": 2019, \"population\": 11689100}, {\"id\": 40, \"states\": \"Oklahoma\", \"state_abbr\": \"OK\", \"year\": 2019, \"population\": 3956971}, {\"id\": 41, \"states\": \"Oregon\", \"state_abbr\": \"OR\", \"year\": 2019, \"population\": 4217737}, {\"id\": 42, \"states\": \"Pennsylvania\", \"state_abbr\": \"PA\", \"year\": 2019, \"population\": 12801989}, {\"id\": 44, \"states\": \"Rhode Island\", \"state_abbr\": \"RI\", \"year\": 2019, \"population\": 1059361}, {\"id\": 45, \"states\": \"South Carolina\", \"state_abbr\": \"SC\", \"year\": 2019, \"population\": 5148714}, {\"id\": 46, \"states\": \"South Dakota\", \"state_abbr\": \"SD\", \"year\": 2019, \"population\": 884659}, {\"id\": 47, \"states\": \"Tennessee\", \"state_abbr\": \"TN\", \"year\": 2019, \"population\": 6829174}, {\"id\": 48, \"states\": \"Texas\", \"state_abbr\": \"TX\", \"year\": 2019, \"population\": 28995881}, {\"id\": 49, \"states\": \"Utah\", \"state_abbr\": \"UT\", \"year\": 2019, \"population\": 3205958}, {\"id\": 50, \"states\": \"Vermont\", \"state_abbr\": \"VT\", \"year\": 2019, \"population\": 623989}, {\"id\": 51, \"states\": \"Virginia\", \"state_abbr\": \"VA\", \"year\": 2019, \"population\": 8535519}, {\"id\": 53, \"states\": \"Washington\", \"state_abbr\": \"WA\", \"year\": 2019, \"population\": 7614893}, {\"id\": 54, \"states\": \"West Virginia\", \"state_abbr\": \"WV\", \"year\": 2019, \"population\": 1792147}, {\"id\": 55, \"states\": \"Wisconsin\", \"state_abbr\": \"WI\", \"year\": 2019, \"population\": 5822434}, {\"id\": 56, \"states\": \"Wyoming\", \"state_abbr\": \"WY\", \"year\": 2019, \"population\": 578759}, {\"id\": 72, \"states\": \"Puerto Rico\", \"state_abbr\": \"PR\", \"year\": 2019, \"population\": 3193694}]}}, {\"mode\": \"vega-lite\"});\n",
       "</script>"
      ],
      "text/plain": [
       "alt.Chart(...)"
      ]
     },
     "execution_count": 22,
     "metadata": {},
     "output_type": "execute_result"
    }
   ],
   "source": [
    "!pip install altair\n",
    "import altair as alt\n",
    "\n",
    "alt.themes.enable(\"dark\")\n",
    "\n",
    "heatmap = alt.Chart(df_reshaped).mark_rect().encode(\n",
    "        y=alt.Y('year:O', axis=alt.Axis(title=\"Year\", titleFontSize=16, titlePadding=15, titleFontWeight=900, labelAngle=0)),\n",
    "        x=alt.X('states:O', axis=alt.Axis(title=\"States\", titleFontSize=16, titlePadding=15, titleFontWeight=900)),\n",
    "        color=alt.Color('max(population):Q',\n",
    "                         legend=alt.Legend(title=\" \"),\n",
    "                         scale=alt.Scale(scheme=\"blueorange\")),\n",
    "        stroke=alt.value('black'),\n",
    "        strokeWidth=alt.value(0.25),\n",
    "        #tooltip=[\n",
    "        #    alt.Tooltip('year:O', title='Year'),\n",
    "        #    alt.Tooltip('population:Q', title='Population')\n",
    "        #]\n",
    "    ).properties(width=900\n",
    "    #).configure_legend(orient='bottom', titleFontSize=16, labelFontSize=14, titlePadding=0\n",
    "    #).configure_axisX(labelFontSize=14)\n",
    "    ).configure_axis(\n",
    "    labelFontSize=12,\n",
    "    titleFontSize=12\n",
    "    )\n",
    "\n",
    "heatmap"
   ]
  },
  {
   "cell_type": "markdown",
   "metadata": {
    "id": "69oYy6edR4V7"
   },
   "source": [
    "### Choropleth: Run the following code to get a map of the population for the selected year above"
   ]
  },
  {
   "cell_type": "code",
   "execution_count": 23,
   "metadata": {
    "colab": {
     "base_uri": "https://localhost:8080/",
     "height": 331
    },
    "id": "rCT-THXqdc2e",
    "outputId": "ef2d0b90-45d8-496c-8176-96fba73623b6"
   },
   "outputs": [
    {
     "name": "stdout",
     "output_type": "stream",
     "text": [
      "Requirement already satisfied: vega_datasets in /Users/jiyonglee/anaconda3/lib/python3.11/site-packages (0.9.0)\n",
      "Requirement already satisfied: pandas in /Users/jiyonglee/anaconda3/lib/python3.11/site-packages (from vega_datasets) (2.1.4)\n",
      "Requirement already satisfied: numpy<2,>=1.23.2 in /Users/jiyonglee/anaconda3/lib/python3.11/site-packages (from pandas->vega_datasets) (1.23.5)\n",
      "Requirement already satisfied: python-dateutil>=2.8.2 in /Users/jiyonglee/anaconda3/lib/python3.11/site-packages (from pandas->vega_datasets) (2.8.2)\n",
      "Requirement already satisfied: pytz>=2020.1 in /Users/jiyonglee/anaconda3/lib/python3.11/site-packages (from pandas->vega_datasets) (2023.3.post1)\n",
      "Requirement already satisfied: tzdata>=2022.1 in /Users/jiyonglee/anaconda3/lib/python3.11/site-packages (from pandas->vega_datasets) (2023.3)\n",
      "Requirement already satisfied: six>=1.5 in /Users/jiyonglee/anaconda3/lib/python3.11/site-packages (from python-dateutil>=2.8.2->pandas->vega_datasets) (1.16.0)\n"
     ]
    },
    {
     "data": {
      "text/html": [
       "\n",
       "<style>\n",
       "  #altair-viz-ecd7254ec9144500b0a8d0e96bd2b310.vega-embed {\n",
       "    width: 100%;\n",
       "    display: flex;\n",
       "  }\n",
       "\n",
       "  #altair-viz-ecd7254ec9144500b0a8d0e96bd2b310.vega-embed details,\n",
       "  #altair-viz-ecd7254ec9144500b0a8d0e96bd2b310.vega-embed details summary {\n",
       "    position: relative;\n",
       "  }\n",
       "</style>\n",
       "<div id=\"altair-viz-ecd7254ec9144500b0a8d0e96bd2b310\"></div>\n",
       "<script type=\"text/javascript\">\n",
       "  var VEGA_DEBUG = (typeof VEGA_DEBUG == \"undefined\") ? {} : VEGA_DEBUG;\n",
       "  (function(spec, embedOpt){\n",
       "    let outputDiv = document.currentScript.previousElementSibling;\n",
       "    if (outputDiv.id !== \"altair-viz-ecd7254ec9144500b0a8d0e96bd2b310\") {\n",
       "      outputDiv = document.getElementById(\"altair-viz-ecd7254ec9144500b0a8d0e96bd2b310\");\n",
       "    }\n",
       "    const paths = {\n",
       "      \"vega\": \"https://cdn.jsdelivr.net/npm/vega@5?noext\",\n",
       "      \"vega-lib\": \"https://cdn.jsdelivr.net/npm/vega-lib?noext\",\n",
       "      \"vega-lite\": \"https://cdn.jsdelivr.net/npm/vega-lite@5.17.0?noext\",\n",
       "      \"vega-embed\": \"https://cdn.jsdelivr.net/npm/vega-embed@6?noext\",\n",
       "    };\n",
       "\n",
       "    function maybeLoadScript(lib, version) {\n",
       "      var key = `${lib.replace(\"-\", \"\")}_version`;\n",
       "      return (VEGA_DEBUG[key] == version) ?\n",
       "        Promise.resolve(paths[lib]) :\n",
       "        new Promise(function(resolve, reject) {\n",
       "          var s = document.createElement('script');\n",
       "          document.getElementsByTagName(\"head\")[0].appendChild(s);\n",
       "          s.async = true;\n",
       "          s.onload = () => {\n",
       "            VEGA_DEBUG[key] = version;\n",
       "            return resolve(paths[lib]);\n",
       "          };\n",
       "          s.onerror = () => reject(`Error loading script: ${paths[lib]}`);\n",
       "          s.src = paths[lib];\n",
       "        });\n",
       "    }\n",
       "\n",
       "    function showError(err) {\n",
       "      outputDiv.innerHTML = `<div class=\"error\" style=\"color:red;\">${err}</div>`;\n",
       "      throw err;\n",
       "    }\n",
       "\n",
       "    function displayChart(vegaEmbed) {\n",
       "      vegaEmbed(outputDiv, spec, embedOpt)\n",
       "        .catch(err => showError(`Javascript Error: ${err.message}<br>This usually means there's a typo in your chart specification. See the javascript console for the full traceback.`));\n",
       "    }\n",
       "\n",
       "    if(typeof define === \"function\" && define.amd) {\n",
       "      requirejs.config({paths});\n",
       "      require([\"vega-embed\"], displayChart, err => showError(`Error loading script: ${err.message}`));\n",
       "    } else {\n",
       "      maybeLoadScript(\"vega\", \"5\")\n",
       "        .then(() => maybeLoadScript(\"vega-lite\", \"5.17.0\"))\n",
       "        .then(() => maybeLoadScript(\"vega-embed\", \"6\"))\n",
       "        .catch(showError)\n",
       "        .then(() => displayChart(vegaEmbed));\n",
       "    }\n",
       "  })({\"usermeta\": {\"embedOptions\": {\"theme\": \"dark\"}}, \"config\": {\"view\": {\"continuousWidth\": 300, \"continuousHeight\": 300}}, \"data\": {\"url\": \"https://cdn.jsdelivr.net/npm/vega-datasets@v1.29.0/data/us-10m.json\", \"format\": {\"feature\": \"states\", \"type\": \"topojson\"}}, \"mark\": {\"type\": \"geoshape\"}, \"encoding\": {\"color\": {\"field\": \"population\", \"scale\": {\"scheme\": \"blues\"}, \"type\": \"quantitative\"}, \"stroke\": {\"value\": \"#154360\"}}, \"height\": 300, \"projection\": {\"type\": \"albersUsa\"}, \"transform\": [{\"lookup\": \"id\", \"from\": {\"data\": {\"name\": \"data-a0f573ff5e3345259df628bcef6494c1\"}, \"key\": \"id\", \"fields\": [\"id\", \"states\", \"state_abbr\", \"year\", \"population\"]}}], \"width\": 500, \"$schema\": \"https://vega.github.io/schema/vega-lite/v5.17.0.json\", \"datasets\": {\"data-a0f573ff5e3345259df628bcef6494c1\": [{\"id\": 1, \"states\": \"Alabama\", \"state_abbr\": \"AL\", \"year\": 2019, \"population\": 4903185}, {\"id\": 2, \"states\": \"Alaska\", \"state_abbr\": \"AK\", \"year\": 2019, \"population\": 731545}, {\"id\": 4, \"states\": \"Arizona\", \"state_abbr\": \"AZ\", \"year\": 2019, \"population\": 7278717}, {\"id\": 5, \"states\": \"Arkansas\", \"state_abbr\": \"AR\", \"year\": 2019, \"population\": 3017804}, {\"id\": 6, \"states\": \"California\", \"state_abbr\": \"CA\", \"year\": 2019, \"population\": 39512223}, {\"id\": 8, \"states\": \"Colorado\", \"state_abbr\": \"CO\", \"year\": 2019, \"population\": 5758736}, {\"id\": 9, \"states\": \"Connecticut\", \"state_abbr\": \"CT\", \"year\": 2019, \"population\": 3565287}, {\"id\": 10, \"states\": \"Delaware\", \"state_abbr\": \"DE\", \"year\": 2019, \"population\": 973764}, {\"id\": 11, \"states\": \"District of Columbia\", \"state_abbr\": \"DC\", \"year\": 2019, \"population\": 705749}, {\"id\": 12, \"states\": \"Florida\", \"state_abbr\": \"FL\", \"year\": 2019, \"population\": 21477737}, {\"id\": 13, \"states\": \"Georgia\", \"state_abbr\": \"GA\", \"year\": 2019, \"population\": 10617423}, {\"id\": 15, \"states\": \"Hawaii\", \"state_abbr\": \"HI\", \"year\": 2019, \"population\": 1415872}, {\"id\": 16, \"states\": \"Idaho\", \"state_abbr\": \"ID\", \"year\": 2019, \"population\": 1787065}, {\"id\": 17, \"states\": \"Illinois\", \"state_abbr\": \"IL\", \"year\": 2019, \"population\": 12671821}, {\"id\": 18, \"states\": \"Indiana\", \"state_abbr\": \"IN\", \"year\": 2019, \"population\": 6732219}, {\"id\": 19, \"states\": \"Iowa\", \"state_abbr\": \"IA\", \"year\": 2019, \"population\": 3155070}, {\"id\": 20, \"states\": \"Kansas\", \"state_abbr\": \"KS\", \"year\": 2019, \"population\": 2913314}, {\"id\": 21, \"states\": \"Kentucky\", \"state_abbr\": \"KY\", \"year\": 2019, \"population\": 4467673}, {\"id\": 22, \"states\": \"Louisiana\", \"state_abbr\": \"LA\", \"year\": 2019, \"population\": 4648794}, {\"id\": 23, \"states\": \"Maine\", \"state_abbr\": \"ME\", \"year\": 2019, \"population\": 1344212}, {\"id\": 24, \"states\": \"Maryland\", \"state_abbr\": \"MD\", \"year\": 2019, \"population\": 6045680}, {\"id\": 25, \"states\": \"Massachusetts\", \"state_abbr\": \"MA\", \"year\": 2019, \"population\": 6892503}, {\"id\": 26, \"states\": \"Michigan\", \"state_abbr\": \"MI\", \"year\": 2019, \"population\": 9986857}, {\"id\": 27, \"states\": \"Minnesota\", \"state_abbr\": \"MN\", \"year\": 2019, \"population\": 5639632}, {\"id\": 28, \"states\": \"Mississippi\", \"state_abbr\": \"MS\", \"year\": 2019, \"population\": 2976149}, {\"id\": 29, \"states\": \"Missouri\", \"state_abbr\": \"MO\", \"year\": 2019, \"population\": 6137428}, {\"id\": 30, \"states\": \"Montana\", \"state_abbr\": \"MT\", \"year\": 2019, \"population\": 1068778}, {\"id\": 31, \"states\": \"Nebraska\", \"state_abbr\": \"NE\", \"year\": 2019, \"population\": 1934408}, {\"id\": 32, \"states\": \"Nevada\", \"state_abbr\": \"NV\", \"year\": 2019, \"population\": 3080156}, {\"id\": 33, \"states\": \"New Hampshire\", \"state_abbr\": \"NH\", \"year\": 2019, \"population\": 1359711}, {\"id\": 34, \"states\": \"New Jersey\", \"state_abbr\": \"NJ\", \"year\": 2019, \"population\": 8882190}, {\"id\": 35, \"states\": \"New Mexico\", \"state_abbr\": \"NM\", \"year\": 2019, \"population\": 2096829}, {\"id\": 36, \"states\": \"New York\", \"state_abbr\": \"NY\", \"year\": 2019, \"population\": 19453561}, {\"id\": 37, \"states\": \"North Carolina\", \"state_abbr\": \"NC\", \"year\": 2019, \"population\": 10488084}, {\"id\": 38, \"states\": \"North Dakota\", \"state_abbr\": \"ND\", \"year\": 2019, \"population\": 762062}, {\"id\": 39, \"states\": \"Ohio\", \"state_abbr\": \"OH\", \"year\": 2019, \"population\": 11689100}, {\"id\": 40, \"states\": \"Oklahoma\", \"state_abbr\": \"OK\", \"year\": 2019, \"population\": 3956971}, {\"id\": 41, \"states\": \"Oregon\", \"state_abbr\": \"OR\", \"year\": 2019, \"population\": 4217737}, {\"id\": 42, \"states\": \"Pennsylvania\", \"state_abbr\": \"PA\", \"year\": 2019, \"population\": 12801989}, {\"id\": 44, \"states\": \"Rhode Island\", \"state_abbr\": \"RI\", \"year\": 2019, \"population\": 1059361}, {\"id\": 45, \"states\": \"South Carolina\", \"state_abbr\": \"SC\", \"year\": 2019, \"population\": 5148714}, {\"id\": 46, \"states\": \"South Dakota\", \"state_abbr\": \"SD\", \"year\": 2019, \"population\": 884659}, {\"id\": 47, \"states\": \"Tennessee\", \"state_abbr\": \"TN\", \"year\": 2019, \"population\": 6829174}, {\"id\": 48, \"states\": \"Texas\", \"state_abbr\": \"TX\", \"year\": 2019, \"population\": 28995881}, {\"id\": 49, \"states\": \"Utah\", \"state_abbr\": \"UT\", \"year\": 2019, \"population\": 3205958}, {\"id\": 50, \"states\": \"Vermont\", \"state_abbr\": \"VT\", \"year\": 2019, \"population\": 623989}, {\"id\": 51, \"states\": \"Virginia\", \"state_abbr\": \"VA\", \"year\": 2019, \"population\": 8535519}, {\"id\": 53, \"states\": \"Washington\", \"state_abbr\": \"WA\", \"year\": 2019, \"population\": 7614893}, {\"id\": 54, \"states\": \"West Virginia\", \"state_abbr\": \"WV\", \"year\": 2019, \"population\": 1792147}, {\"id\": 55, \"states\": \"Wisconsin\", \"state_abbr\": \"WI\", \"year\": 2019, \"population\": 5822434}, {\"id\": 56, \"states\": \"Wyoming\", \"state_abbr\": \"WY\", \"year\": 2019, \"population\": 578759}, {\"id\": 72, \"states\": \"Puerto Rico\", \"state_abbr\": \"PR\", \"year\": 2019, \"population\": 3193694}]}}, {\"mode\": \"vega-lite\"});\n",
       "</script>"
      ],
      "text/plain": [
       "alt.Chart(...)"
      ]
     },
     "execution_count": 23,
     "metadata": {},
     "output_type": "execute_result"
    }
   ],
   "source": [
    "# Choropleth via Altair\n",
    "!pip install vega_datasets\n",
    "import altair as alt\n",
    "from vega_datasets import data\n",
    "\n",
    "alt.themes.enable(\"dark\")\n",
    "\n",
    "states = alt.topo_feature(data.us_10m.url, 'states')\n",
    "\n",
    "alt.Chart(states).mark_geoshape().encode(\n",
    "    color=alt.Color('population:Q', scale=alt.Scale(scheme='blues')),   # scale=color_scale\n",
    "    stroke=alt.value('#154360')\n",
    ").transform_lookup(\n",
    "    lookup='id',\n",
    "    from_=alt.LookupData(df_selected_year, 'id', list(df_selected_year.columns))\n",
    ").properties(\n",
    "    width=500,\n",
    "    height=300\n",
    ").project(\n",
    "    type='albersUsa'\n",
    ")\n",
    "\n"
   ]
  },
  {
   "cell_type": "markdown",
   "metadata": {},
   "source": [
    "Pycharm:\n",
    "Create a pdf reader streamlit app in pycharm using the following code.Upload some pdfs and perform some queries. \n",
    "Below capture 5 queries and 5 responses. Check to make sure the responses are accurate. See if you can get your app to fail. Analyze why."
   ]
  },
  {
   "cell_type": "code",
   "execution_count": 24,
   "metadata": {},
   "outputs": [],
   "source": [
    "#!pip install streamlit"
   ]
  },
  {
   "cell_type": "code",
   "execution_count": 25,
   "metadata": {},
   "outputs": [
    {
     "name": "stderr",
     "output_type": "stream",
     "text": [
      "2024-04-01 23:24:24.446 WARNING streamlit.runtime.state.session_state_proxy: Session state does not function when running a script without `streamlit run`\n",
      "2024-04-01 23:24:24.708 \n",
      "  \u001b[33m\u001b[1mWarning:\u001b[0m to view this Streamlit app on a browser, run it with the following\n",
      "  command:\n",
      "\n",
      "    streamlit run /Users/jiyonglee/anaconda3/lib/python3.11/site-packages/ipykernel_launcher.py [ARGUMENTS]\n"
     ]
    }
   ],
   "source": [
    "import streamlit as st\n",
    "from dotenv import load_dotenv\n",
    "from PyPDF2 import PdfReader\n",
    "from langchain.text_splitter import CharacterTextSplitter\n",
    "from langchain.embeddings import OpenAIEmbeddings\n",
    "from langchain.vectorstores import FAISS\n",
    "from langchain.chat_models import ChatOpenAI\n",
    "from langchain.memory import ConversationBufferMemory\n",
    "from langchain.chains import ConversationalRetrievalChain\n",
    "\n",
    "\n",
    "\n",
    "def get_pdf_text(pdf_docs):\n",
    "\n",
    "    text: str = ''\n",
    "    for pdf in pdf_docs:\n",
    "        pdf_reader = PdfReader(pdf)\n",
    "        for page in pdf_reader.pages:\n",
    "           text += page.extract_text()\n",
    "    return text\n",
    "\n",
    "def get_text_chunks(text):\n",
    "    text_splitter = CharacterTextSplitter(\n",
    "        separator=\"\\n\",\n",
    "        chunk_size=1000,\n",
    "        chunk_overlap=200,\n",
    "        length_function=len\n",
    "    )\n",
    "    chunks= text_splitter.split_text(text)\n",
    "    return chunks\n",
    "\n",
    "def get_vectorstore(text_chunks):\n",
    "    embeddings = OpenAIEmbeddings()\n",
    "    vectorstore = FAISS.from_texts(texts=text_chunks, embedding=embeddings)\n",
    "    return vectorstore\n",
    "\n",
    "def get_conversation_chain(vectorstore):\n",
    "    llm = ChatOpenAI()\n",
    "    memory = ConversationBufferMemory(memory_key='chat_history', return_messages=True)\n",
    "    conversation_chain = ConversationalRetrievalChain.from_llm(\n",
    "        llm=llm,\n",
    "        retriever=vectorstore.as_retriever(),\n",
    "        memory=memory\n",
    "    )\n",
    "    return conversation_chain\n",
    "\n",
    "def handle_userinput(user_question):\n",
    "    response = st.session_state.conversation({'question':user_question})\n",
    "    st.session_state.chat_history = response['chat_history']\n",
    "    for i, message in enumerate(st.session_state.chat_history):\n",
    "        if i%2 ==0:\n",
    "            st.write(f'Human Question: {message.content}')\n",
    "        else:\n",
    "            st.write(f'AI Response: {message.content}')\n",
    "\n",
    "        \n",
    "def main():\n",
    "    load_dotenv()\n",
    "    st.set_page_config(page_title=\"Chat with PDFs\", page_icon=\":scalpel:\")\n",
    "\n",
    "    if \"conversation\" not in st.session_state:\n",
    "        st.session_state.conversation = None\n",
    "    if \"chat_history\" not in st.session_state:\n",
    "        st.session_state.chat_history= None\n",
    "\n",
    "    st.header(\"Chat with PDFs :medical_symbol:\")\n",
    "    user_question = st.text_input(\"Ask a question about your documents:\")\n",
    "    if user_question:\n",
    "        handle_userinput(user_question)\n",
    "\n",
    "    with st.sidebar:\n",
    "        st.subheader(\"Your documents\")\n",
    "        pdf_docs = st.file_uploader(\"Upload your PDFs here and click on 'Process'\", accept_multiple_files=True)\n",
    "        if st.button('Process'):\n",
    "            with st.spinner(\"Processing...\"):\n",
    "\n",
    "            #get pdf texts\n",
    "                raw_text = get_pdf_text(pdf_docs)\n",
    "                #st.write(raw_text)\n",
    "\n",
    "            #chunk pdfs\n",
    "                text_chunks = get_text_chunks(raw_text)\n",
    "                #st.write(text_chunks)\n",
    "\n",
    "            #create vector store with embeddings\n",
    "                vectorstore = get_vectorstore(text_chunks)\n",
    "\n",
    "            # create conversation chain\n",
    "                st.session_state.conversation = get_conversation_chain(vectorstore)\n",
    "\n",
    "\n",
    "if __name__=='__main__':\n",
    "    main() "
   ]
  },
  {
   "cell_type": "markdown",
   "metadata": {},
   "source": [
    "1. On the article titled \"A government proposal to kill a half-million owls sparks controversy\"\n",
    "- Query: What's the article about?\n",
    "- Answer: \"The article is about a proposal by the U.S. Fish and Wildlife Service to address the threat posed by barred owls to the northern spotted owl population. The proposal involves killing barred owls to save the spotted owls, as barred owls have encroached on the spotted owls' territory due to human-driven habitat destruction. Conservation experts supporting the proposal see it as a necessary plan to solve a human-created problem and prevent the extinction of the northern spotted owl. The public comment period for the proposal has closed, and a final decision is expected in the spring or summer.\""
   ]
  },
  {
   "cell_type": "markdown",
   "metadata": {},
   "source": [
    "2. On the same article: \n",
    "- Human Question: Why do some people oppose the proposal?\n",
    "- \"Some people, like Wayne Pacelle, president of the Center for a Human Economy and Animal Wellness Action, oppose the proposal because they believe it is unsustainable and doubt that it can be successfully executed over such a long time frame. They argue that a management plan covering a vast region like this wouldn't be as effective as successful lethal management programs implemented in closed ecosystems.\""
   ]
  },
  {
   "cell_type": "markdown",
   "metadata": {},
   "source": [
    "3.\n",
    "- Are there any examples on a similar case in the past?\n",
    "- \"Yes, there have been similar conservation proposals in the past where one species is targeted to protect another. An example mentioned in the provided context is a four-year experiment conducted by the Fish and Wildlife Service a decade ago to kill up to 3,600 barred owls in the northwest to save the spotted owl. While this strategy slowed down the barred owl invasion, it did not completely stop it.\""
   ]
  },
  {
   "cell_type": "markdown",
   "metadata": {},
   "source": [
    "4.\n",
    "- Is the writer of this article agreeing with the proposal?\n",
    "- \"The writer of the article does not explicitly state their personal opinion on the proposal to kill barred owls to save northern spotted owls. The article presents various perspectives from different experts, conservation organizations, and advocates without clearly indicating the writer's personal stance on the matter.\""
   ]
  },
  {
   "cell_type": "markdown",
   "metadata": {},
   "source": [
    "5.\n",
    "- Are there any examples on a similar case of animal conservation from the past?\n",
    "- \"I don't know.\""
   ]
  },
  {
   "cell_type": "markdown",
   "metadata": {},
   "source": [
    "Your analysis here:\n",
    "- My last query returned \"I don't know\" possibly because it was not possible to answer just from the pdf file. The answer to the third query is something directly from the article (as expected). \n",
    "- Other queries and answers show that it is good at summarizing the content of pdf. \n",
    "- My fourth query might be tricky for other articles if the writer's intention is more nuanced."
   ]
  }
 ],
 "metadata": {
  "colab": {
   "provenance": []
  },
  "kernelspec": {
   "display_name": "Python 3 (ipykernel)",
   "language": "python",
   "name": "python3"
  },
  "language_info": {
   "codemirror_mode": {
    "name": "ipython",
    "version": 3
   },
   "file_extension": ".py",
   "mimetype": "text/x-python",
   "name": "python",
   "nbconvert_exporter": "python",
   "pygments_lexer": "ipython3",
   "version": "3.11.7"
  }
 },
 "nbformat": 4,
 "nbformat_minor": 4
}
