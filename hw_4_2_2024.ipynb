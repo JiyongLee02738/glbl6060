{
 "cells": [
  {
   "cell_type": "markdown",
   "id": "06a245ed-e58b-4631-9d78-d841401291a3",
   "metadata": {},
   "source": [
    "# Homework 4:"
   ]
  },
  {
   "cell_type": "markdown",
   "id": "c3d319d5-2ecb-413b-bd02-2ce2153b3831",
   "metadata": {},
   "source": [
    "Below is a link to data collected over many years by Carmen Reinhart (with her coauthors Ken Rogoff, Christoph Trebesch, and Vincent Reinhart). These include Banking Crisis dates for more than 70 countries from 1800-present, exchange rate crises, stock market crises, sovereign debt growth and default, and many other data series. \n",
    "Please download here:\n",
    "\n",
    "https://www.hbs.edu/behavioral-finance-and-financial-stability/data/Pages/global.aspx\n",
    "\n",
    "For the following, please show me that you know how to use lambda and map functions where possible and efficient."
   ]
  },
  {
   "cell_type": "markdown",
   "id": "66610ebd-28ec-4efc-abeb-5fb221d17b1f",
   "metadata": {},
   "source": [
    "Q1: Read the data from the excel file into a pandas data frame:"
   ]
  },
  {
   "cell_type": "code",
   "execution_count": 1,
   "id": "06556d5d-637c-4aef-a23f-a63e555abf5b",
   "metadata": {},
   "outputs": [],
   "source": [
    "#Your code here:\n",
    "import pandas as pd "
   ]
  },
  {
   "cell_type": "code",
   "execution_count": 2,
   "id": "802aa3d3",
   "metadata": {},
   "outputs": [],
   "source": [
    "df=pd.read_excel('20160923_global_crisis_data.xlsx') # read excel file \n",
    "df=df.rename(columns={'Inflation, Annual percentages of average consumer prices': 'inflation'}) # rename inflation column"
   ]
  },
  {
   "cell_type": "markdown",
   "id": "50137bdf-b425-4483-bab2-4fec483e5272",
   "metadata": {},
   "source": [
    "Q2. From the dataset, create a new dataframe. Using a lambda function, select only those incidents where the annual inflation rate was 25% or higher. The dataframe should have three columns, Country Name, Year and Inflation rate. \n"
   ]
  },
  {
   "cell_type": "code",
   "execution_count": 3,
   "id": "aaf37fab-04ed-4161-924f-e9e27fcceac5",
   "metadata": {},
   "outputs": [],
   "source": [
    "#Your code here:\n",
    "df['inflation']=pd.to_numeric(df['inflation'], errors='coerce')\n",
    "# Filter for high inflation\n",
    "df1=df[df.apply(lambda row: row['inflation']>25, axis=1)] # axis=1 for columns that satisfy the condition"
   ]
  },
  {
   "cell_type": "code",
   "execution_count": 4,
   "id": "5cefeccf",
   "metadata": {},
   "outputs": [
    {
     "data": {
      "text/html": [
       "<div>\n",
       "<style scoped>\n",
       "    .dataframe tbody tr th:only-of-type {\n",
       "        vertical-align: middle;\n",
       "    }\n",
       "\n",
       "    .dataframe tbody tr th {\n",
       "        vertical-align: top;\n",
       "    }\n",
       "\n",
       "    .dataframe thead th {\n",
       "        text-align: right;\n",
       "    }\n",
       "</style>\n",
       "<table border=\"1\" class=\"dataframe\">\n",
       "  <thead>\n",
       "    <tr style=\"text-align: right;\">\n",
       "      <th></th>\n",
       "      <th>Country</th>\n",
       "      <th>Year</th>\n",
       "      <th>inflation</th>\n",
       "    </tr>\n",
       "  </thead>\n",
       "  <tbody>\n",
       "    <tr>\n",
       "      <th>78</th>\n",
       "      <td>Algeria</td>\n",
       "      <td>1877.0</td>\n",
       "      <td>2.911605e+01</td>\n",
       "    </tr>\n",
       "    <tr>\n",
       "      <th>143</th>\n",
       "      <td>Algeria</td>\n",
       "      <td>1942.0</td>\n",
       "      <td>2.812500e+01</td>\n",
       "    </tr>\n",
       "    <tr>\n",
       "      <th>144</th>\n",
       "      <td>Algeria</td>\n",
       "      <td>1943.0</td>\n",
       "      <td>4.634146e+01</td>\n",
       "    </tr>\n",
       "    <tr>\n",
       "      <th>145</th>\n",
       "      <td>Algeria</td>\n",
       "      <td>1944.0</td>\n",
       "      <td>4.166667e+01</td>\n",
       "    </tr>\n",
       "    <tr>\n",
       "      <th>146</th>\n",
       "      <td>Algeria</td>\n",
       "      <td>1945.0</td>\n",
       "      <td>2.941176e+01</td>\n",
       "    </tr>\n",
       "    <tr>\n",
       "      <th>...</th>\n",
       "      <td>...</td>\n",
       "      <td>...</td>\n",
       "      <td>...</td>\n",
       "    </tr>\n",
       "    <tr>\n",
       "      <th>15178</th>\n",
       "      <td>Zimbabwe</td>\n",
       "      <td>2004.0</td>\n",
       "      <td>1.327468e+02</td>\n",
       "    </tr>\n",
       "    <tr>\n",
       "      <th>15179</th>\n",
       "      <td>Zimbabwe</td>\n",
       "      <td>2005.0</td>\n",
       "      <td>5.858444e+02</td>\n",
       "    </tr>\n",
       "    <tr>\n",
       "      <th>15180</th>\n",
       "      <td>Zimbabwe</td>\n",
       "      <td>2006.0</td>\n",
       "      <td>1.281114e+03</td>\n",
       "    </tr>\n",
       "    <tr>\n",
       "      <th>15181</th>\n",
       "      <td>Zimbabwe</td>\n",
       "      <td>2007.0</td>\n",
       "      <td>6.627989e+04</td>\n",
       "    </tr>\n",
       "    <tr>\n",
       "      <th>15182</th>\n",
       "      <td>Zimbabwe</td>\n",
       "      <td>2008.0</td>\n",
       "      <td>2.198970e+07</td>\n",
       "    </tr>\n",
       "  </tbody>\n",
       "</table>\n",
       "<p>839 rows × 3 columns</p>\n",
       "</div>"
      ],
      "text/plain": [
       "        Country    Year     inflation\n",
       "78      Algeria  1877.0  2.911605e+01\n",
       "143     Algeria  1942.0  2.812500e+01\n",
       "144     Algeria  1943.0  4.634146e+01\n",
       "145     Algeria  1944.0  4.166667e+01\n",
       "146     Algeria  1945.0  2.941176e+01\n",
       "...         ...     ...           ...\n",
       "15178  Zimbabwe  2004.0  1.327468e+02\n",
       "15179  Zimbabwe  2005.0  5.858444e+02\n",
       "15180  Zimbabwe  2006.0  1.281114e+03\n",
       "15181  Zimbabwe  2007.0  6.627989e+04\n",
       "15182  Zimbabwe  2008.0  2.198970e+07\n",
       "\n",
       "[839 rows x 3 columns]"
      ]
     },
     "execution_count": 4,
     "metadata": {},
     "output_type": "execute_result"
    }
   ],
   "source": [
    "df2=df1[['Country', 'Year', 'inflation']] # new dataframe \n",
    "df2"
   ]
  },
  {
   "cell_type": "code",
   "execution_count": 5,
   "id": "6bc8cdca",
   "metadata": {},
   "outputs": [],
   "source": [
    "#df['inflation'].mean()\n",
    "#df2['inflation'].mean()"
   ]
  },
  {
   "cell_type": "markdown",
   "id": "d18c0b95-20eb-43af-adba-44d207af3a61",
   "metadata": {},
   "source": [
    "Q3. Write code to tell me how many countries experienced 25% inflation or higher?"
   ]
  },
  {
   "cell_type": "code",
   "execution_count": 6,
   "id": "3b294380-92ba-49f8-a0bb-ca5a01ac4715",
   "metadata": {},
   "outputs": [
    {
     "name": "stdout",
     "output_type": "stream",
     "text": [
      "61 countries experienced 25% inflation or higher.\n"
     ]
    }
   ],
   "source": [
    "#Your code here:\n",
    "num_country=df2['Country'].nunique() # df2 from when I filtered for high inflation \n",
    "print(f\"{num_country} countries experienced 25% inflation or higher.\") "
   ]
  },
  {
   "cell_type": "code",
   "execution_count": 7,
   "id": "4ecda104",
   "metadata": {},
   "outputs": [],
   "source": [
    "#len(list(df2['Country'].unique()))"
   ]
  },
  {
   "cell_type": "markdown",
   "id": "af2c4569-91f5-4b08-ae0e-0833f7bff812",
   "metadata": {},
   "source": [
    "Q4. How many years across all countries were there events of 25% or higher inflation?"
   ]
  },
  {
   "cell_type": "code",
   "execution_count": 8,
   "id": "a600f41a-68a2-4adc-a6e7-59957cad5a7f",
   "metadata": {},
   "outputs": [
    {
     "name": "stdout",
     "output_type": "stream",
     "text": [
      "There were 175 years where one or more countries experienced high inflation.\n"
     ]
    }
   ],
   "source": [
    "#Your code here:\n",
    "num_years=df2['Year'].nunique()\n",
    "print(f\"There were {num_years} years where one or more countries experienced high inflation.\") "
   ]
  },
  {
   "cell_type": "markdown",
   "id": "7dd032b4-cb43-4162-a5ff-8d668aedfe74",
   "metadata": {},
   "source": [
    "Q5. Of the years where inflaton was 25% or higher, how many of those years resulted in a systemic crisis? "
   ]
  },
  {
   "cell_type": "code",
   "execution_count": 9,
   "id": "2bf54bac-a2d0-4aac-af15-44a084279a61",
   "metadata": {},
   "outputs": [
    {
     "name": "stdout",
     "output_type": "stream",
     "text": [
      "36 years resulted in a systemic crisis.\n"
     ]
    }
   ],
   "source": [
    "#Your code here\n",
    "df3=df1[df1.apply(lambda row: row['Systemic Crisis']==1, axis=1)]\n",
    "df3[['Country', 'Year', 'Systemic Crisis']]\n",
    "num_years=df3['Year'].nunique()\n",
    "print(f\"{num_years} years resulted in a systemic crisis.\") "
   ]
  },
  {
   "cell_type": "markdown",
   "id": "eae4e918-bd51-4493-83be-c7751d990388",
   "metadata": {},
   "source": [
    "Q6. What were the countries and years associated with the total from Q5?"
   ]
  },
  {
   "cell_type": "code",
   "execution_count": 10,
   "id": "b919a01b-3479-49d8-a1e3-ca4e26627dd4",
   "metadata": {},
   "outputs": [
    {
     "data": {
      "text/plain": [
       "['Algeria',\n",
       " 'Argentina',\n",
       " 'Bolivia',\n",
       " 'Brazil',\n",
       " 'Chile',\n",
       " 'China',\n",
       " 'Costa Rica',\n",
       " 'Dominican Republic',\n",
       " 'Ecuador',\n",
       " 'El Salvador',\n",
       " 'Ghana',\n",
       " 'Hungary',\n",
       " 'Indonesia',\n",
       " 'Kenya',\n",
       " 'Mexico',\n",
       " 'Myanmar',\n",
       " 'Nicaragua',\n",
       " 'Nigeria',\n",
       " 'Peru',\n",
       " 'Philippines',\n",
       " 'Poland',\n",
       " 'Romania',\n",
       " 'Russia',\n",
       " 'Spain',\n",
       " 'Turkey',\n",
       " 'Uruguay',\n",
       " 'Venezuela',\n",
       " 'Zambia',\n",
       " 'Zimbabwe']"
      ]
     },
     "execution_count": 10,
     "metadata": {},
     "output_type": "execute_result"
    }
   ],
   "source": [
    "#Your code here:\n",
    "# List of countries from Q5\n",
    "list(df3['Country'].unique())"
   ]
  },
  {
   "cell_type": "code",
   "execution_count": 11,
   "id": "1c63dd66",
   "metadata": {},
   "outputs": [
    {
     "data": {
      "text/plain": [
       "[1890.0,\n",
       " 1908.0,\n",
       " 1937.0,\n",
       " 1976.0,\n",
       " 1977.0,\n",
       " 1980.0,\n",
       " 1981.0,\n",
       " 1982.0,\n",
       " 1983.0,\n",
       " 1984.0,\n",
       " 1985.0,\n",
       " 1986.0,\n",
       " 1987.0,\n",
       " 1988.0,\n",
       " 1989.0,\n",
       " 1990.0,\n",
       " 1991.0,\n",
       " 1992.0,\n",
       " 1993.0,\n",
       " 1994.0,\n",
       " 1995.0,\n",
       " 1996.0,\n",
       " 1997.0,\n",
       " 1998.0,\n",
       " 1999.0,\n",
       " 2000.0,\n",
       " 2001.0,\n",
       " 2002.0,\n",
       " 2003.0,\n",
       " 2004.0,\n",
       " 2005.0,\n",
       " 2006.0,\n",
       " 2007.0,\n",
       " 2008.0,\n",
       " 2009.0,\n",
       " 2010.0]"
      ]
     },
     "execution_count": 11,
     "metadata": {},
     "output_type": "execute_result"
    }
   ],
   "source": [
    "# List of years from Q5\n",
    "list(df3['Year'].sort_values().unique()) # as int"
   ]
  },
  {
   "cell_type": "markdown",
   "id": "919b957d-ffcc-4b07-97e3-eeedb43104a6",
   "metadata": {},
   "source": [
    "Q7. At times of civil unrest or war, what was the average interest rate?"
   ]
  },
  {
   "cell_type": "code",
   "execution_count": 12,
   "id": "b666d1fa-2d60-41c3-b148-73ba2eb2cbde",
   "metadata": {},
   "outputs": [
    {
     "name": "stdout",
     "output_type": "stream",
     "text": [
      "During civil unrest or war, 24.59 was the average inflation rate.\n"
     ]
    }
   ],
   "source": [
    "#Your code here\n",
    "test=df\n",
    "test.dropna(subset=['Defaults_External_Notes'], inplace=True)\n",
    "# I defined 'civil unrest' using keywords 'civil unrest' and 'war'\n",
    "# Create an indicator variable for 'civil unrest'\n",
    "test['indicator']=test['Defaults_External_Notes'].str.contains('|'.join(['war', 'civil unrest']))\n",
    "# Subsetted data for indicator == 1\n",
    "test_v1=test.loc[test.indicator]\n",
    "mean_int_rate=test_v1['inflation'].mean() # Mean among countries and years during 'civil unrest'\n",
    "print(f\"During civil unrest or war, {mean_int_rate:.2f} was the average inflation rate.\")"
   ]
  },
  {
   "cell_type": "markdown",
   "id": "f840c1cd-b8e0-4bd3-9924-692dac369d79",
   "metadata": {},
   "source": [
    "Q8: Create a new dataframe that lists the top five countries with the average highest interest rates historically, \n",
    "with a column for the country, and the average rate."
   ]
  },
  {
   "cell_type": "code",
   "execution_count": 13,
   "id": "b0d0f901-38be-4689-9f59-e425df7bbdad",
   "metadata": {},
   "outputs": [
    {
     "data": {
      "text/plain": [
       "Country\n",
       "Hungary      2.676271e+25\n",
       "Greece       3.684328e+08\n",
       "Nicaragua    2.159966e+03\n",
       "Bolivia      5.680008e+02\n",
       "Russia       3.862344e+02\n",
       "Name: inflation, dtype: float64"
      ]
     },
     "execution_count": 13,
     "metadata": {},
     "output_type": "execute_result"
    }
   ],
   "source": [
    "#Your code here:\n",
    "new_df=df\n",
    "# Calculate average interest rates across years for each country \n",
    "new_df.groupby('Country')['inflation'].mean().sort_values(ascending=False).head()"
   ]
  },
  {
   "cell_type": "markdown",
   "id": "c5f84123-9369-4624-9348-76ddf927ce5d",
   "metadata": {},
   "source": [
    "Q9: Create a new dataframe that lists the countries and years where there was \"negative inflation\".\n",
    "What does negative inflation mean, and why did it occur?"
   ]
  },
  {
   "cell_type": "code",
   "execution_count": 14,
   "id": "ca67570f-2a8f-48e0-bc6c-b44f3b66e04b",
   "metadata": {},
   "outputs": [],
   "source": [
    "#Your code here:\n",
    "new_df1=df\n",
    "# Filtered for negative inflation\n",
    "new_df1['neg_inflatiion_indicator']=new_df1.apply(lambda row: row['inflation']<0, axis=1)"
   ]
  },
  {
   "cell_type": "code",
   "execution_count": 15,
   "id": "8bbd0ee2",
   "metadata": {},
   "outputs": [
    {
     "data": {
      "text/html": [
       "<div>\n",
       "<style scoped>\n",
       "    .dataframe tbody tr th:only-of-type {\n",
       "        vertical-align: middle;\n",
       "    }\n",
       "\n",
       "    .dataframe tbody tr th {\n",
       "        vertical-align: top;\n",
       "    }\n",
       "\n",
       "    .dataframe thead th {\n",
       "        text-align: right;\n",
       "    }\n",
       "</style>\n",
       "<table border=\"1\" class=\"dataframe\">\n",
       "  <thead>\n",
       "    <tr style=\"text-align: right;\">\n",
       "      <th></th>\n",
       "      <th>Country</th>\n",
       "      <th>Year</th>\n",
       "      <th>inflation</th>\n",
       "    </tr>\n",
       "  </thead>\n",
       "  <tbody>\n",
       "    <tr>\n",
       "      <th>527</th>\n",
       "      <td>Argentina</td>\n",
       "      <td>1892.0</td>\n",
       "      <td>-9.868421</td>\n",
       "    </tr>\n",
       "    <tr>\n",
       "      <th>528</th>\n",
       "      <td>Argentina</td>\n",
       "      <td>1893.0</td>\n",
       "      <td>-9.051095</td>\n",
       "    </tr>\n",
       "    <tr>\n",
       "      <th>873</th>\n",
       "      <td>Austria</td>\n",
       "      <td>1804.0</td>\n",
       "      <td>-3.399989</td>\n",
       "    </tr>\n",
       "    <tr>\n",
       "      <th>875</th>\n",
       "      <td>Austria</td>\n",
       "      <td>1806.0</td>\n",
       "      <td>-2.933197</td>\n",
       "    </tr>\n",
       "    <tr>\n",
       "      <th>876</th>\n",
       "      <td>Austria</td>\n",
       "      <td>1807.0</td>\n",
       "      <td>-24.742271</td>\n",
       "    </tr>\n",
       "    <tr>\n",
       "      <th>...</th>\n",
       "      <td>...</td>\n",
       "      <td>...</td>\n",
       "      <td>...</td>\n",
       "    </tr>\n",
       "    <tr>\n",
       "      <th>14632</th>\n",
       "      <td>Venezuela</td>\n",
       "      <td>1892.0</td>\n",
       "      <td>-2.836879</td>\n",
       "    </tr>\n",
       "    <tr>\n",
       "      <th>14639</th>\n",
       "      <td>Venezuela</td>\n",
       "      <td>1899.0</td>\n",
       "      <td>-17.117117</td>\n",
       "    </tr>\n",
       "    <tr>\n",
       "      <th>14641</th>\n",
       "      <td>Venezuela</td>\n",
       "      <td>1901.0</td>\n",
       "      <td>-1.869159</td>\n",
       "    </tr>\n",
       "    <tr>\n",
       "      <th>14642</th>\n",
       "      <td>Venezuela</td>\n",
       "      <td>1902.0</td>\n",
       "      <td>-8.571429</td>\n",
       "    </tr>\n",
       "    <tr>\n",
       "      <th>14643</th>\n",
       "      <td>Venezuela</td>\n",
       "      <td>1903.0</td>\n",
       "      <td>-3.125000</td>\n",
       "    </tr>\n",
       "  </tbody>\n",
       "</table>\n",
       "<p>190 rows × 3 columns</p>\n",
       "</div>"
      ],
      "text/plain": [
       "         Country    Year  inflation\n",
       "527    Argentina  1892.0  -9.868421\n",
       "528    Argentina  1893.0  -9.051095\n",
       "873      Austria  1804.0  -3.399989\n",
       "875      Austria  1806.0  -2.933197\n",
       "876      Austria  1807.0 -24.742271\n",
       "...          ...     ...        ...\n",
       "14632  Venezuela  1892.0  -2.836879\n",
       "14639  Venezuela  1899.0 -17.117117\n",
       "14641  Venezuela  1901.0  -1.869159\n",
       "14642  Venezuela  1902.0  -8.571429\n",
       "14643  Venezuela  1903.0  -3.125000\n",
       "\n",
       "[190 rows x 3 columns]"
      ]
     },
     "execution_count": 15,
     "metadata": {},
     "output_type": "execute_result"
    }
   ],
   "source": [
    "neg_inflation=new_df1[new_df1['neg_inflatiion_indicator']==True]\n",
    "neg_inflation[['Country', 'Year', 'inflation']]"
   ]
  },
  {
   "cell_type": "markdown",
   "id": "b4ee59d7-413c-442b-8e08-5cad1af5a002",
   "metadata": {},
   "source": [
    "Your words here:\n",
    "Negative inflation - price levels are decreasing. It can occur during recessions. "
   ]
  },
  {
   "cell_type": "markdown",
   "id": "4b822949-1ecc-4a4b-a713-d3caa05e00d7",
   "metadata": {},
   "source": [
    "## REDUCE\n",
    "reduce applies a provided function to the items of an iterable (e.g., a list), two items at a time, reducing the iterable to a single value. It takes two arguments: a function and an iterable. Optionally, it can take an initializer as a third argument. The function it takes as the first argument needs to accept two inputs (we can think of them as the accumulator and the current item).\n",
    "\n",
    "Let's consider calculating the total GDP (Gross Domestic Product) of a list of countries, where each country's GDP is represented as a number in a list. The reduce function will be used to sum up these GDP values to find the total GDP."
   ]
  },
  {
   "cell_type": "code",
   "execution_count": 16,
   "id": "4e193d04-c59c-40fc-a2ee-dc16bb76a243",
   "metadata": {},
   "outputs": [
    {
     "name": "stdout",
     "output_type": "stream",
     "text": [
      "Total GDP: 49.66 trillion USD\n"
     ]
    },
    {
     "data": {
      "text/plain": [
       "'gdp_values represents a list of GDPs for different countries.\\nThe sum_gdp function is used to sum two GDP values.\\nreduce iterates through the gdp_values list, continuously applying sum_gdp to accumulate the total GDP.'"
      ]
     },
     "execution_count": 16,
     "metadata": {},
     "output_type": "execute_result"
    }
   ],
   "source": [
    "from functools import reduce\n",
    "\n",
    "# List of GDP values for a set of countries (in trillions of USD)\n",
    "gdp_values = [21.43, 14.34, 5.15, 4.88, 3.86]  # Example values for USA, China, Japan, Germany, India, etc.\n",
    "\n",
    "# Function to sum two values\n",
    "def sum_gdp(x, y):\n",
    "    return x + y\n",
    "\n",
    "# Use reduce to calculate the total GDP\n",
    "total_gdp = reduce(sum_gdp, gdp_values)\n",
    "\n",
    "print(\"Total GDP:\", total_gdp, \"trillion USD\")\n",
    "\n",
    "'''gdp_values represents a list of GDPs for different countries.\n",
    "The sum_gdp function is used to sum two GDP values.\n",
    "reduce iterates through the gdp_values list, continuously applying sum_gdp to accumulate the total GDP.'''"
   ]
  },
  {
   "cell_type": "markdown",
   "id": "3d86cd45-d1e8-452f-a0e8-4e049161bfde",
   "metadata": {},
   "source": [
    "Q10.  Now rewrite as a lambda function\n"
   ]
  },
  {
   "cell_type": "code",
   "execution_count": 17,
   "id": "101cbb5d-6cff-40db-9576-7ae776c68426",
   "metadata": {},
   "outputs": [
    {
     "data": {
      "text/plain": [
       "49.66"
      ]
     },
     "execution_count": 17,
     "metadata": {},
     "output_type": "execute_result"
    }
   ],
   "source": [
    "#Your code here:\n",
    "sum_gdp=reduce(lambda x,y: x+y, gdp_values) #gdp_values \n",
    "sum_gdp"
   ]
  },
  {
   "cell_type": "markdown",
   "id": "9c7273e3-78d2-41bc-a5de-4dc8bdd17674",
   "metadata": {},
   "source": [
    "Q11. \n",
    "Which are the top three countries that experienced the biggest change in exchange rate with the USD from 2007-2008?\n",
    "Defines a function calculate_percentage_change that utilizes the reduce function to iterate over each row in the dataframe, calculate the percentage change for each country, and then compile the results into a new dataframe. The sort_values method should be then used to identify the top five countries with the highest percentage change based on the calculated values.\n",
    "  "
   ]
  },
  {
   "cell_type": "code",
   "execution_count": 18,
   "id": "024ef634-8b4d-42b6-8e85-3bb30d1ecc9a",
   "metadata": {},
   "outputs": [],
   "source": [
    "#Your code here:\n",
    "# Filtered for years 2007-2008\n",
    "df_filtered=df[(df['Year']==2007) | (df['Year']==2008)] \n",
    "\n",
    "# Removed data where exchange rate was 0 in either year (since it is likely to be data error)\n",
    "df_filtered[df_filtered['exch_usd']==0] \n",
    "df_filtered_v1=df_filtered[df_filtered['exch_usd']!=0]"
   ]
  },
  {
   "cell_type": "code",
   "execution_count": 19,
   "id": "a2322227-591f-4b37-a4ab-ab0654547b2a",
   "metadata": {},
   "outputs": [],
   "source": [
    "def calculate_percentage_change():\n",
    "    \"\"\"\n",
    "    Calculates rate of change in exchange rate for each country\n",
    "    Returns dataframe with highest growth rate countries at the top \n",
    "    \"\"\"\n",
    "    def calculate_growth_rate(x, y):  \n",
    "        \"\"\"\n",
    "        Calculates growth rate between two values x and y\n",
    "        \"\"\"\n",
    "        return (y-x)/x\n",
    "    \n",
    "    # dataframe of growth rates \n",
    "    growth_rate=df_filtered_v1.groupby('Country')['exch_usd'].apply(lambda x: reduce(calculate_growth_rate, x))\n",
    "    dataframe=growth_rate.sort_values(ascending=False) # returns top growth rate \n",
    "    return dataframe"
   ]
  },
  {
   "cell_type": "markdown",
   "id": "371473c9-2f3a-434c-8079-5decf56dc362",
   "metadata": {},
   "source": [
    "## DECORATORS¶\n",
    "Decorators in programming, particularly in Python, are used to add functionality to an existing function or method without changing its structure. This is done by wrapping the original function in another function that adds the new functionality, effectively extending or modifying its behavior."
   ]
  },
  {
   "cell_type": "code",
   "execution_count": 20,
   "id": "6c12abc2-98a5-4cf5-a659-07391881fa48",
   "metadata": {},
   "outputs": [],
   "source": [
    "# Let's start with a simple function\n",
    "def calculate_simple_interest(principal, rate, time):\n",
    "    \"\"\"\n",
    "    Calculate the simple interest for a loan.\n",
    "    \"\"\"\n",
    "    return principal * rate * time"
   ]
  },
  {
   "cell_type": "markdown",
   "id": "941cbf98-e22b-4c6a-82fb-a35a07639c6b",
   "metadata": {},
   "source": [
    "Decorator to Adjust for Inflation\n",
    "\n",
    "Now, we'll define a decorator that takes the calculated simple interest and adjusts it for inflation. This example assumes a fixed inflation rate for simplicity."
   ]
  },
  {
   "cell_type": "code",
   "execution_count": 21,
   "id": "1857fe70-0522-4c21-9c0c-1c231d1f37d1",
   "metadata": {},
   "outputs": [],
   "source": [
    "def adjust_for_inflation(func):\n",
    "    \"\"\"\n",
    "    A decorator that adjusts the calculated simple interest by accounting for inflation.\n",
    "    The inflation rate is assumed to be 2% per annum for this example.\n",
    "    \"\"\"\n",
    "    inflation_rate = 0.02  # 2% inflation rate\n",
    "    \n",
    "    def wrapper(principal, rate, time):\n",
    "        # Calculate the nominal interest using the original function\n",
    "        nominal_interest = func(principal, rate, time)\n",
    "        # Adjust the interest for inflation\n",
    "        real_interest = nominal_interest / ((1 + inflation_rate) ** time)\n",
    "        return real_interest\n",
    "    return wrapper"
   ]
  },
  {
   "cell_type": "markdown",
   "id": "e40579c8",
   "metadata": {},
   "source": [
    "We apply the adjust_for_inflation decorator to the calculate_simple_interest function to automatically adjust the interest calculation for inflation.\n",
    "\n"
   ]
  },
  {
   "cell_type": "code",
   "execution_count": 22,
   "id": "e9193572-6997-4a42-8d70-dc3fa58bb71f",
   "metadata": {},
   "outputs": [
    {
     "name": "stdout",
     "output_type": "stream",
     "text": [
      "Real Interest after adjusting for inflation 14.13%\n"
     ]
    }
   ],
   "source": [
    "@adjust_for_inflation\n",
    "def calculate_simple_interest(principal, rate, time):\n",
    "    return principal * rate * time\n",
    "real_interest = calculate_simple_interest(100, 0.05, 3)\n",
    "print(f\"Real Interest after adjusting for inflation {real_interest:.2f}%\")\n"
   ]
  },
  {
   "cell_type": "markdown",
   "id": "dabf20e0-225a-4447-b0bf-8db7b1675ea4",
   "metadata": {},
   "source": [
    "Let's use our decorated function to calculate the real interest, taking into account inflation, and observe how the new decorator modifies the behavior of the original function."
   ]
  },
  {
   "cell_type": "markdown",
   "id": "089a9a99-34cb-45d4-bd7d-510fbe5fa2ce",
   "metadata": {},
   "source": [
    "Decorator Function: adjust_for_inflation wraps around calculate_simple_interest to adjust its output. The decorator assumes a constant inflation rate.\n",
    "\n",
    "Wrapper Function: Inside the decorator, the wrapper function calculates the nominal interest by calling the original calculate_simple_interest function. It then adjusts this nominal interest to account for inflation over the specified time period, using a simple formula to calculate the real interest.\n",
    "\n",
    "Applying the Decorator: By applying @adjust_for_inflation, every call to calculate_simple_interest now returns the real interest adjusted for inflation, demonstrating how decorators can add significant functionality to existing functions without altering their core logic."
   ]
  },
  {
   "cell_type": "markdown",
   "id": "0d331dea-b39b-48b2-8c5f-011ad9ff30d0",
   "metadata": {},
   "source": [
    "Let me walk you through, step-by-step, a function with decorators that involves calculating the price of a product, adjusting for tax, and then applying a seasonal discount. We'll chain decorators to add these functionalities progressively."
   ]
  },
  {
   "cell_type": "markdown",
   "id": "708df9a8",
   "metadata": {},
   "source": [
    "Define a function called \"base_price\" that simply multiplies the quantity of items by the unit price to find the base price. "
   ]
  },
  {
   "cell_type": "code",
   "execution_count": 23,
   "id": "352e1bf6-f02a-47b9-bbab-1bd0f37d40b7",
   "metadata": {},
   "outputs": [],
   "source": [
    "def base_price(quantity, unit_price):\n",
    "    \"\"\"\n",
    "    Calculate the base price of a product given the quantity and unit price.\n",
    "    \"\"\"\n",
    "    return quantity * unit_price"
   ]
  },
  {
   "cell_type": "markdown",
   "id": "abfc35f3-90ac-4552-a91c-550389712a62",
   "metadata": {},
   "source": [
    "Step 2: Add a Decorator to Adjust for Tax\n",
    "Now, let's define a decorator that takes a tax rate and applies it to the base price calculated by the original function."
   ]
  },
  {
   "cell_type": "code",
   "execution_count": 24,
   "id": "0f90bce8-9331-46c5-87e8-111bec5ff279",
   "metadata": {},
   "outputs": [],
   "source": [
    "def apply_tax(tax_rate):\n",
    "    \"\"\"\n",
    "    Decorator that applies a tax rate to the price of a product.\n",
    "    \"\"\"\n",
    "    def decorator(func):\n",
    "        def wrapper(quantity, unit_price):\n",
    "            base = func(quantity, unit_price)\n",
    "            taxed_price = base * (1 + tax_rate)\n",
    "            return taxed_price\n",
    "        return wrapper\n",
    "    return decorator\n",
    "\n",
    "@apply_tax(tax_rate=0.07)  # Assume a 7% tax rate\n",
    "def base_price(quantity, unit_price):\n",
    "    \"\"\"\n",
    "    Calculate the base price of a product given the quantity and unit price.\n",
    "    \"\"\"\n",
    "    return quantity * unit_price\n",
    "\n",
    "#This decorator adjusts the base price by adding a tax rate to it. Next, we will introduce another layer of modification \n",
    "# by applying a seasonal discount through another decorator."
   ]
  },
  {
   "cell_type": "markdown",
   "id": "788cc07a",
   "metadata": {},
   "source": [
    "Step 3: Add Another Decorator for Seasonal Discount\n",
    "Finally, we add a decorator to apply a seasonal discount to the already taxed price. \n",
    "This demonstrates how decorators can be chained to sequentially apply multiple modifications or enhancements."
   ]
  },
  {
   "cell_type": "code",
   "execution_count": 25,
   "id": "ad807217-9185-43df-a68d-421917a081a8",
   "metadata": {},
   "outputs": [],
   "source": [
    "def seasonal_discount(discount_rate):\n",
    "    \"\"\"\n",
    "    Decorator that applies a seasonal discount rate to the product's price.\n",
    "    \"\"\"\n",
    "    def decorator(func):\n",
    "        def wrapper(quantity, unit_price):\n",
    "            price_after_tax = func(quantity, unit_price)\n",
    "            discounted_price = price_after_tax * (1 - discount_rate)\n",
    "            return discounted_price\n",
    "        return wrapper\n",
    "    return decorator\n",
    "\n",
    "@seasonal_discount(discount_rate=0.1)  # Apply a 10% seasonal discount\n",
    "@apply_tax(tax_rate=0.07)  # Apply a 7% tax rate\n",
    "def base_price(quantity, unit_price):\n",
    "    \"\"\"\n",
    "    Calculate the base price of a product given the quantity and unit price.\n",
    "    \"\"\"\n",
    "    return quantity * unit_price\n"
   ]
  },
  {
   "cell_type": "markdown",
   "id": "cf12371f-0463-4fbe-8584-bd1cde94209a",
   "metadata": {},
   "source": [
    "This code calculates the price of a product by first calculating the base price, then adjusting for tax, and finally applying a seasonal discount. Each decorator adds a layer of functionality to the original base_price calculation, demonstrating the power of decorators for composing behaviors in a clean and modular way. This approach allows for flexibility in applying or removing adjustments without altering the core business logic."
   ]
  },
  {
   "cell_type": "markdown",
   "id": "7256ec52-9a01-4711-bf84-1acd4316370b",
   "metadata": {},
   "source": [
    "\n",
    "To call the base_price function that has been decorated with both the seasonal_discount and apply_tax decorators, you simply need to provide the required arguments: quantity and unit_price. These arguments represent the number of items you're calculating the price for and the cost per item, respectively.\n",
    "\n",
    "Here's how you can call the base_price function:"
   ]
  },
  {
   "cell_type": "code",
   "execution_count": 26,
   "id": "e1c89574-a5a5-4f39-a7a8-039877443ad4",
   "metadata": {},
   "outputs": [
    {
     "name": "stdout",
     "output_type": "stream",
     "text": [
      "Final price after tax and discount: $481.50\n"
     ]
    }
   ],
   "source": [
    "# Example of calling the decorated base_price function\n",
    "quantity = 10  # For example, 10 units of the product\n",
    "unit_price = 50  # Assume each unit costs $50\n",
    "\n",
    "final_price = base_price(quantity, unit_price)\n",
    "\n",
    "print(f\"Final price after tax and discount: ${final_price:.2f}\")\n"
   ]
  },
  {
   "cell_type": "markdown",
   "id": "f8cd3b87-7a10-4a91-94e7-654ef7a2b332",
   "metadata": {},
   "source": [
    "This call takes into account the sequential application of the decorators: first, the tax is applied to the base price, and then the discounted rate is applied to the already taxed price, reflecting the final sale price of the product."
   ]
  },
  {
   "cell_type": "markdown",
   "id": "45513833-a88c-4a21-961e-97fdea4ee273",
   "metadata": {},
   "source": [
    "the @ statements for decorators matters significantly because decorators are applied from the bottom up. This order determines how the function is wrapped and, consequently, how its behavior is modified or extended.\n",
    ":\n",
    "\n",
    "Bottom-Up Application: When you stack decorators, the decorator closest to the function (i.e., the one directly above it) is applied first. After that, the next decorator up is applied, and so on. The last decorator (the one at the top) is applied last.\n",
    "\n",
    "Effect on Functionality: The order can change the result of the function because each decorator potentially modifies the input, output, or behavior of the function it wraps. The modifications made by one decorator are passed on to the next decorator in the stack."
   ]
  },
  {
   "cell_type": "markdown",
   "id": "656a9406-6992-447c-9431-82ae1b6bf2ff",
   "metadata": {},
   "source": [
    "Q12: \n",
    "Rewrite this function and change the order of the decorator. Try to do it without copy-paste so that your fingers help you think thorugh the logic. How does it change the behavior? Please answer using words."
   ]
  },
  {
   "cell_type": "code",
   "execution_count": 27,
   "id": "6fba04e5-b1f2-422d-a168-2925eb442127",
   "metadata": {},
   "outputs": [],
   "source": [
    "#Your code here:\n",
    "def discount(discount_rate):\n",
    "    \"\"\"\n",
    "    Decorator that applies discount to the original price \n",
    "    \"\"\"\n",
    "    def decorator(func):\n",
    "        def wrapper(quantity, price):\n",
    "            discounted=func(quantity, price)*(1-discount_rate)\n",
    "            return discounted\n",
    "        return wrapper\n",
    "    return decorator\n",
    "\n",
    "def add_tax(tax_rate):\n",
    "    \"\"\"\n",
    "    Decorator that applies tax to the discounted price \n",
    "    \"\"\"\n",
    "    def decorator(func):\n",
    "        def wrapper(quantity, price): \n",
    "            discounted=func(quantity, price) # -> price after discount\n",
    "            taxed=discounted*(1+tax_rate)\n",
    "            return taxed \n",
    "        return wrapper\n",
    "    return decorator\n",
    "        \n",
    "@add_tax(tax_rate=0.1)\n",
    "@discount(discount_rate=0.3)\n",
    "def base_price(quantity, price):\n",
    "    \"\"\"\n",
    "    Calculate the base price given original price and quantity \n",
    "    \"\"\"\n",
    "    total_price=quantity*price\n",
    "    return total_price\n"
   ]
  },
  {
   "cell_type": "code",
   "execution_count": 28,
   "id": "311f4178",
   "metadata": {},
   "outputs": [
    {
     "name": "stdout",
     "output_type": "stream",
     "text": [
      "The final price after discount and tax is $1540.00\n"
     ]
    }
   ],
   "source": [
    "final_price = base_price(20, 100)\n",
    "print(f\"The final price after discount and tax is ${final_price:.2f}\")"
   ]
  },
  {
   "cell_type": "markdown",
   "id": "5a1471b6-7c4b-496a-b786-c17a8850fe41",
   "metadata": {},
   "source": [
    "Your words here:\n",
    "Unlike the previous one, the discount is applied first and then the tax is applied. So the price at first becomes cheaper than the original price, and then it becomes more expensive than the discounted price."
   ]
  },
  {
   "cell_type": "markdown",
   "id": "a024ca6e-0a2c-4e7e-8662-7474ebabaa14",
   "metadata": {},
   "source": [
    "## CLASSES IN PYTHON\n",
    "\n",
    "Python classes are a fundamental part of object-oriented programming (OOP), allowing for the encapsulation of data and functions that operate on that data in a single entity, known as an object. What does that mean? It means you can create code that can put a nice package around all of the functions you're writing so that they are neat, tidy and not strewn all about the place. \n",
    "\n",
    "In the context of global affairs, Python classes can be used to model complex entities and relationships found in international relations, economics, environmental studies, and more. By defining classes, you can create more organized, scalable, and reusable code for analyses, simulations, data processing and visualization.\n",
    "\n",
    "**Basic Concepts of Python Classes**\n",
    "\n",
    "*Class*: A blueprint for creating objects. A class defines a set of attributes and methods that are common to all objects instantiated from this class.\n",
    "\n",
    "*Object*: An instance of a class. Each object can have unique values for the attributes defined by its class.\n",
    "Attribute: A variable that belongs to an object or class. In the context of global affairs, an attribute could represent data like a country's GDP, population, or carbon emissions.\n",
    "\n",
    "*Method*: A function that belongs to an object or class and can access or modify the object's attributes. For example, a method might update a country's economic data or calculate its growth rate.\n",
    "\n",
    "Let's look at some examples where this will become easier to understand:\n"
   ]
  },
  {
   "cell_type": "code",
   "execution_count": 29,
   "id": "a8c6435a-a301-472f-8af2-eafd5fdacb9e",
   "metadata": {},
   "outputs": [],
   "source": [
    "class Country:\n",
    "    def __init__(self, name, population, gdp): # three attributes, initializes new instances of the class\n",
    "        self.name = name\n",
    "        self.population = population # which is which \n",
    "        self.gdp = gdp\n",
    "    \n",
    "    def display_info(self): # method 1, why self \n",
    "        print(f\"Country: {self.name}\\nPopulation: {self.population}\\nGDP: ${self.gdp} trillion\")\n",
    "\n",
    "    def gdp_per_capita(self): # method 2\n",
    "        return self.gdp * 1e12 / self.population\n"
   ]
  },
  {
   "cell_type": "markdown",
   "id": "ba0c79cf-b2d1-4cbb-b831-0ab471185c54",
   "metadata": {},
   "source": [
    "In this example, the Country class has three attributes (name, population, gdp) and two methods (display_info and gdp_per_capita). The __init__ method initializes new instances of the class, display_info prints out the country's information, and gdp_per_capita calculates the GDP per capita."
   ]
  },
  {
   "cell_type": "markdown",
   "id": "50078055-5d5b-4c7e-a4f3-201bb590d43a",
   "metadata": {},
   "source": [
    "This is how you'd use it:"
   ]
  },
  {
   "cell_type": "code",
   "execution_count": 30,
   "id": "55a9c179-d8ee-40d0-984f-f587eea7be45",
   "metadata": {},
   "outputs": [
    {
     "name": "stdout",
     "output_type": "stream",
     "text": [
      "Country: United States\n",
      "Population: 331002651\n",
      "GDP: $21.43 trillion\n",
      "Country: China\n",
      "Population: 1439323776\n",
      "GDP: $14.34 trillion\n",
      "GDP per capita (USA): $64742.68\n",
      "GDP per capita (China): $9963.01\n"
     ]
    }
   ],
   "source": [
    "usa = Country(\"United States\", 331002651, 21.43)\n",
    "china = Country(\"China\", 1439323776, 14.34)\n",
    "\n",
    "usa.display_info()\n",
    "china.display_info()\n",
    "\n",
    "print(f\"GDP per capita (USA): ${usa.gdp_per_capita():.2f}\")\n",
    "print(f\"GDP per capita (China): ${china.gdp_per_capita():.2f}\")\n"
   ]
  },
  {
   "cell_type": "markdown",
   "id": "39cbb7b0-316f-416e-ae2e-ef4d78cfd0b6",
   "metadata": {},
   "source": [
    "**Extending the Model to Include Relationships**\n",
    "To further apply classes in the context of global affairs, you might define additional classes to represent international organizations, treaties, or global issues, and use methods to model interactions or relationships between countries."
   ]
  },
  {
   "cell_type": "code",
   "execution_count": 31,
   "id": "846ee85d-81b6-4c7d-8efc-5ae0971344a2",
   "metadata": {},
   "outputs": [],
   "source": [
    "class Treaty:\n",
    "    def __init__(self, name, member_countries):\n",
    "        self.name = name\n",
    "        self.member_countries = member_countries\n",
    "    \n",
    "    def add_country(self, country): # self \n",
    "        self.member_countries.append(country)\n",
    "    \n",
    "    def display_members(self): # self \n",
    "        print(f\"Treaty: {self.name}\\nMembers: {', '.join([country.name for country in self.member_countries])}\")\n"
   ]
  },
  {
   "cell_type": "markdown",
   "id": "8f075686-e605-4587-9f04-f11f7384e49a",
   "metadata": {},
   "source": [
    "Q13:\n",
    "Write a class in python that takes country, exchange rate, year, and systemic crisis as parameters and code to calculate the percentage change in exchange rate for two years, and filters for inflation rate 30% or higher."
   ]
  },
  {
   "cell_type": "code",
   "execution_count": 32,
   "id": "5ddb28c1-daaf-4237-ba12-b7afe8249ef7",
   "metadata": {},
   "outputs": [],
   "source": [
    "#your code here:\n",
    "#data=pd.read_excel('20160923_global_crisis_data.xlsx')\n",
    "\n",
    "class CountryFinancialData: \n",
    "    def __init__(self, country, exchange_rate, year, systemic_crisis, data): \n",
    "        self.country=country\n",
    "        self.exchange_rate=exchange_rate\n",
    "        self.year=year\n",
    "        self.systemic_crisis=systemic_crisis\n",
    "        self.data=data # I wasn't sure how to go about reading data \n",
    "    \n",
    "    def perc_change(self, country, year_before, year_after): # Calculates percentage change in exchange rate \n",
    "        row_before=data[data.apply(lambda row: row['Year']==year_before and row['Country']==country, axis=1)]\n",
    "        exchange_rate_before=row_before['exch_usd'] # Exchange rate before \n",
    "        \n",
    "        row_after=data[data.apply(lambda row: row['Year']==year_after and row['Country']==country, axis=1)]\n",
    "        exchange_rate_after=row_after['exch_usd'] # Exchange rate after \n",
    "         \n",
    "        percentage_change=(exchange_rate_after-exchange_rate_before)/exchange_rate_before*100\n",
    "        return percentage_change\n",
    "        \n",
    "    def filter_inflation(self): # Filter for high inflation \n",
    "        new_data=self.data[self.data.apply(lambda row: row['inflation']>30, axis=1)]\n",
    "        return new_data"
   ]
  },
  {
   "cell_type": "markdown",
   "id": "4c2b6765-5510-4477-a38d-e0409b370660",
   "metadata": {},
   "source": [
    "Q14: \n",
    "Add an IMF decorator to your class that assumes an IMF intervention that would adjust the inflation rate to a maximum of 18.5%."
   ]
  },
  {
   "cell_type": "code",
   "execution_count": 33,
   "id": "f035afe6-9edb-452f-95a6-575826def4c7",
   "metadata": {},
   "outputs": [],
   "source": [
    "#your code here:\n",
    "def IMF_adjust_inflation(inflation_threshold):\n",
    "    def decorator(func):\n",
    "        def wrapper(*args, **kwargs): # If higher than the threshold, inflation is adjusted to 18.5\n",
    "            self.data=self.data[self.data.apply(lambda row: row['inflation']==18.5 if row['inflation']>inflation_threshold else row['inflation'], axis=1)]\n",
    "        return wrapper\n",
    "    return decorator \n",
    "\n",
    "class CountryFinancialData: \n",
    "    def __init__(self, data, country, inflation, year, systemic_crisis): \n",
    "        self.inflation=inflation\n",
    "        self.year=year\n",
    "        self.systemic_crisis=systemic_crisis\n",
    "        self.data=data\n",
    "\n",
    "    def perc_change(self, country, year_before, year_after): # Calculates percentage change in exchange rate \n",
    "        row_before=data[data.apply(lambda row: row['Year']==year_before and row['Country']==country, axis=1)]\n",
    "        exchange_rate_before=row_before['exch_usd'] # Exchange rate before \n",
    "        \n",
    "        row_after=data[data.apply(lambda row: row['Year']==year_after and row['Country']==country, axis=1)]\n",
    "        exchange_rate_after=row_after['exch_usd'] # Exchange rate after \n",
    "         \n",
    "        percentage_change=(exchange_rate_after-exchange_rate_before)/exchange_rate_before*100\n",
    "        return percentage_change\n",
    "          \n",
    "    @IMF_adjust_inflation # Add decorater for filter_inflation function -> adjusts inflation for high inflation countries\n",
    "    def filter_inflation(self):\n",
    "        self.data[data.apply(lambda row: row['inflation']>30)]\n",
    "        return data"
   ]
  },
  {
   "cell_type": "markdown",
   "id": "f691e5f1-21fe-4c05-be46-0e32d29feaed",
   "metadata": {},
   "source": [
    "Q15:\n",
    "Please confirm that you have access to Anthropic's Claude: https://www.anthropic.com/news/claude-2-1\n"
   ]
  },
  {
   "cell_type": "markdown",
   "id": "6035180b-fe90-40e8-91af-ea48d7f58980",
   "metadata": {},
   "source": [
    "Your confirmation here: Yes"
   ]
  }
 ],
 "metadata": {
  "kernelspec": {
   "display_name": "Python 3 (ipykernel)",
   "language": "python",
   "name": "python3"
  },
  "language_info": {
   "codemirror_mode": {
    "name": "ipython",
    "version": 3
   },
   "file_extension": ".py",
   "mimetype": "text/x-python",
   "name": "python",
   "nbconvert_exporter": "python",
   "pygments_lexer": "ipython3",
   "version": "3.11.4"
  }
 },
 "nbformat": 4,
 "nbformat_minor": 5
}
