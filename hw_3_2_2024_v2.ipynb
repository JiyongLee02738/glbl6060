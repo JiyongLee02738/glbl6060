{
 "cells": [
  {
   "cell_type": "markdown",
   "id": "c6e0a777-60c6-424c-8e5f-461f3072854b",
   "metadata": {},
   "source": [
    "1. Translating Sentences:\n",
    "\n",
    "Write a function that translates sentences. The function takes two arguements, the sentence to be translated and tthe targeted language and returns the translated sentence.\n"
   ]
  },
  {
   "cell_type": "code",
   "execution_count": 1,
   "id": "a9290c4e",
   "metadata": {},
   "outputs": [],
   "source": [
    "# MAKE SURE TO COMMENT AND WRITE FUNCTION DOCS "
   ]
  },
  {
   "cell_type": "code",
   "execution_count": 2,
   "id": "760e2bad-7861-4594-8557-786d41b56b97",
   "metadata": {},
   "outputs": [],
   "source": [
    "# Your code here\n",
    "import googletrans \n",
    "from googletrans import Translator\n",
    "translator = Translator()\n",
    "\n",
    "def translate(sentence, target_lang):\n",
    "    \"\"\"\n",
    "    Takes in a sentence and transates it to a target language \n",
    "    \"\"\"\n",
    "    translation = translator.translate(sentence, dest=target_lang)\n",
    "    return translation.text"
   ]
  },
  {
   "cell_type": "code",
   "execution_count": 3,
   "id": "ab9ac144",
   "metadata": {},
   "outputs": [
    {
     "data": {
      "text/plain": [
       "'私はペンを持っています'"
      ]
     },
     "execution_count": 3,
     "metadata": {},
     "output_type": "execute_result"
    }
   ],
   "source": [
    "translate(\"i have a pen\", \"ja\")"
   ]
  },
  {
   "cell_type": "markdown",
   "id": "2969a456-a840-48ce-b0f4-9252a2bddd24",
   "metadata": {},
   "source": [
    "2. Take the following sentence and translate it from English to Spanish.\n",
    "\n",
    "\"Make a career of humanity. Commit yourself to the noble struggle for equal rights. \n",
    "You will make a better person of yourself, a greater nation of your country, and a finer world to live in.\"\n",
    "\n"
   ]
  },
  {
   "cell_type": "code",
   "execution_count": 4,
   "id": "80947825-0e17-4ad2-be1b-f0fe5093f08c",
   "metadata": {},
   "outputs": [
    {
     "data": {
      "text/plain": [
       "'Hacer una carrera de la humanidad.Comprométate con la noble lucha por la misma derecha. Hará una mejor persona de ti mismo, una nación más grande de tu país y un mundo más fino para vivir.'"
      ]
     },
     "execution_count": 4,
     "metadata": {},
     "output_type": "execute_result"
    }
   ],
   "source": [
    "#Your code here\n",
    "translate(\"Make a career of humanity. Commit yourself to the noble struggle for equal rights.\" + \n",
    "          \"You will make a better person of yourself,\" + \n",
    "          \"a greater nation of your country, and a finer world to live in.\", \"es\")"
   ]
  },
  {
   "cell_type": "markdown",
   "id": "f96da02d",
   "metadata": {},
   "source": [
    "3.Now translate it from Spanish to Chinese"
   ]
  },
  {
   "cell_type": "code",
   "execution_count": 5,
   "id": "046ca215-83f0-4680-874d-20214d76992b",
   "metadata": {},
   "outputs": [
    {
     "data": {
      "text/plain": [
       "'为了同样的权利而崇高的斗争来促进自己。'"
      ]
     },
     "execution_count": 5,
     "metadata": {},
     "output_type": "execute_result"
    }
   ],
   "source": [
    "#Your code here:\n",
    "translate(\"Hacer una carrera de la humanidad.Comprométate con la noble lucha por la misma derecha.\" + \n",
    "          \"Harás una mejor persona de ti mismo, una nación más grande de tu país y un mundo más fino para vivir.\", \n",
    "          \"zh-cn\")"
   ]
  },
  {
   "cell_type": "markdown",
   "id": "9d92016d",
   "metadata": {},
   "source": [
    "4. Now translate it from Chinese back to English."
   ]
  },
  {
   "cell_type": "code",
   "execution_count": 6,
   "id": "f4615e33-518f-4047-bd24-03967d96312f",
   "metadata": {},
   "outputs": [
    {
     "data": {
      "text/plain": [
       "'Promote yourself for the lofty struggle for the same rights.'"
      ]
     },
     "execution_count": 6,
     "metadata": {},
     "output_type": "execute_result"
    }
   ],
   "source": [
    "#Your code here\n",
    "translate('为了同样的权利而崇高的斗争来促进自己。', \"en\")"
   ]
  },
  {
   "cell_type": "markdown",
   "id": "ec0705c5-56d1-4eef-8268-280127022260",
   "metadata": {},
   "source": [
    "5. Now do the same thing with ChatGPT. "
   ]
  },
  {
   "cell_type": "markdown",
   "id": "e2c32e5b-469b-4604-a671-261893270021",
   "metadata": {},
   "source": [
    "Eng to Sp: \"Haz de la humanidad tu carrera. Comprométete con la noble lucha por la igualdad de derechos. Te convertirás en una mejor persona, harás de tu país una nación más grande y contribuirás a un mundo más hermoso para vivir.\"\n",
    "Sp to Chinese: 把人类事业当作你的职业。致力于为平等权利而进行崇高的斗争。你将使自己变得更加优秀，使你的国家变得更加伟大，创造一个更美好的世界居住环境。\n",
    "Chinese to Eng: \"Make humanity your career. Dedicate yourself to the noble struggle for equal rights. You will become a better person, make your country greater, and contribute to creating a finer world to live in.\""
   ]
  },
  {
   "cell_type": "markdown",
   "id": "9c94a3b9",
   "metadata": {},
   "source": [
    "6. Describe the difference in quality and features of output:"
   ]
  },
  {
   "cell_type": "markdown",
   "id": "e8a066c8",
   "metadata": {},
   "source": [
    "Your answer here: The translation using ChatGPT was much more interpretable after translating to Spanish, Chinese, and back to English. The translations using googletrans seem to be shorter in each language, and that might be why the context gets lost as it does the traslation, especially when the two languages have much different grammar structure."
   ]
  },
  {
   "cell_type": "markdown",
   "id": "35ef9916-beef-4318-831e-ea8328da4ed6",
   "metadata": {},
   "source": [
    "7.Human Development Index(HDI) Function\n",
    "\n",
    "Human Development Index (HDI) is a composite statistic of life expectancy, education, and income per capita indicators, which are used to rank countries into four apsects of human development: \n",
    "\n",
    "1. Life expectancy at birth.\n",
    "2. Average number of years of education received by people aged 25 and older.\n",
    "3. Expected years of schooling for children entering school.\n",
    "4. Gross National Income per capita.\n",
    "\n",
    "But....these measures need to be normalized.\n",
    "\n",
    "\n",
    "### Normalizing the four factors—life expectancy, mean years of schooling, expected years of schooling, and GNI per capita—is crucial for calculating the Human Development Index (HDI) correctly for several reasons:\n",
    "\n",
    "1. *Different Units and Scales*\n",
    "The four factors are measured in entirely different units and scales. Life expectancy is measured in years, schooling years are also in years, but they represent different aspects of education, and GNI per capita is measured in dollars. Normalization transforms these variables into a comparable scale (usually between 0 and 1), allowing for a meaningful aggregation into a single index.\n",
    "2. *Combining Indices*\n",
    "The HDI is a composite index that combines indicators of health, education, and income. To accurately reflect improvements or declines across these varied dimensions, each factor must contribute proportionately to the final index. Without normalization, a high value in one dimension could disproportionately affect the HDI, obscuring significant deficiencies in another dimension.\n",
    "3. *Geometric Mean Calculation*\n",
    "The HDI uses the geometric mean of the normalized indices rather than an arithmetic mean. This choice ensures that severe underperformance in any single dimension (approaching zero) will have a more substantial impact on the overall HDI, promoting a more balanced approach to development. The geometric mean can only be meaningfully calculated if all values are on the same positive scale.\n",
    "4. *Comparability Over Time and Across Countries*\n",
    "Normalization allows for the comparison of HDI scores over time and between countries. By using fixed hypothetical minimum and maximum values for normalization, the HDI can track progress or decline in human development even as absolute conditions change. It ensures that the index remains relevant and comparable despite changes in global standards of living, educational attainment, or life expectancy.\n",
    "5. *Reducing Skewness and Enhancing Sensitivity*\n",
    "For GNI per capita, specifically, the logarithmic transformation helps manage the skewness caused by the wide range of income levels across the world. This transformation ensures that proportional differences at lower levels of income are given comparable weight to similar proportional differences at higher levels of income, enhancing the sensitivity of the HDI to improvements in living standards across all income levels.\n",
    "\n",
    "So...normalization is a **methodological necessity** in constructing the HDI. It allows for the equitable integration of diverse human development indicators into a unified framework, enabling policymakers, researchers, and the public to assess and compare the overall level of human development across different contexts and over time.\n",
    "\n",
    "\n",
    "Here are your helpful guidelines for constructing the logic of this function:\n"
   ]
  },
  {
   "cell_type": "code",
   "execution_count": 7,
   "id": "8e2bde62-aefb-4a67-9ff4-abbfa057daeb",
   "metadata": {},
   "outputs": [
    {
     "ename": "NameError",
     "evalue": "name 'life_expectancy' is not defined",
     "output_type": "error",
     "traceback": [
      "\u001b[0;31m---------------------------------------------------------------------------\u001b[0m",
      "\u001b[0;31mNameError\u001b[0m                                 Traceback (most recent call last)",
      "Cell \u001b[0;32mIn[7], line 2\u001b[0m\n\u001b[1;32m      1\u001b[0m \u001b[38;5;66;03m# How to normalize each index\u001b[39;00m\n\u001b[0;32m----> 2\u001b[0m life_expectancy_index \u001b[38;5;241m=\u001b[39m (life_expectancy \u001b[38;5;241m-\u001b[39m \u001b[38;5;241m20\u001b[39m) \u001b[38;5;241m/\u001b[39m (\u001b[38;5;241m85\u001b[39m \u001b[38;5;241m-\u001b[39m \u001b[38;5;241m20\u001b[39m)\n\u001b[1;32m      3\u001b[0m education_index \u001b[38;5;241m=\u001b[39m (mean_years_of_schooling \u001b[38;5;241m/\u001b[39m \u001b[38;5;241m15\u001b[39m \u001b[38;5;241m+\u001b[39m expected_years_of_schooling \u001b[38;5;241m/\u001b[39m \u001b[38;5;241m18\u001b[39m) \u001b[38;5;241m/\u001b[39m \u001b[38;5;241m2\u001b[39m\n\u001b[1;32m      4\u001b[0m GNI_index \u001b[38;5;241m=\u001b[39m (np\u001b[38;5;241m.\u001b[39mlog(GNI_per_capita) \u001b[38;5;241m-\u001b[39m np\u001b[38;5;241m.\u001b[39mlog(\u001b[38;5;241m100\u001b[39m)) \u001b[38;5;241m/\u001b[39m (np\u001b[38;5;241m.\u001b[39mlog(\u001b[38;5;241m75000\u001b[39m) \u001b[38;5;241m-\u001b[39m np\u001b[38;5;241m.\u001b[39mlog(\u001b[38;5;241m100\u001b[39m))\n",
      "\u001b[0;31mNameError\u001b[0m: name 'life_expectancy' is not defined"
     ]
    }
   ],
   "source": [
    "# How to normalize each index\n",
    "life_expectancy_index = (life_expectancy - 20) / (85 - 20)\n",
    "education_index = (mean_years_of_schooling / 15 + expected_years_of_schooling / 18) / 2\n",
    "GNI_index = (np.log(GNI_per_capita) - np.log(100)) / (np.log(75000) - np.log(100))\n",
    "\n",
    " # Calculate HDI\n",
    "HDI = (life_expectancy_index * education_index * GNI_index) ** (1/3)"
   ]
  },
  {
   "cell_type": "markdown",
   "id": "1d4f2148",
   "metadata": {},
   "source": [
    "Now write the HDI function. Explain each of these normalizations with documation that illustrates your understanding of the code."
   ]
  },
  {
   "cell_type": "code",
   "execution_count": 8,
   "id": "2ab63be4-3a46-4b3a-8c27-7ad7299d5977",
   "metadata": {},
   "outputs": [],
   "source": [
    "#Your function here:\n",
    "import numpy as np \n",
    "def compute_HDI(life_exp, mean_edu, expected_edu, GNI): \n",
    "    \"\"\"\n",
    "    Normalizes life expectancy, education, and GNI variables\n",
    "    Computes an index \n",
    "    \"\"\"\n",
    "    life_exp_index = (life_exp-20)/(85-20) # Normalize life expectancy variable \n",
    "    edu_index = (mean_edu/15 + expected_edu/18)/2 # Normalize education variable \n",
    "    GNI_index = (np.log(GNI)-np.log(100))/(np.log(75000)-np.log(100)) # Normalize GNI variable \n",
    "    \n",
    "    return (life_exp_index*edu_index*GNI_index)**(1/3) # Combine and calculator an indicator "
   ]
  },
  {
   "cell_type": "markdown",
   "id": "7cd88131-e817-4a50-aede-ec94b31cabfc",
   "metadata": {},
   "source": [
    "8. Leet Code Puzzle:\n",
    "\n",
    "Roman numerals are represented by seven different symbols: I, V, X, L, C, D and M.\n",
    "\n",
    "Symbol       Value\n",
    "I             1\n",
    "V             5\n",
    "X             10\n",
    "L             50\n",
    "C             100\n",
    "D             500\n",
    "M             1000\n",
    "\n",
    "For example, 2 is written as II in Roman numeral, just two ones added together. 12 is written as XII, which is simply X + II. The number 27 is written as XXVII, which is XX + V + II.\n",
    "\n",
    "Roman numerals are usually written largest to smallest from left to right. However, the numeral for four is not IIII. Instead, the number four is written as IV. Because the one is before the five we subtract it making four. The same principle applies to the number nine, which is written as IX. There are six instances where subtraction is used:\n",
    "\n",
    "I can be placed before V (5) and X (10) to make 4 and 9. \n",
    "X can be placed before L (50) and C (100) to make 40 and 90. \n",
    "C can be placed before D (500) and M (1000) to make 400 and 900.\n",
    "Given a roman numeral, convert it to an integer.\n",
    "\n",
    "Example 1:\n",
    "\n",
    "Input: s = \"III\"\n",
    "Output: 3\n",
    "Explanation: III = 3.\n",
    "\n",
    "Example 2:\n",
    "\n",
    "Input: s = \"LVIII\"\n",
    "Output: 58\n",
    "Explanation: L = 50, V= 5, III = 3.\n",
    "\n",
    "Example 3:\n",
    "\n",
    "Input: s = \"MCMXCIV\"\n",
    "Output: 1994\n",
    "Explanation: M = 1000, CM = 900, XC = 90 and IV = 4.\n",
    " \n",
    "\n",
    "Constraints:\n",
    "\n",
    "1 <= s.length <= 15\n",
    "s contains only the characters ('I', 'V', 'X', 'L', 'C', 'D', 'M').\n",
    "It is guaranteed that s is a valid roman numeral in the range [1,3999]\n",
    "\n"
   ]
  },
  {
   "cell_type": "markdown",
   "id": "dad1d966-55aa-4387-b133-b3f0fe9918c3",
   "metadata": {},
   "source": [
    "Complete the following function that converts a Roman numeral to an integer. **Check out the helpful type hinting format!** "
   ]
  },
  {
   "cell_type": "code",
   "execution_count": 9,
   "id": "14187f58",
   "metadata": {},
   "outputs": [
    {
     "name": "stdout",
     "output_type": "stream",
     "text": [
      "3\n",
      "58\n",
      "1994\n"
     ]
    }
   ],
   "source": [
    "# explain why this code (given by the prof) works \n",
    "# using the fact that irregular ones like IV and IX are special in that \n",
    "# a smaller number comes before a bigger number \n",
    "\n",
    "def roman_to_integer(s: str) -> int:\n",
    "    ''' This syntax The syntax def roman_to_integer(s: str) -> int: is used in Python for type hinting. \n",
    "    It helps to indicate what types of values a function expects to receive and what type it will return.\n",
    "    (s: str) indicates that this function takes one parameter s, and str is a type hint specifying that s should be a string.\n",
    "    -> int:-> indicates what type the function is expected to return.int is a type hint that specifies the return type of the function \n",
    "    should be an integer. This syntax is part of Python's type hinting system, introduced in Python 3.5 through PEP 484. \n",
    "    Type hints are not enforced at runtime, meaning that Python doesn't automatically check or enforce these types.\n",
    "    However, they are incredibly useful for developers to understand how a function should be used, and they can be used by tools like type checkers, IDEs, and linters to catch potential bugs in code.\n",
    "    So, in the context of roman_to_integer(s: str) -> int:, it's a hint that the function takes a string s (representing a Roman numeral)\n",
    "    as input and returns an integer.'''\n",
    " \n",
    "    # Mapping of Roman numerals to integers\n",
    "    roman_map = {'I': 1, 'V': 5, 'X': 10, 'L': 50, 'C': 100, 'D': 500, 'M': 1000} # Creating a dictionary\n",
    "    \n",
    "    # Since each character in Roman numerals shows a number instead of a digit it can be directly added to \"total\"\n",
    "    total = 0\n",
    "    prev_value = 0\n",
    "\n",
    "    \"\"\" \n",
    "    Special cases are 4 and 9, which are IV and IX, which are different from other numbers \n",
    "    since a smaller number character comes first within that number (unlike VI, VII).\n",
    "    Note a number like XXXV (without exceptions) is in decreasing order. \n",
    "    So reading the string from the right or reversing the string make the characters be in increasing order,  \n",
    "    where a smaller character is read first. It makes the special cases like IV and IX easier to detect \n",
    "    since bigger numbers come first in reversed IV and IX. \n",
    "    When detecting a number decreases, subtracts 1 from the bigger character.\n",
    "    \"\"\"\n",
    "    \n",
    "    # IV is V - I\n",
    "    # XL is L - X\n",
    "    \n",
    "    # first, reverse the string (so that it is in decreasing order)\n",
    "    for char in reversed(s): # XV becomes VX, overall string is in increasing order \n",
    "        # exceptions like IV becomes VI, which is now in decreasing order \n",
    "        \n",
    "        value = roman_map[char] # Maps from Roman numeral (in string) to value (in int) using the dictionary\n",
    "        if value < prev_value: # If current value is smaller than the previous, even though the overall string is \n",
    "                               # in increasing order, then it is an exception\n",
    "            total -= value # Total value is previous total value minus current value \n",
    "                           # (since for 4, previous, V, minus current, I, is the true value)\n",
    "        else:\n",
    "            total += value # Besides exceptions, just keep adding value to total value \n",
    "        prev_value = value # Replace previous value with current value \n",
    "                           # (which becomes the previous value in next iteration)\n",
    "\n",
    "    return total\n",
    "\n",
    "# Test the function with the provided examples\n",
    "example1 = \"III\"      # Expected output: 3\n",
    "example2 = \"LVIII\"    # Expected output: 58\n",
    "example3 = \"MCMXCIV\"  # Expected output: 1994\n",
    "\n",
    "# Testing the function\n",
    "print(roman_to_integer(example1))  # Output: 3\n",
    "print(roman_to_integer(example2))  # Output: 58\n",
    "print(roman_to_integer(example3))  # Output: 1994"
   ]
  },
  {
   "cell_type": "code",
   "execution_count": null,
   "id": "45a1b994",
   "metadata": {},
   "outputs": [],
   "source": [
    "# SIMILAR PROBLEM \n",
    "# I couldn't come up with a similar problem.. (I asked ChatGPT, but still it didn't give me useful ideas)."
   ]
  },
  {
   "cell_type": "markdown",
   "id": "87fcd085-b4b5-4d81-9caf-174a270c390f",
   "metadata": {},
   "source": [
    " ## Recursion\n",
    "\n",
    "Recursion is a programming technique where a function calls itself in order to solve a problem. \n",
    "In recursive functions, the solution to a problem depends on solutions to smaller instances of the same problem. \n",
    "A key feature of a recursive function is the presence of a base case, which terminates the recursion and prevents it from running indefinitely.\n",
    "\n",
    "Let's create a recursive function that multiplies two numbers using addition. This is a simple yet illustrative example of recursion. The function will multiply two positive integers, a and b, by adding a to itself b times."
   ]
  },
  {
   "cell_type": "code",
   "execution_count": 10,
   "id": "6a4fe908-fddc-4e69-ae8c-fa118cec34a1",
   "metadata": {},
   "outputs": [
    {
     "name": "stdout",
     "output_type": "stream",
     "text": [
      "15\n"
     ]
    }
   ],
   "source": [
    "def recursive_multiply(a, b):\n",
    "    \"\"\"\n",
    "    Recursively multiplies two numbers by using addition.\n",
    "\n",
    "    Parameters:\n",
    "    a (int): The first number.\n",
    "    b (int): The second number, representing the number of times 'a' is added to itself.\n",
    "\n",
    "    Returns:\n",
    "    int: The product of 'a' and 'b'.\n",
    "    \"\"\"\n",
    "    # Base case: when b is 0, the result is 0\n",
    "    if b == 0:\n",
    "        return 0\n",
    "\n",
    "    # Recursive case: add 'a' to the result of multiplying 'a' with 'b-1'\n",
    "    else:\n",
    "        return a + recursive_multiply(a, b - 1)\n",
    "\n",
    "# Example usage\n",
    "print(recursive_multiply(5, 3))  # Output: 15"
   ]
  },
  {
   "cell_type": "markdown",
   "id": "a3c12934-e729-4578-a8c3-33feaccf725a",
   "metadata": {},
   "source": [
    "Explanation: Base Case: When b is 0, the function returns 0. This is because any number multiplied by 0 equals 0.\n",
    "\n",
    "Recursive Case: If b is greater than 0, the function performs the operation a + recursive_multiply(a, b - 1). This adds a to the result of the function called with b decremented by 1, effectively summing a b times.\n",
    "\n",
    "Termination: The recursion continues until b reaches 0, at which point the base case stops the recursion and the final result is returned.\n",
    "\n",
    "In this example, recursive_multiply(5, 3) is calculated as:\n",
    "\n",
    "5 + recursive_multiply(5, 2) 5 + (5 + recursive_multiply(5, 1)) 5 + (5 + (5 + recursive_multiply(5, 0))) 5 + (5 + (5 + 0)) 15 This example demonstrates a basic recursion concept using a common arithmetic operation."
   ]
  },
  {
   "cell_type": "markdown",
   "id": "15981086-348c-4165-8934-b96658e0d9c3",
   "metadata": {},
   "source": [
    "## One for Jacob\n",
    "Let's use an example related to Russian studies. Imagine we want to analyze the lineage of Russian leadership, tracing back through a series of predecessors. The recursive function could help us find how many steps it takes to reach a specific historical figure in the leadership lineage."
   ]
  },
  {
   "cell_type": "code",
   "execution_count": 11,
   "id": "5c6a1381-c817-443c-abbb-53d842744bfd",
   "metadata": {},
   "outputs": [
    {
     "name": "stdout",
     "output_type": "stream",
     "text": [
      "2\n"
     ]
    }
   ],
   "source": [
    "def trace_lineage(current_leader, target_leader, steps=0):\n",
    "    \"\"\"\n",
    "    Recursively traces the lineage of Russian leadership back to a target leader.\n",
    "\n",
    "    Parameters:\n",
    "    current_leader (str): The current leader in the lineage being traced.\n",
    "    target_leader (str): The target leader to trace back to.\n",
    "    steps (int): The number of steps taken in the lineage trace.\n",
    "\n",
    "    Returns:\n",
    "    int: The number of steps to reach the target leader.\n",
    "    \"\"\"\n",
    "    # Base case: If the current leader is the target leader\n",
    "    if current_leader == target_leader:\n",
    "        return steps\n",
    "\n",
    "    # A simple example lineage mapping\n",
    "    lineage = {\n",
    "        \"Vladimir Putin\": \"Boris Yeltsin\",\n",
    "        \"Boris Yeltsin\": \"Mikhail Gorbachev\",\n",
    "        \"Mikhail Gorbachev\": \"Konstantin Chernenko\",\n",
    "        # ... additional lineage mapping ...\n",
    "    }\n",
    "\n",
    "    # Recursive case: Move to the next leader in the lineage\n",
    "    if current_leader in lineage:\n",
    "        return trace_lineage(lineage[current_leader], target_leader, steps + 1)\n",
    "    else:\n",
    "        return \"Lineage not found\"\n",
    "\n",
    "# Example usage: How many steps from Vladimir Putin to Mikhail Gorbachev?\n",
    "steps_to_gorbachev = trace_lineage(\"Vladimir Putin\", \"Mikhail Gorbachev\")\n",
    "print(steps_to_gorbachev)  # Output: 2"
   ]
  },
  {
   "cell_type": "markdown",
   "id": "a8c5f100-36c0-4d18-90d0-1aa620356458",
   "metadata": {},
   "source": [
    "In this example, trace_lineage is a recursive function. The base case occurs when the current leader is the target leader, at which point the function returns the number of steps taken. If the current leader is not the target, the function calls itself with the predecessor of the current leader (retrieved from the lineage dictionary). This process repeats until the target leader is reached or the lineage cannot be traced further.\n",
    "\n",
    "Recursion is a powerful concept, especially useful in scenarios where a problem can be broken down into smaller, similar subproblems. However, it's important to define the base case correctly to avoid infinite recursion."
   ]
  },
  {
   "cell_type": "markdown",
   "id": "e5b649c3-4338-4d16-9855-4d8853a4b436",
   "metadata": {},
   "source": [
    "9.## The Matryoshka Dolls##\n",
    "\n",
    "In Russian culture, Matryoshka dolls, or Russian nesting dolls, are a set of wooden dolls of decreasing size placed one inside another. \n",
    "\n",
    "**Your task is to write a recursive function in Python that calculates the total number of individual dolls in a set of Matryoshka dolls, given the number of layers.**\n",
    "\n",
    "Problem Description:\n",
    "\n",
    "A single Matryoshka doll consists of multiple layers, each layer being a doll itself.\n",
    "Each doll can contain exactly one smaller doll inside it, except for the smallest doll, which cannot contain any doll.\n",
    "The function should take the number of layers (i.e., the size of the largest doll) as an input and return the total number of dolls.\n",
    "\n",
    "Example:\n",
    "\n",
    "If the largest doll has 5 layers, then the total number of dolls will be 5 (one for each layer)."
   ]
  },
  {
   "cell_type": "code",
   "execution_count": 12,
   "id": "c39c100b-dec6-408c-ae21-99119d6b3033",
   "metadata": {},
   "outputs": [],
   "source": [
    "#Your code here:\n",
    "\n",
    "num_dolls=0 # Initialize the variable for the number of dolls \n",
    "def count_matryoshka(num_layers): \n",
    "    \"\"\"\n",
    "    The number of layers decreases in each iteration, and number of doll increases from 0 at the same time.\n",
    "    When the number of layers reaches 0, the function will have counted the total number of dolls.\n",
    "    \"\"\"\n",
    "    global num_dolls\n",
    "    if num_layers==0: # Iteration stops when the number of layers reaches 0 (base case)\n",
    "        return num_dolls\n",
    "    \n",
    "    else: \n",
    "        num_dolls+=1\n",
    "        return count_matryoshka(num_layers-1)"
   ]
  },
  {
   "cell_type": "code",
   "execution_count": null,
   "id": "dee376ee",
   "metadata": {},
   "outputs": [],
   "source": [
    "# Testing count_matryoshka()\n",
    "a=count_matryoshka(5)\n",
    "print(a)"
   ]
  },
  {
   "cell_type": "markdown",
   "id": "1adb516b-b2d3-4d9d-b736-8967cbdb3370",
   "metadata": {},
   "source": [
    "10. ## Mired in Mango Madness ##\n",
    "\n",
    "\n",
    "Congratulations! In your last semester at Yale, you got a job at the World Bank ! \n",
    "\n",
    "Your first assignment is to address the dearth of good data in Mali on Mango quality and production. Your boss put you on a plane to Mali during the harvest season. You are excited, not only because your boss is annoying and wears too much cologne, but international travel is part of the excitement of an international job. You are excited to see the Great Mosque of Djenne, to watch the sunset from the Bandiagara Cliffs, and to dance the night away to  at Le Byblos. Oh yeah, there is the work too. After a particular \"rough\" night you meet with your colleagues at the office.  You thought you'd be able to just get by making eye contact and nodding while they did most of the work. After all, you are new to the role. No such luck. Your colleagues are thrilled that you can solve their problems by creating an automated call center. Their exact words are, \"The Harvard grad ended up quitting, I'm glad we have someone from Yale here to make things right.\"\n",
    "\n",
    "You are given an office and a computer. You may have slightly overstated your Python coding skills to get the job, but too late now. They ask if you mind if they watch you code. You tell them that you prefer to work alone, although ask them to lunch later to soften the push back. After the initial panic and hangover subsides you think back to your days in intermediate python at Yale, the encouraging words of your caring but demanding prof,  and then a light flashes in your mind and you think, \"I got this.\" \n",
    "\n",
    "You've been tasked with the goal of setting up an automated call center to get data on current market prices, production and quality. There are growers who are both collectives who report these factors, and also smaller growers! Unfortunately, some of these are incentivized to underreport production and prices under the assumption that they will receive more foreign aid. Not all of them though! It's estimated that 10-20% of the self-reporting is innacurate. Callers call the center. Words are processed from speech to text. Text is processed, converted back to speech and then communicated to the caller. \n",
    "\n",
    "There are a few challenges you face: \n",
    "1. The speech to text algo was trained on French, but most of the farmers who call in speak Bambara. You must translate from Bambara to French, and then French to English, because your boss doesn't speak French and wants things in English and is completely unreasonable.\n",
    "2. Sometimes the call just ends, sometimes words are sporadic, sometimes the algo. confuses the word \"child\" and the word \"mango\"\n",
    "3. The call in number was once the number for the infant health hotline. People still use the number to try to get immediate emergency care for their infant. Their calls must be redirected or children could die and it would be your fault, not to mention an international incident.\n",
    "4. The call number is often called by fans and musicians who are given the number by directory assistance because there is a music production company called Mango Mali, a fledgling world music group that markets music from Mali to France.\n",
    "5. You must try to identify who is lying about their crop yield quality and prices.\n",
    "\n",
    "\\\n",
    "\n",
    "**YOUR MISSION**\n",
    "\n",
    "Write code that accepts the number as an input and then collects user input(in Bambara), translates it to French, and then outputs the data to a csv file in English. Please make sure you write code that addresses the challenges above (1-5). \n",
    "Create use cases to demonstrate that your code works and that you have addressed the basic use case, and that you have addressed challenges 1-5."
   ]
  },
  {
   "cell_type": "code",
   "execution_count": null,
   "id": "27bc0865",
   "metadata": {},
   "outputs": [],
   "source": [
    "#pip install --upgrade pip"
   ]
  },
  {
   "cell_type": "code",
   "execution_count": 13,
   "id": "945600a5",
   "metadata": {},
   "outputs": [
    {
     "name": "stdout",
     "output_type": "stream",
     "text": [
      "Requirement already satisfied: deep_translator in /Users/jiyonglee/anaconda3/lib/python3.11/site-packages (1.11.4)\n",
      "Requirement already satisfied: beautifulsoup4<5.0.0,>=4.9.1 in /Users/jiyonglee/anaconda3/lib/python3.11/site-packages (from deep_translator) (4.12.2)\n",
      "Requirement already satisfied: requests<3.0.0,>=2.23.0 in /Users/jiyonglee/anaconda3/lib/python3.11/site-packages (from deep_translator) (2.31.0)\n",
      "Requirement already satisfied: soupsieve>1.2 in /Users/jiyonglee/anaconda3/lib/python3.11/site-packages (from beautifulsoup4<5.0.0,>=4.9.1->deep_translator) (2.4)\n",
      "Requirement already satisfied: charset-normalizer<4,>=2 in /Users/jiyonglee/anaconda3/lib/python3.11/site-packages (from requests<3.0.0,>=2.23.0->deep_translator) (2.0.4)\n",
      "Requirement already satisfied: idna<4,>=2.5 in /Users/jiyonglee/anaconda3/lib/python3.11/site-packages (from requests<3.0.0,>=2.23.0->deep_translator) (2.10)\n",
      "Requirement already satisfied: urllib3<3,>=1.21.1 in /Users/jiyonglee/anaconda3/lib/python3.11/site-packages (from requests<3.0.0,>=2.23.0->deep_translator) (1.26.16)\n",
      "Requirement already satisfied: certifi>=2017.4.17 in /Users/jiyonglee/anaconda3/lib/python3.11/site-packages (from requests<3.0.0,>=2.23.0->deep_translator) (2023.11.17)\n",
      "Note: you may need to restart the kernel to use updated packages.\n"
     ]
    }
   ],
   "source": [
    "pip install deep_translator"
   ]
  },
  {
   "cell_type": "code",
   "execution_count": 2,
   "id": "f2578542",
   "metadata": {},
   "outputs": [
    {
     "name": "stdout",
     "output_type": "stream",
     "text": [
      "Requirement already satisfied: python-datamuse in /Users/jiyonglee/anaconda3/lib/python3.11/site-packages (2.0.1)\n",
      "Requirement already satisfied: requests<3.0.0,>=2.28.1 in /Users/jiyonglee/anaconda3/lib/python3.11/site-packages (from python-datamuse) (2.31.0)\n",
      "Requirement already satisfied: charset-normalizer<4,>=2 in /Users/jiyonglee/anaconda3/lib/python3.11/site-packages (from requests<3.0.0,>=2.28.1->python-datamuse) (2.0.4)\n",
      "Requirement already satisfied: idna<4,>=2.5 in /Users/jiyonglee/anaconda3/lib/python3.11/site-packages (from requests<3.0.0,>=2.28.1->python-datamuse) (2.10)\n",
      "Requirement already satisfied: urllib3<3,>=1.21.1 in /Users/jiyonglee/anaconda3/lib/python3.11/site-packages (from requests<3.0.0,>=2.28.1->python-datamuse) (1.26.16)\n",
      "Requirement already satisfied: certifi>=2017.4.17 in /Users/jiyonglee/anaconda3/lib/python3.11/site-packages (from requests<3.0.0,>=2.28.1->python-datamuse) (2023.11.17)\n",
      "Note: you may need to restart the kernel to use updated packages.\n"
     ]
    }
   ],
   "source": [
    "pip install python-datamuse"
   ]
  },
  {
   "cell_type": "code",
   "execution_count": 24,
   "id": "6f85dcbd",
   "metadata": {},
   "outputs": [],
   "source": [
    "# for trans_q_bambara_to_french() and trans_ans_french_to_english\n",
    "from deep_translator import GoogleTranslator\n",
    "# for detect_infant_health() and detect_mango_mali()\n",
    "from datamuse import Datamuse\n",
    "api = Datamuse()"
   ]
  },
  {
   "cell_type": "code",
   "execution_count": 25,
   "id": "ec0ec9d6",
   "metadata": {},
   "outputs": [],
   "source": [
    "import csv"
   ]
  },
  {
   "cell_type": "code",
   "execution_count": 27,
   "id": "4f21899b",
   "metadata": {},
   "outputs": [],
   "source": [
    "# Making a list of words for infant health \n",
    "dict0=api.words(rel_trg='infant')\n",
    "dict1=api.words(rel_trg=['mortality', 'infant'])\n",
    "dict2=api.words(rel_trg='health')\n",
    "dict3=api.words(rel_trg='emergency') \n",
    "dict4=api.words(rel_trg='injury') \n",
    "dict5=api.words(rel_trg='disease') \n",
    "\n",
    "dict_infant_health=dict0+dict1+dict2+dict3+dict4+dict5\n",
    "\n",
    "infant_health=[]\n",
    "for i in dict_infant_health:\n",
    "    infant_health.append(i['word'])\n",
    "infant_health.append('injury')\n",
    "infant_health.append('health')\n",
    "infant_health.append('infant')\n",
    "infant_health.append('emergency')\n",
    "infant_health.append('fever')\n",
    "infant_health.append('hotline')# These words were not included, so I added at the last minute. "
   ]
  },
  {
   "cell_type": "code",
   "execution_count": 28,
   "id": "9a43f003",
   "metadata": {},
   "outputs": [],
   "source": [
    "# Translate this list of words to Bambara\n",
    "infant_health_bambara=[]\n",
    "for word in infant_health:\n",
    "    infant_health_bambara.append(GoogleTranslator(source=\"english\", target=\"bambara\").translate(text=word))"
   ]
  },
  {
   "cell_type": "code",
   "execution_count": 29,
   "id": "a13e2c2b",
   "metadata": {},
   "outputs": [],
   "source": [
    "def detect_infant_health(text): # response is in Bambara \n",
    "    \"\"\"\n",
    "    Detects if the user is calling the infant health hotline.\n",
    "    Creates a list of words from user input. \n",
    "    Checks if the list of words match any words in the infant health list created by \n",
    "    infant- and health-related words using Datamuse API. \n",
    "    If it matches, the fuction returns a correct phone number for infant health hotline. \n",
    "    If not, it does not return anything. \n",
    "    \"\"\"\n",
    "    # process text to a list\n",
    "    word_list=text.split()\n",
    "    for words in word_list:\n",
    "        if words in infant_health_bambara: # If yes, tell them it is not infant health hotline in Bambara\n",
    "            return 1 \n",
    "            break # If it detects a word related to infant or health, loop ends "
   ]
  },
  {
   "cell_type": "code",
   "execution_count": 30,
   "id": "2d740555",
   "metadata": {},
   "outputs": [],
   "source": [
    "# Making a list of words for music \n",
    "dict4=api.words(rel_trg='music', max=100) #['mortality', 'baby']\n",
    "dict5=api.words(rel_trg='live', max=100)\n",
    "dict_music = dict4+dict5\n",
    "    \n",
    "mango_mali=[]\n",
    "for i in dict_music:\n",
    "    mango_mali.append(i['word'])\n",
    "    \n",
    "mango_mali.append('music')\n",
    "mango_mali.append('live') # Added 'music' and 'live.'"
   ]
  },
  {
   "cell_type": "code",
   "execution_count": 31,
   "id": "ff7d3e33",
   "metadata": {},
   "outputs": [],
   "source": [
    "# Translate this list of words to Bambara\n",
    "mango_mali_bambara=[]\n",
    "for word in mango_mali:\n",
    "    mango_mali_bambara.append(GoogleTranslator(source=\"english\", target=\"bambara\").translate(text=word))"
   ]
  },
  {
   "cell_type": "code",
   "execution_count": 47,
   "id": "1bb1a677",
   "metadata": {},
   "outputs": [],
   "source": [
    "mango_mali_bambara.append('tikiti') # tickets\n",
    "def detect_mango_mali(text):\n",
    "    \"\"\"\n",
    "    Detects if the user is calling Mango Mali.\n",
    "    Creates a list of words from user input and checks if the list of words match \n",
    "    any words in the Mango Mali list created by music-related words using Datamuse API. \n",
    "    If it matches, the fuction returns a phone number for Mango Mali. If not, it does not return anything. \n",
    "    \"\"\"\n",
    "    word_list=text.split() # process text to a list\n",
    "    for words in word_list:\n",
    "        if words in mango_mali_bambara: # If yes, tell them it is not Mango Mali in Bambara\n",
    "            return 1\n",
    "            break # If it detects a word related to music, loop ends "
   ]
  },
  {
   "cell_type": "code",
   "execution_count": 48,
   "id": "6da2c5ac",
   "metadata": {},
   "outputs": [],
   "source": [
    "# for trans_q_bambara_to_french() and trans_ans_french_to_english\n",
    "from deep_translator import GoogleTranslator\n",
    "# for detect_infant_health() and detect_mango_mali()\n",
    "from datamuse import Datamuse\n",
    "api = Datamuse()"
   ]
  },
  {
   "cell_type": "code",
   "execution_count": 35,
   "id": "6a56eb48",
   "metadata": {},
   "outputs": [],
   "source": [
    "def trans_q_bambara_to_french(question): # question in English \n",
    "    q_bam=GoogleTranslator(source=\"english\", target=\"bambara\").translate(text=question) # translate Q to Bambara\n",
    "    ans_bam=input(q_bam) # Ask the question and get an input \n",
    "    ans_fr=GoogleTranslator(source=\"bambara\", target=\"french\").translate(text=ans_bam) # Translate answer to French \n",
    "    return ans_fr # Translate the answer to French "
   ]
  },
  {
   "cell_type": "code",
   "execution_count": 36,
   "id": "7e97fafc",
   "metadata": {},
   "outputs": [],
   "source": [
    "# speech to text \n",
    "def trans_ans_french_to_english(answer): # answer in French\n",
    "    ans_eng=GoogleTranslator(source=\"french\", target=\"english\").translate(text=answer) # Translate it to English\n",
    "    return ans_eng "
   ]
  },
  {
   "cell_type": "code",
   "execution_count": 49,
   "id": "dbe8d71e-984f-4d4d-851b-a624cb024c6a",
   "metadata": {},
   "outputs": [],
   "source": [
    "def call_function(phone_number):\n",
    "    \"\"\"\n",
    "    Checks to make sure the user is not calling infant health hotline or Mango Mali.\n",
    "    Asks questions on name, price per kilograms, and quality in Bambara.\n",
    "    (After translating the questions from English to Bambara.)\n",
    "    Then translates user input to French. (Then algorithm processes speech to text.)\n",
    "    The texts are translated to English.\n",
    "\n",
    "    - crop yield quality and prices (fact check)\n",
    "    - market prices\n",
    "    - production and quality \n",
    "\n",
    "    The output are stored in a csv file (by putting info in a row and adding each row in a csv file).\n",
    "    \"\"\"\n",
    "    \n",
    "    # Prompt in English; translates it to Bambara; ask for a response in Bambara\n",
    "    prompt_eng=\"Please start talking. : \" \n",
    "    prompt_bambara=GoogleTranslator(source=\"english\", target=\"bambara\").translate(text=prompt_eng)\n",
    "    topic_bambara=input(prompt_bambara) # got idea from Dili\n",
    "\n",
    "    # If the caller made a phone call to infant health hotline, let them know ('text' is what the caller says).\n",
    "    if detect_infant_health(topic_bambara)==1:\n",
    "        message=\"This is not the infant health hotline. Please call infant health hotline at 123-456-7899.\"\n",
    "        return GoogleTranslator(source=\"english\", target=\"bambara\").translate(text=message) #detects \"infant health hotline\" \n",
    "    \n",
    "    # If the caller made a phone call to Mango Mali, let them know.\n",
    "    if detect_mango_mali(topic_bambara)==1:\n",
    "        message=\"This is not Mango Mali. Please call Mango Mali at 123-456-7889.\"\n",
    "        return GoogleTranslator(source=\"english\", target=\"bambara\").translate(text=message) # detects \"music\" \n",
    "\n",
    "    # Ask a survey respondant's name     \n",
    "    # Ask a question; get an answer in Bambara; store it in a variable\n",
    "    q_bam=GoogleTranslator(source=\"english\", target=\"bambara\").translate(text=\"What is your name?: \") \n",
    "    answer_name_bm=input(q_bam)\n",
    "    \n",
    "    # Ask mango PRODUCTION/YIELD \n",
    "    # Ask a question; get an answer in Bambara; translate to French\n",
    "    answer_yield_fr=trans_q_bambara_to_french(\"Please report the yield of mangos in KG. : \") \n",
    "    # speech to text algorithm\n",
    "    production_ans_eng=trans_ans_french_to_english(answer_yield_fr) # Translate the answer (in French) to English \n",
    "\n",
    "    # Ask PRICE per kilograms \n",
    "    # Ask a question; get an answer in Bambara; translate to French\n",
    "    # got this 'keypad' idea from classmates\n",
    "    answer_price=int(input(\"Please report the price of mango by typing it on keypad. : \"))\n",
    "    #answer_price_fr=trans_q_bambara_to_french(\"Please report the price of mango by typing it on keypad. : \") \n",
    "    \n",
    "    # Check mean/median mango price and production in Mali \n",
    "    # Price - XOF 602.87 per kilogram\n",
    "    # Above and below 50% is 301.44 and above is 904.31 \n",
    "    # Have a conditional statement to test if their price is in the range of 482.30 and 723.44  \n",
    "    if answer_price < 301.44 or answer_price > 904.31: # Check if the price is too low or too high \n",
    "        answer_price_indicator = \"likely false\"\n",
    "    else:\n",
    "        answer_price_indicator = \"likely reliable\"\n",
    "     \n",
    "    # Ask QUALITY of mangos \n",
    "    answer_quality_fr=trans_q_bambara_to_french(\"Please rate the quality of mangos from 1 to 10. : \") \n",
    "    # speech to text algorithm\n",
    "    quality_ans_eng=trans_ans_french_to_english(answer_quality_fr) # Translate the answer (in French) to English \n",
    "    \n",
    "    # Check mean/median mango yield and production in Mali \n",
    "    # Yield - 600000 tons\n",
    "    # I could not find a figure for mango yield per farmer (or farm) but if I did, I would compare the value \n",
    "    # to the numbers the respondants report for their mango yield to see if it is in a valid range. \n",
    "    \n",
    "    # CSV file \n",
    "    # make a row (in a list)\n",
    "    user_info = [answer_name_bm, production_ans_eng, answer_price, answer_price_indicator, quality_ans_eng]\n",
    "    \n",
    "    # store it in a file called \"mango_surveys\"\n",
    "    with open('mango_surveys.csv', 'w', newline='') as file: # 'w' means write parameter \n",
    "        writer=csv.writer(file)\n",
    "        writer.writerow(['name', 'yield', 'price', 'answer_price_fr_indicator', 'quality'])\n",
    "        writer.writerow(user_info)\n",
    "        # with open(filename, 'w') as mango_surveys: "
   ]
  },
  {
   "cell_type": "code",
   "execution_count": 50,
   "id": "8a7709e0",
   "metadata": {},
   "outputs": [
    {
     "name": "stdout",
     "output_type": "stream",
     "text": [
      "Aw ye aw jija ka baro daminɛ. : 1 .tikiti ye\n"
     ]
    },
    {
     "data": {
      "text/plain": [
       "'Nin tɛ Mango Mali ye. Aw bɛ se ka Mango Mali wele telefɔni 123-456-7889.'"
      ]
     },
     "execution_count": 50,
     "metadata": {},
     "output_type": "execute_result"
    }
   ],
   "source": [
    "call_function(123456)"
   ]
  }
 ],
 "metadata": {
  "kernelspec": {
   "display_name": "Python 3 (ipykernel)",
   "language": "python",
   "name": "python3"
  },
  "language_info": {
   "codemirror_mode": {
    "name": "ipython",
    "version": 3
   },
   "file_extension": ".py",
   "mimetype": "text/x-python",
   "name": "python",
   "nbconvert_exporter": "python",
   "pygments_lexer": "ipython3",
   "version": "3.11.4"
  }
 },
 "nbformat": 4,
 "nbformat_minor": 5
}
